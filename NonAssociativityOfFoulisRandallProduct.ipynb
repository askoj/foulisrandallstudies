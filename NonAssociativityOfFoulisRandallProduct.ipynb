{
 "cells": [
  {
   "cell_type": "markdown",
   "metadata": {},
   "source": [
    "# Demonstrating Non-Associativity Of The Foulis-Randall Product\n",
    "\n",
    "Here we demonstrate non-associativity of the example presented in Subsection 4.2.3 of our paper. Highlighted in red in the results is an edge that is only found in one of the three possible Foulis-Randall products on the scenario."
   ]
  },
  {
   "cell_type": "code",
   "execution_count": 11,
   "metadata": {},
   "outputs": [
    {
     "data": {
      "text/latex": [
       "$\\displaystyle H_B \\otimes \\left (H_A \\otimes H_C \\right ) $"
      ],
      "text/plain": [
       "<IPython.core.display.Math object>"
      ]
     },
     "metadata": {},
     "output_type": "display_data"
    },
    {
     "data": {
      "text/latex": [
       "$\\displaystyle \\;\\;\\;\\; \\left \\{  \\left ( a_{1}, b_{1}, c_{1} \\right ), \\left ( a_{1}, b_{1}, c_{2} \\right ), \\left ( a_{1}, b_{2}, c_{1} \\right ), \\left ( a_{1}, b_{2}, c_{2} \\right ), \\left ( a_{2}, b_{1}, c_{1} \\right ), \\left ( a_{2}, b_{1}, c_{2} \\right ), \\left ( a_{2}, b_{2}, c_{1} \\right ), \\left ( a_{2}, b_{2}, c_{2} \\right ) \\right \\} $"
      ],
      "text/plain": [
       "<IPython.core.display.Math object>"
      ]
     },
     "metadata": {},
     "output_type": "display_data"
    },
    {
     "data": {
      "text/latex": [
       "$\\displaystyle \\;\\;\\;\\; \\left \\{  \\left ( a_{1}, b_{1}, c_{1} \\right ), \\left ( a_{1}, b_{1}, c_{2} \\right ), \\left ( a_{1}, b_{2}, c_{1} \\right ), \\left ( a_{1}, b_{2}, c_{2} \\right ), \\left ( a_{2}, b_{1}, c_{1} \\right ), \\left ( a_{2}, b_{1}, c_{2} \\right ), \\left ( a_{2}, b_{2}, c_{2} \\right ), \\left ( a_{2}, b_{2}, c_{3} \\right ) \\right \\} $"
      ],
      "text/plain": [
       "<IPython.core.display.Math object>"
      ]
     },
     "metadata": {},
     "output_type": "display_data"
    },
    {
     "data": {
      "text/latex": [
       "$\\displaystyle \\;\\;\\;\\; \\left \\{  \\left ( a_{1}, b_{1}, c_{1} \\right ), \\left ( a_{1}, b_{1}, c_{2} \\right ), \\left ( a_{1}, b_{2}, c_{1} \\right ), \\left ( a_{1}, b_{2}, c_{2} \\right ), \\left ( a_{2}, b_{1}, c_{1} \\right ), \\left ( a_{2}, b_{2}, c_{1} \\right ), \\left ( a_{2}, b_{2}, c_{2} \\right ), \\left ( a_{2}, b_{3}, c_{2} \\right ) \\right \\} $"
      ],
      "text/plain": [
       "<IPython.core.display.Math object>"
      ]
     },
     "metadata": {},
     "output_type": "display_data"
    },
    {
     "data": {
      "text/latex": [
       "$\\displaystyle \\;\\;\\;\\; \\left \\{  \\left ( a_{1}, b_{1}, c_{1} \\right ), \\left ( a_{1}, b_{1}, c_{2} \\right ), \\left ( a_{1}, b_{2}, c_{1} \\right ), \\left ( a_{1}, b_{2}, c_{2} \\right ), \\left ( a_{2}, b_{1}, c_{2} \\right ), \\left ( a_{2}, b_{1}, c_{3} \\right ), \\left ( a_{2}, b_{2}, c_{1} \\right ), \\left ( a_{2}, b_{2}, c_{2} \\right ) \\right \\} $"
      ],
      "text/plain": [
       "<IPython.core.display.Math object>"
      ]
     },
     "metadata": {},
     "output_type": "display_data"
    },
    {
     "data": {
      "text/latex": [
       "$\\displaystyle \\;\\;\\;\\; \\left \\{  \\left ( a_{1}, b_{1}, c_{1} \\right ), \\left ( a_{1}, b_{1}, c_{2} \\right ), \\left ( a_{1}, b_{2}, c_{1} \\right ), \\left ( a_{1}, b_{2}, c_{2} \\right ), \\left ( a_{2}, b_{1}, c_{2} \\right ), \\left ( a_{2}, b_{1}, c_{3} \\right ), \\left ( a_{2}, b_{2}, c_{2} \\right ), \\left ( a_{2}, b_{2}, c_{3} \\right ) \\right \\} $"
      ],
      "text/plain": [
       "<IPython.core.display.Math object>"
      ]
     },
     "metadata": {},
     "output_type": "display_data"
    },
    {
     "data": {
      "text/latex": [
       "$\\displaystyle \\;\\;\\;\\; \\left \\{  \\left ( a_{1}, b_{1}, c_{1} \\right ), \\left ( a_{1}, b_{1}, c_{2} \\right ), \\left ( a_{1}, b_{2}, c_{1} \\right ), \\left ( a_{1}, b_{2}, c_{2} \\right ), \\left ( a_{2}, b_{2}, c_{1} \\right ), \\left ( a_{2}, b_{2}, c_{2} \\right ), \\left ( a_{2}, b_{3}, c_{1} \\right ), \\left ( a_{2}, b_{3}, c_{2} \\right ) \\right \\} $"
      ],
      "text/plain": [
       "<IPython.core.display.Math object>"
      ]
     },
     "metadata": {},
     "output_type": "display_data"
    },
    {
     "data": {
      "text/latex": [
       "$\\displaystyle \\;\\;\\;\\; \\left \\{  \\left ( a_{1}, b_{1}, c_{1} \\right ), \\left ( a_{1}, b_{1}, c_{2} \\right ), \\left ( a_{1}, b_{2}, c_{1} \\right ), \\left ( a_{1}, b_{2}, c_{2} \\right ), \\left ( a_{2}, b_{2}, c_{1} \\right ), \\left ( a_{2}, b_{2}, c_{2} \\right ), \\left ( a_{2}, b_{3}, c_{2} \\right ), \\left ( a_{2}, b_{3}, c_{3} \\right ) \\right \\} $"
      ],
      "text/plain": [
       "<IPython.core.display.Math object>"
      ]
     },
     "metadata": {},
     "output_type": "display_data"
    },
    {
     "data": {
      "text/latex": [
       "$\\displaystyle \\;\\;\\;\\; \\left \\{  \\left ( a_{1}, b_{1}, c_{1} \\right ), \\left ( a_{1}, b_{1}, c_{2} \\right ), \\left ( a_{1}, b_{2}, c_{1} \\right ), \\left ( a_{1}, b_{2}, c_{2} \\right ), \\left ( a_{2}, b_{2}, c_{2} \\right ), \\left ( a_{2}, b_{2}, c_{3} \\right ), \\left ( a_{2}, b_{3}, c_{1} \\right ), \\left ( a_{2}, b_{3}, c_{2} \\right ) \\right \\} $"
      ],
      "text/plain": [
       "<IPython.core.display.Math object>"
      ]
     },
     "metadata": {},
     "output_type": "display_data"
    },
    {
     "data": {
      "text/latex": [
       "$\\displaystyle \\;\\;\\;\\; \\left \\{  \\left ( a_{1}, b_{1}, c_{1} \\right ), \\left ( a_{1}, b_{1}, c_{2} \\right ), \\left ( a_{1}, b_{2}, c_{1} \\right ), \\left ( a_{1}, b_{2}, c_{2} \\right ), \\left ( a_{2}, b_{2}, c_{2} \\right ), \\left ( a_{2}, b_{2}, c_{3} \\right ), \\left ( a_{2}, b_{3}, c_{2} \\right ), \\left ( a_{2}, b_{3}, c_{3} \\right ) \\right \\} $"
      ],
      "text/plain": [
       "<IPython.core.display.Math object>"
      ]
     },
     "metadata": {},
     "output_type": "display_data"
    },
    {
     "data": {
      "text/latex": [
       "$\\displaystyle \\;\\;\\;\\; \\left \\{  \\left ( a_{1}, b_{1}, c_{1} \\right ), \\left ( a_{1}, b_{1}, c_{2} \\right ), \\left ( a_{1}, b_{2}, c_{2} \\right ), \\left ( a_{1}, b_{2}, c_{3} \\right ), \\left ( a_{2}, b_{1}, c_{1} \\right ), \\left ( a_{2}, b_{1}, c_{2} \\right ), \\left ( a_{2}, b_{2}, c_{1} \\right ), \\left ( a_{2}, b_{2}, c_{2} \\right ) \\right \\} $"
      ],
      "text/plain": [
       "<IPython.core.display.Math object>"
      ]
     },
     "metadata": {},
     "output_type": "display_data"
    },
    {
     "data": {
      "text/latex": [
       "$\\displaystyle \\;\\;\\;\\; \\left \\{  \\left ( a_{1}, b_{1}, c_{1} \\right ), \\left ( a_{1}, b_{1}, c_{2} \\right ), \\left ( a_{1}, b_{2}, c_{2} \\right ), \\left ( a_{1}, b_{2}, c_{3} \\right ), \\left ( a_{2}, b_{1}, c_{1} \\right ), \\left ( a_{2}, b_{1}, c_{2} \\right ), \\left ( a_{2}, b_{2}, c_{2} \\right ), \\left ( a_{2}, b_{2}, c_{3} \\right ) \\right \\} $"
      ],
      "text/plain": [
       "<IPython.core.display.Math object>"
      ]
     },
     "metadata": {},
     "output_type": "display_data"
    },
    {
     "data": {
      "text/latex": [
       "$\\displaystyle \\;\\;\\;\\; \\left \\{  \\left ( a_{1}, b_{1}, c_{1} \\right ), \\left ( a_{1}, b_{1}, c_{2} \\right ), \\left ( a_{1}, b_{2}, c_{2} \\right ), \\left ( a_{1}, b_{2}, c_{3} \\right ), \\left ( a_{2}, b_{1}, c_{1} \\right ), \\left ( a_{2}, b_{2}, c_{1} \\right ), \\left ( a_{2}, b_{2}, c_{2} \\right ), \\left ( a_{2}, b_{3}, c_{2} \\right ) \\right \\} $"
      ],
      "text/plain": [
       "<IPython.core.display.Math object>"
      ]
     },
     "metadata": {},
     "output_type": "display_data"
    },
    {
     "data": {
      "text/latex": [
       "$\\displaystyle \\;\\;\\;\\; \\left \\{  \\left ( a_{1}, b_{1}, c_{1} \\right ), \\left ( a_{1}, b_{1}, c_{2} \\right ), \\left ( a_{1}, b_{2}, c_{2} \\right ), \\left ( a_{1}, b_{2}, c_{3} \\right ), \\left ( a_{2}, b_{1}, c_{2} \\right ), \\left ( a_{2}, b_{1}, c_{3} \\right ), \\left ( a_{2}, b_{2}, c_{1} \\right ), \\left ( a_{2}, b_{2}, c_{2} \\right ) \\right \\} $"
      ],
      "text/plain": [
       "<IPython.core.display.Math object>"
      ]
     },
     "metadata": {},
     "output_type": "display_data"
    },
    {
     "data": {
      "text/latex": [
       "$\\displaystyle \\;\\;\\;\\; \\left \\{  \\left ( a_{1}, b_{1}, c_{1} \\right ), \\left ( a_{1}, b_{1}, c_{2} \\right ), \\left ( a_{1}, b_{2}, c_{2} \\right ), \\left ( a_{1}, b_{2}, c_{3} \\right ), \\left ( a_{2}, b_{1}, c_{2} \\right ), \\left ( a_{2}, b_{1}, c_{3} \\right ), \\left ( a_{2}, b_{2}, c_{2} \\right ), \\left ( a_{2}, b_{2}, c_{3} \\right ) \\right \\} $"
      ],
      "text/plain": [
       "<IPython.core.display.Math object>"
      ]
     },
     "metadata": {},
     "output_type": "display_data"
    },
    {
     "data": {
      "text/latex": [
       "$\\displaystyle \\;\\;\\;\\; \\left \\{  \\left ( a_{1}, b_{1}, c_{1} \\right ), \\left ( a_{1}, b_{1}, c_{2} \\right ), \\left ( a_{1}, b_{2}, c_{2} \\right ), \\left ( a_{1}, b_{2}, c_{3} \\right ), \\left ( a_{2}, b_{2}, c_{1} \\right ), \\left ( a_{2}, b_{2}, c_{2} \\right ), \\left ( a_{2}, b_{3}, c_{1} \\right ), \\left ( a_{2}, b_{3}, c_{2} \\right ) \\right \\} $"
      ],
      "text/plain": [
       "<IPython.core.display.Math object>"
      ]
     },
     "metadata": {},
     "output_type": "display_data"
    },
    {
     "data": {
      "text/latex": [
       "$\\displaystyle \\;\\;\\;\\; \\left \\{  \\left ( a_{1}, b_{1}, c_{1} \\right ), \\left ( a_{1}, b_{1}, c_{2} \\right ), \\left ( a_{1}, b_{2}, c_{2} \\right ), \\left ( a_{1}, b_{2}, c_{3} \\right ), \\left ( a_{2}, b_{2}, c_{1} \\right ), \\left ( a_{2}, b_{2}, c_{2} \\right ), \\left ( a_{2}, b_{3}, c_{2} \\right ), \\left ( a_{2}, b_{3}, c_{3} \\right ) \\right \\} $"
      ],
      "text/plain": [
       "<IPython.core.display.Math object>"
      ]
     },
     "metadata": {},
     "output_type": "display_data"
    },
    {
     "data": {
      "text/latex": [
       "$\\displaystyle \\;\\;\\;\\; \\left \\{  \\left ( a_{1}, b_{1}, c_{1} \\right ), \\left ( a_{1}, b_{1}, c_{2} \\right ), \\left ( a_{1}, b_{2}, c_{2} \\right ), \\left ( a_{1}, b_{2}, c_{3} \\right ), \\left ( a_{2}, b_{2}, c_{2} \\right ), \\left ( a_{2}, b_{2}, c_{3} \\right ), \\left ( a_{2}, b_{3}, c_{1} \\right ), \\left ( a_{2}, b_{3}, c_{2} \\right ) \\right \\} $"
      ],
      "text/plain": [
       "<IPython.core.display.Math object>"
      ]
     },
     "metadata": {},
     "output_type": "display_data"
    },
    {
     "data": {
      "text/latex": [
       "$\\displaystyle \\;\\;\\;\\; \\left \\{  \\left ( a_{1}, b_{1}, c_{1} \\right ), \\left ( a_{1}, b_{1}, c_{2} \\right ), \\left ( a_{1}, b_{2}, c_{2} \\right ), \\left ( a_{1}, b_{2}, c_{3} \\right ), \\left ( a_{2}, b_{2}, c_{2} \\right ), \\left ( a_{2}, b_{2}, c_{3} \\right ), \\left ( a_{2}, b_{3}, c_{2} \\right ), \\left ( a_{2}, b_{3}, c_{3} \\right ) \\right \\} $"
      ],
      "text/plain": [
       "<IPython.core.display.Math object>"
      ]
     },
     "metadata": {},
     "output_type": "display_data"
    },
    {
     "data": {
      "text/latex": [
       "$\\displaystyle \\;\\;\\;\\; \\left \\{  \\left ( a_{1}, b_{1}, c_{1} \\right ), \\left ( a_{1}, b_{2}, c_{1} \\right ), \\left ( a_{1}, b_{2}, c_{2} \\right ), \\left ( a_{1}, b_{3}, c_{2} \\right ), \\left ( a_{2}, b_{1}, c_{1} \\right ), \\left ( a_{2}, b_{1}, c_{2} \\right ), \\left ( a_{2}, b_{2}, c_{1} \\right ), \\left ( a_{2}, b_{2}, c_{2} \\right ) \\right \\} $"
      ],
      "text/plain": [
       "<IPython.core.display.Math object>"
      ]
     },
     "metadata": {},
     "output_type": "display_data"
    },
    {
     "data": {
      "text/latex": [
       "$\\displaystyle \\;\\;\\;\\; \\left \\{  \\left ( a_{1}, b_{1}, c_{1} \\right ), \\left ( a_{1}, b_{2}, c_{1} \\right ), \\left ( a_{1}, b_{2}, c_{2} \\right ), \\left ( a_{1}, b_{3}, c_{2} \\right ), \\left ( a_{2}, b_{1}, c_{1} \\right ), \\left ( a_{2}, b_{1}, c_{2} \\right ), \\left ( a_{2}, b_{2}, c_{2} \\right ), \\left ( a_{2}, b_{2}, c_{3} \\right ) \\right \\} $"
      ],
      "text/plain": [
       "<IPython.core.display.Math object>"
      ]
     },
     "metadata": {},
     "output_type": "display_data"
    },
    {
     "data": {
      "text/latex": [
       "$\\displaystyle \\;\\;\\;\\; \\left \\{  \\left ( a_{1}, b_{1}, c_{1} \\right ), \\left ( a_{1}, b_{2}, c_{1} \\right ), \\left ( a_{1}, b_{2}, c_{2} \\right ), \\left ( a_{1}, b_{3}, c_{2} \\right ), \\left ( a_{2}, b_{1}, c_{1} \\right ), \\left ( a_{2}, b_{2}, c_{1} \\right ), \\left ( a_{2}, b_{2}, c_{2} \\right ), \\left ( a_{2}, b_{3}, c_{2} \\right ) \\right \\} $"
      ],
      "text/plain": [
       "<IPython.core.display.Math object>"
      ]
     },
     "metadata": {},
     "output_type": "display_data"
    },
    {
     "data": {
      "text/latex": [
       "$\\displaystyle \\;\\;\\;\\; \\left \\{  \\left ( a_{1}, b_{1}, c_{1} \\right ), \\left ( a_{1}, b_{2}, c_{1} \\right ), \\left ( a_{1}, b_{2}, c_{2} \\right ), \\left ( a_{1}, b_{3}, c_{2} \\right ), \\left ( a_{2}, b_{1}, c_{2} \\right ), \\left ( a_{2}, b_{1}, c_{3} \\right ), \\left ( a_{2}, b_{2}, c_{1} \\right ), \\left ( a_{2}, b_{2}, c_{2} \\right ) \\right \\} $"
      ],
      "text/plain": [
       "<IPython.core.display.Math object>"
      ]
     },
     "metadata": {},
     "output_type": "display_data"
    },
    {
     "data": {
      "text/latex": [
       "$\\displaystyle \\;\\;\\;\\; \\left \\{  \\left ( a_{1}, b_{1}, c_{1} \\right ), \\left ( a_{1}, b_{2}, c_{1} \\right ), \\left ( a_{1}, b_{2}, c_{2} \\right ), \\left ( a_{1}, b_{3}, c_{2} \\right ), \\left ( a_{2}, b_{1}, c_{2} \\right ), \\left ( a_{2}, b_{1}, c_{3} \\right ), \\left ( a_{2}, b_{2}, c_{2} \\right ), \\left ( a_{2}, b_{2}, c_{3} \\right ) \\right \\} $"
      ],
      "text/plain": [
       "<IPython.core.display.Math object>"
      ]
     },
     "metadata": {},
     "output_type": "display_data"
    },
    {
     "data": {
      "text/latex": [
       "$\\displaystyle \\;\\;\\;\\; \\left \\{  \\left ( a_{1}, b_{1}, c_{1} \\right ), \\left ( a_{1}, b_{2}, c_{1} \\right ), \\left ( a_{1}, b_{2}, c_{2} \\right ), \\left ( a_{1}, b_{3}, c_{2} \\right ), \\left ( a_{2}, b_{2}, c_{1} \\right ), \\left ( a_{2}, b_{2}, c_{2} \\right ), \\left ( a_{2}, b_{3}, c_{1} \\right ), \\left ( a_{2}, b_{3}, c_{2} \\right ) \\right \\} $"
      ],
      "text/plain": [
       "<IPython.core.display.Math object>"
      ]
     },
     "metadata": {},
     "output_type": "display_data"
    },
    {
     "data": {
      "text/latex": [
       "$\\displaystyle \\;\\;\\;\\; \\left \\{  \\left ( a_{1}, b_{1}, c_{1} \\right ), \\left ( a_{1}, b_{2}, c_{1} \\right ), \\left ( a_{1}, b_{2}, c_{2} \\right ), \\left ( a_{1}, b_{3}, c_{2} \\right ), \\left ( a_{2}, b_{2}, c_{1} \\right ), \\left ( a_{2}, b_{2}, c_{2} \\right ), \\left ( a_{2}, b_{3}, c_{2} \\right ), \\left ( a_{2}, b_{3}, c_{3} \\right ) \\right \\} $"
      ],
      "text/plain": [
       "<IPython.core.display.Math object>"
      ]
     },
     "metadata": {},
     "output_type": "display_data"
    },
    {
     "data": {
      "text/latex": [
       "$\\displaystyle \\;\\;\\;\\; \\left \\{  \\left ( a_{1}, b_{1}, c_{1} \\right ), \\left ( a_{1}, b_{2}, c_{1} \\right ), \\left ( a_{1}, b_{2}, c_{2} \\right ), \\left ( a_{1}, b_{3}, c_{2} \\right ), \\left ( a_{2}, b_{2}, c_{2} \\right ), \\left ( a_{2}, b_{2}, c_{3} \\right ), \\left ( a_{2}, b_{3}, c_{1} \\right ), \\left ( a_{2}, b_{3}, c_{2} \\right ) \\right \\} $"
      ],
      "text/plain": [
       "<IPython.core.display.Math object>"
      ]
     },
     "metadata": {},
     "output_type": "display_data"
    },
    {
     "data": {
      "text/latex": [
       "$\\displaystyle \\;\\;\\;\\; \\left \\{  \\left ( a_{1}, b_{1}, c_{1} \\right ), \\left ( a_{1}, b_{2}, c_{1} \\right ), \\left ( a_{1}, b_{2}, c_{2} \\right ), \\left ( a_{1}, b_{3}, c_{2} \\right ), \\left ( a_{2}, b_{2}, c_{2} \\right ), \\left ( a_{2}, b_{2}, c_{3} \\right ), \\left ( a_{2}, b_{3}, c_{2} \\right ), \\left ( a_{2}, b_{3}, c_{3} \\right ) \\right \\} $"
      ],
      "text/plain": [
       "<IPython.core.display.Math object>"
      ]
     },
     "metadata": {},
     "output_type": "display_data"
    },
    {
     "data": {
      "text/latex": [
       "$\\displaystyle \\;\\;\\;\\; \\left \\{  \\left ( a_{1}, b_{1}, c_{2} \\right ), \\left ( a_{1}, b_{1}, c_{3} \\right ), \\left ( a_{1}, b_{2}, c_{1} \\right ), \\left ( a_{1}, b_{2}, c_{2} \\right ), \\left ( a_{2}, b_{1}, c_{1} \\right ), \\left ( a_{2}, b_{1}, c_{2} \\right ), \\left ( a_{2}, b_{2}, c_{1} \\right ), \\left ( a_{2}, b_{2}, c_{2} \\right ) \\right \\} $"
      ],
      "text/plain": [
       "<IPython.core.display.Math object>"
      ]
     },
     "metadata": {},
     "output_type": "display_data"
    },
    {
     "data": {
      "text/latex": [
       "$\\displaystyle \\;\\;\\;\\; \\left \\{  \\left ( a_{1}, b_{1}, c_{2} \\right ), \\left ( a_{1}, b_{1}, c_{3} \\right ), \\left ( a_{1}, b_{2}, c_{1} \\right ), \\left ( a_{1}, b_{2}, c_{2} \\right ), \\left ( a_{2}, b_{1}, c_{1} \\right ), \\left ( a_{2}, b_{1}, c_{2} \\right ), \\left ( a_{2}, b_{2}, c_{2} \\right ), \\left ( a_{2}, b_{2}, c_{3} \\right ) \\right \\} $"
      ],
      "text/plain": [
       "<IPython.core.display.Math object>"
      ]
     },
     "metadata": {},
     "output_type": "display_data"
    },
    {
     "data": {
      "text/latex": [
       "$\\displaystyle \\;\\;\\;\\; \\left \\{  \\left ( a_{1}, b_{1}, c_{2} \\right ), \\left ( a_{1}, b_{1}, c_{3} \\right ), \\left ( a_{1}, b_{2}, c_{1} \\right ), \\left ( a_{1}, b_{2}, c_{2} \\right ), \\left ( a_{2}, b_{1}, c_{1} \\right ), \\left ( a_{2}, b_{2}, c_{1} \\right ), \\left ( a_{2}, b_{2}, c_{2} \\right ), \\left ( a_{2}, b_{3}, c_{2} \\right ) \\right \\} $"
      ],
      "text/plain": [
       "<IPython.core.display.Math object>"
      ]
     },
     "metadata": {},
     "output_type": "display_data"
    },
    {
     "data": {
      "text/latex": [
       "$\\displaystyle \\;\\;\\;\\; \\left \\{  \\left ( a_{1}, b_{1}, c_{2} \\right ), \\left ( a_{1}, b_{1}, c_{3} \\right ), \\left ( a_{1}, b_{2}, c_{1} \\right ), \\left ( a_{1}, b_{2}, c_{2} \\right ), \\left ( a_{2}, b_{1}, c_{2} \\right ), \\left ( a_{2}, b_{1}, c_{3} \\right ), \\left ( a_{2}, b_{2}, c_{1} \\right ), \\left ( a_{2}, b_{2}, c_{2} \\right ) \\right \\} $"
      ],
      "text/plain": [
       "<IPython.core.display.Math object>"
      ]
     },
     "metadata": {},
     "output_type": "display_data"
    },
    {
     "data": {
      "text/latex": [
       "$\\displaystyle \\;\\;\\;\\; \\left \\{  \\left ( a_{1}, b_{1}, c_{2} \\right ), \\left ( a_{1}, b_{1}, c_{3} \\right ), \\left ( a_{1}, b_{2}, c_{1} \\right ), \\left ( a_{1}, b_{2}, c_{2} \\right ), \\left ( a_{2}, b_{1}, c_{2} \\right ), \\left ( a_{2}, b_{1}, c_{3} \\right ), \\left ( a_{2}, b_{2}, c_{2} \\right ), \\left ( a_{2}, b_{2}, c_{3} \\right ) \\right \\} $"
      ],
      "text/plain": [
       "<IPython.core.display.Math object>"
      ]
     },
     "metadata": {},
     "output_type": "display_data"
    },
    {
     "data": {
      "text/latex": [
       "$\\displaystyle \\;\\;\\;\\; \\left \\{  \\left ( a_{1}, b_{1}, c_{2} \\right ), \\left ( a_{1}, b_{1}, c_{3} \\right ), \\left ( a_{1}, b_{2}, c_{1} \\right ), \\left ( a_{1}, b_{2}, c_{2} \\right ), \\left ( a_{2}, b_{2}, c_{1} \\right ), \\left ( a_{2}, b_{2}, c_{2} \\right ), \\left ( a_{2}, b_{3}, c_{1} \\right ), \\left ( a_{2}, b_{3}, c_{2} \\right ) \\right \\} $"
      ],
      "text/plain": [
       "<IPython.core.display.Math object>"
      ]
     },
     "metadata": {},
     "output_type": "display_data"
    },
    {
     "data": {
      "text/latex": [
       "$\\displaystyle \\;\\;\\;\\; \\left \\{  \\left ( a_{1}, b_{1}, c_{2} \\right ), \\left ( a_{1}, b_{1}, c_{3} \\right ), \\left ( a_{1}, b_{2}, c_{1} \\right ), \\left ( a_{1}, b_{2}, c_{2} \\right ), \\left ( a_{2}, b_{2}, c_{1} \\right ), \\left ( a_{2}, b_{2}, c_{2} \\right ), \\left ( a_{2}, b_{3}, c_{2} \\right ), \\left ( a_{2}, b_{3}, c_{3} \\right ) \\right \\} $"
      ],
      "text/plain": [
       "<IPython.core.display.Math object>"
      ]
     },
     "metadata": {},
     "output_type": "display_data"
    },
    {
     "data": {
      "text/latex": [
       "$\\displaystyle \\;\\;\\;\\; \\left \\{  \\left ( a_{1}, b_{1}, c_{2} \\right ), \\left ( a_{1}, b_{1}, c_{3} \\right ), \\left ( a_{1}, b_{2}, c_{1} \\right ), \\left ( a_{1}, b_{2}, c_{2} \\right ), \\left ( a_{2}, b_{2}, c_{2} \\right ), \\left ( a_{2}, b_{2}, c_{3} \\right ), \\left ( a_{2}, b_{3}, c_{1} \\right ), \\left ( a_{2}, b_{3}, c_{2} \\right ) \\right \\} $"
      ],
      "text/plain": [
       "<IPython.core.display.Math object>"
      ]
     },
     "metadata": {},
     "output_type": "display_data"
    },
    {
     "data": {
      "text/latex": [
       "$\\displaystyle \\;\\;\\;\\; \\left \\{  \\left ( a_{1}, b_{1}, c_{2} \\right ), \\left ( a_{1}, b_{1}, c_{3} \\right ), \\left ( a_{1}, b_{2}, c_{1} \\right ), \\left ( a_{1}, b_{2}, c_{2} \\right ), \\left ( a_{2}, b_{2}, c_{2} \\right ), \\left ( a_{2}, b_{2}, c_{3} \\right ), \\left ( a_{2}, b_{3}, c_{2} \\right ), \\left ( a_{2}, b_{3}, c_{3} \\right ) \\right \\} $"
      ],
      "text/plain": [
       "<IPython.core.display.Math object>"
      ]
     },
     "metadata": {},
     "output_type": "display_data"
    },
    {
     "data": {
      "text/latex": [
       "$\\displaystyle \\;\\;\\;\\; \\left \\{  \\left ( a_{1}, b_{1}, c_{2} \\right ), \\left ( a_{1}, b_{1}, c_{3} \\right ), \\left ( a_{1}, b_{2}, c_{2} \\right ), \\left ( a_{1}, b_{2}, c_{3} \\right ), \\left ( a_{2}, b_{1}, c_{1} \\right ), \\left ( a_{2}, b_{1}, c_{2} \\right ), \\left ( a_{2}, b_{2}, c_{1} \\right ), \\left ( a_{2}, b_{2}, c_{2} \\right ) \\right \\} $"
      ],
      "text/plain": [
       "<IPython.core.display.Math object>"
      ]
     },
     "metadata": {},
     "output_type": "display_data"
    },
    {
     "data": {
      "text/latex": [
       "$\\displaystyle \\;\\;\\;\\; \\left \\{  \\left ( a_{1}, b_{1}, c_{2} \\right ), \\left ( a_{1}, b_{1}, c_{3} \\right ), \\left ( a_{1}, b_{2}, c_{2} \\right ), \\left ( a_{1}, b_{2}, c_{3} \\right ), \\left ( a_{2}, b_{1}, c_{1} \\right ), \\left ( a_{2}, b_{1}, c_{2} \\right ), \\left ( a_{2}, b_{2}, c_{2} \\right ), \\left ( a_{2}, b_{2}, c_{3} \\right ) \\right \\} $"
      ],
      "text/plain": [
       "<IPython.core.display.Math object>"
      ]
     },
     "metadata": {},
     "output_type": "display_data"
    },
    {
     "data": {
      "text/latex": [
       "$\\displaystyle \\;\\;\\;\\; \\left \\{  \\left ( a_{1}, b_{1}, c_{2} \\right ), \\left ( a_{1}, b_{1}, c_{3} \\right ), \\left ( a_{1}, b_{2}, c_{2} \\right ), \\left ( a_{1}, b_{2}, c_{3} \\right ), \\left ( a_{2}, b_{1}, c_{1} \\right ), \\left ( a_{2}, b_{2}, c_{1} \\right ), \\left ( a_{2}, b_{2}, c_{2} \\right ), \\left ( a_{2}, b_{3}, c_{2} \\right ) \\right \\} $"
      ],
      "text/plain": [
       "<IPython.core.display.Math object>"
      ]
     },
     "metadata": {},
     "output_type": "display_data"
    },
    {
     "data": {
      "text/latex": [
       "$\\displaystyle \\;\\;\\;\\; \\left \\{  \\left ( a_{1}, b_{1}, c_{2} \\right ), \\left ( a_{1}, b_{1}, c_{3} \\right ), \\left ( a_{1}, b_{2}, c_{2} \\right ), \\left ( a_{1}, b_{2}, c_{3} \\right ), \\left ( a_{2}, b_{1}, c_{2} \\right ), \\left ( a_{2}, b_{1}, c_{3} \\right ), \\left ( a_{2}, b_{2}, c_{1} \\right ), \\left ( a_{2}, b_{2}, c_{2} \\right ) \\right \\} $"
      ],
      "text/plain": [
       "<IPython.core.display.Math object>"
      ]
     },
     "metadata": {},
     "output_type": "display_data"
    },
    {
     "data": {
      "text/latex": [
       "$\\displaystyle \\;\\;\\;\\; \\left \\{  \\left ( a_{1}, b_{1}, c_{2} \\right ), \\left ( a_{1}, b_{1}, c_{3} \\right ), \\left ( a_{1}, b_{2}, c_{2} \\right ), \\left ( a_{1}, b_{2}, c_{3} \\right ), \\left ( a_{2}, b_{1}, c_{2} \\right ), \\left ( a_{2}, b_{1}, c_{3} \\right ), \\left ( a_{2}, b_{2}, c_{2} \\right ), \\left ( a_{2}, b_{2}, c_{3} \\right ) \\right \\} $"
      ],
      "text/plain": [
       "<IPython.core.display.Math object>"
      ]
     },
     "metadata": {},
     "output_type": "display_data"
    },
    {
     "data": {
      "text/latex": [
       "$\\displaystyle \\;\\;\\;\\; \\left \\{  \\left ( a_{1}, b_{1}, c_{2} \\right ), \\left ( a_{1}, b_{1}, c_{3} \\right ), \\left ( a_{1}, b_{2}, c_{2} \\right ), \\left ( a_{1}, b_{2}, c_{3} \\right ), \\left ( a_{2}, b_{2}, c_{1} \\right ), \\left ( a_{2}, b_{2}, c_{2} \\right ), \\left ( a_{2}, b_{3}, c_{1} \\right ), \\left ( a_{2}, b_{3}, c_{2} \\right ) \\right \\} $"
      ],
      "text/plain": [
       "<IPython.core.display.Math object>"
      ]
     },
     "metadata": {},
     "output_type": "display_data"
    },
    {
     "data": {
      "text/latex": [
       "$\\displaystyle \\;\\;\\;\\; \\left \\{  \\left ( a_{1}, b_{1}, c_{2} \\right ), \\left ( a_{1}, b_{1}, c_{3} \\right ), \\left ( a_{1}, b_{2}, c_{2} \\right ), \\left ( a_{1}, b_{2}, c_{3} \\right ), \\left ( a_{2}, b_{2}, c_{1} \\right ), \\left ( a_{2}, b_{2}, c_{2} \\right ), \\left ( a_{2}, b_{3}, c_{2} \\right ), \\left ( a_{2}, b_{3}, c_{3} \\right ) \\right \\} $"
      ],
      "text/plain": [
       "<IPython.core.display.Math object>"
      ]
     },
     "metadata": {},
     "output_type": "display_data"
    },
    {
     "data": {
      "text/latex": [
       "$\\displaystyle \\;\\;\\;\\; \\left \\{  \\left ( a_{1}, b_{1}, c_{2} \\right ), \\left ( a_{1}, b_{1}, c_{3} \\right ), \\left ( a_{1}, b_{2}, c_{2} \\right ), \\left ( a_{1}, b_{2}, c_{3} \\right ), \\left ( a_{2}, b_{2}, c_{2} \\right ), \\left ( a_{2}, b_{2}, c_{3} \\right ), \\left ( a_{2}, b_{3}, c_{1} \\right ), \\left ( a_{2}, b_{3}, c_{2} \\right ) \\right \\} $"
      ],
      "text/plain": [
       "<IPython.core.display.Math object>"
      ]
     },
     "metadata": {},
     "output_type": "display_data"
    },
    {
     "data": {
      "text/latex": [
       "$\\displaystyle \\;\\;\\;\\; \\left \\{  \\left ( a_{1}, b_{1}, c_{2} \\right ), \\left ( a_{1}, b_{1}, c_{3} \\right ), \\left ( a_{1}, b_{2}, c_{2} \\right ), \\left ( a_{1}, b_{2}, c_{3} \\right ), \\left ( a_{2}, b_{2}, c_{2} \\right ), \\left ( a_{2}, b_{2}, c_{3} \\right ), \\left ( a_{2}, b_{3}, c_{2} \\right ), \\left ( a_{2}, b_{3}, c_{3} \\right ) \\right \\} $"
      ],
      "text/plain": [
       "<IPython.core.display.Math object>"
      ]
     },
     "metadata": {},
     "output_type": "display_data"
    },
    {
     "data": {
      "text/latex": [
       "$\\displaystyle \\;\\;\\;\\; \\left \\{  \\left ( a_{1}, b_{1}, c_{2} \\right ), \\left ( a_{1}, b_{2}, c_{1} \\right ), \\left ( a_{1}, b_{2}, c_{2} \\right ), \\left ( a_{1}, b_{3}, c_{1} \\right ), \\left ( a_{2}, b_{1}, c_{2} \\right ), \\left ( a_{2}, b_{2}, c_{1} \\right ), \\left ( a_{2}, b_{2}, c_{2} \\right ), \\left ( a_{2}, b_{3}, c_{1} \\right ) \\right \\} $"
      ],
      "text/plain": [
       "<IPython.core.display.Math object>"
      ]
     },
     "metadata": {},
     "output_type": "display_data"
    },
    {
     "data": {
      "text/latex": [
       "$\\displaystyle \\;\\;\\;\\; \\left \\{  \\left ( a_{1}, b_{1}, c_{2} \\right ), \\left ( a_{1}, b_{2}, c_{2} \\right ), \\left ( a_{1}, b_{2}, c_{3} \\right ), \\left ( a_{1}, b_{3}, c_{3} \\right ), \\left ( a_{2}, b_{1}, c_{2} \\right ), \\left ( a_{2}, b_{2}, c_{2} \\right ), \\left ( a_{2}, b_{2}, c_{3} \\right ), \\left ( a_{2}, b_{3}, c_{3} \\right ) \\right \\} $"
      ],
      "text/plain": [
       "<IPython.core.display.Math object>"
      ]
     },
     "metadata": {},
     "output_type": "display_data"
    },
    {
     "data": {
      "text/latex": [
       "$\\displaystyle \\;\\;\\;\\; \\left \\{  \\left ( a_{1}, b_{1}, c_{3} \\right ), \\left ( a_{1}, b_{2}, c_{2} \\right ), \\left ( a_{1}, b_{2}, c_{3} \\right ), \\left ( a_{1}, b_{3}, c_{2} \\right ), \\left ( a_{2}, b_{1}, c_{3} \\right ), \\left ( a_{2}, b_{2}, c_{2} \\right ), \\left ( a_{2}, b_{2}, c_{3} \\right ), \\left ( a_{2}, b_{3}, c_{2} \\right ) \\right \\} $"
      ],
      "text/plain": [
       "<IPython.core.display.Math object>"
      ]
     },
     "metadata": {},
     "output_type": "display_data"
    },
    {
     "data": {
      "text/latex": [
       "$\\displaystyle \\;\\;\\;\\; \\left \\{  \\left ( a_{1}, b_{2}, c_{1} \\right ), \\left ( a_{1}, b_{2}, c_{2} \\right ), \\left ( a_{1}, b_{3}, c_{1} \\right ), \\left ( a_{1}, b_{3}, c_{2} \\right ), \\left ( a_{2}, b_{1}, c_{1} \\right ), \\left ( a_{2}, b_{1}, c_{2} \\right ), \\left ( a_{2}, b_{2}, c_{1} \\right ), \\left ( a_{2}, b_{2}, c_{2} \\right ) \\right \\} $"
      ],
      "text/plain": [
       "<IPython.core.display.Math object>"
      ]
     },
     "metadata": {},
     "output_type": "display_data"
    },
    {
     "data": {
      "text/latex": [
       "$\\displaystyle \\;\\;\\;\\; \\left \\{  \\left ( a_{1}, b_{2}, c_{1} \\right ), \\left ( a_{1}, b_{2}, c_{2} \\right ), \\left ( a_{1}, b_{3}, c_{1} \\right ), \\left ( a_{1}, b_{3}, c_{2} \\right ), \\left ( a_{2}, b_{1}, c_{1} \\right ), \\left ( a_{2}, b_{1}, c_{2} \\right ), \\left ( a_{2}, b_{2}, c_{2} \\right ), \\left ( a_{2}, b_{2}, c_{3} \\right ) \\right \\} $"
      ],
      "text/plain": [
       "<IPython.core.display.Math object>"
      ]
     },
     "metadata": {},
     "output_type": "display_data"
    },
    {
     "data": {
      "text/latex": [
       "$\\displaystyle \\;\\;\\;\\; \\left \\{  \\left ( a_{1}, b_{2}, c_{1} \\right ), \\left ( a_{1}, b_{2}, c_{2} \\right ), \\left ( a_{1}, b_{3}, c_{1} \\right ), \\left ( a_{1}, b_{3}, c_{2} \\right ), \\left ( a_{2}, b_{1}, c_{1} \\right ), \\left ( a_{2}, b_{2}, c_{1} \\right ), \\left ( a_{2}, b_{2}, c_{2} \\right ), \\left ( a_{2}, b_{3}, c_{2} \\right ) \\right \\} $"
      ],
      "text/plain": [
       "<IPython.core.display.Math object>"
      ]
     },
     "metadata": {},
     "output_type": "display_data"
    },
    {
     "data": {
      "text/latex": [
       "$\\displaystyle \\;\\;\\;\\; \\left \\{  \\left ( a_{1}, b_{2}, c_{1} \\right ), \\left ( a_{1}, b_{2}, c_{2} \\right ), \\left ( a_{1}, b_{3}, c_{1} \\right ), \\left ( a_{1}, b_{3}, c_{2} \\right ), \\left ( a_{2}, b_{1}, c_{2} \\right ), \\left ( a_{2}, b_{1}, c_{3} \\right ), \\left ( a_{2}, b_{2}, c_{1} \\right ), \\left ( a_{2}, b_{2}, c_{2} \\right ) \\right \\} $"
      ],
      "text/plain": [
       "<IPython.core.display.Math object>"
      ]
     },
     "metadata": {},
     "output_type": "display_data"
    },
    {
     "data": {
      "text/latex": [
       "$\\displaystyle \\;\\;\\;\\; \\left \\{  \\left ( a_{1}, b_{2}, c_{1} \\right ), \\left ( a_{1}, b_{2}, c_{2} \\right ), \\left ( a_{1}, b_{3}, c_{1} \\right ), \\left ( a_{1}, b_{3}, c_{2} \\right ), \\left ( a_{2}, b_{1}, c_{2} \\right ), \\left ( a_{2}, b_{1}, c_{3} \\right ), \\left ( a_{2}, b_{2}, c_{2} \\right ), \\left ( a_{2}, b_{2}, c_{3} \\right ) \\right \\} $"
      ],
      "text/plain": [
       "<IPython.core.display.Math object>"
      ]
     },
     "metadata": {},
     "output_type": "display_data"
    },
    {
     "data": {
      "text/latex": [
       "$\\displaystyle \\;\\;\\;\\; \\left \\{  \\left ( a_{1}, b_{2}, c_{1} \\right ), \\left ( a_{1}, b_{2}, c_{2} \\right ), \\left ( a_{1}, b_{3}, c_{1} \\right ), \\left ( a_{1}, b_{3}, c_{2} \\right ), \\left ( a_{2}, b_{2}, c_{1} \\right ), \\left ( a_{2}, b_{2}, c_{2} \\right ), \\left ( a_{2}, b_{3}, c_{1} \\right ), \\left ( a_{2}, b_{3}, c_{2} \\right ) \\right \\} $"
      ],
      "text/plain": [
       "<IPython.core.display.Math object>"
      ]
     },
     "metadata": {},
     "output_type": "display_data"
    },
    {
     "data": {
      "text/latex": [
       "$\\displaystyle \\;\\;\\;\\; \\left \\{  \\left ( a_{1}, b_{2}, c_{1} \\right ), \\left ( a_{1}, b_{2}, c_{2} \\right ), \\left ( a_{1}, b_{3}, c_{1} \\right ), \\left ( a_{1}, b_{3}, c_{2} \\right ), \\left ( a_{2}, b_{2}, c_{1} \\right ), \\left ( a_{2}, b_{2}, c_{2} \\right ), \\left ( a_{2}, b_{3}, c_{2} \\right ), \\left ( a_{2}, b_{3}, c_{3} \\right ) \\right \\} $"
      ],
      "text/plain": [
       "<IPython.core.display.Math object>"
      ]
     },
     "metadata": {},
     "output_type": "display_data"
    },
    {
     "data": {
      "text/latex": [
       "$\\displaystyle \\;\\;\\;\\; \\left \\{  \\left ( a_{1}, b_{2}, c_{1} \\right ), \\left ( a_{1}, b_{2}, c_{2} \\right ), \\left ( a_{1}, b_{3}, c_{1} \\right ), \\left ( a_{1}, b_{3}, c_{2} \\right ), \\left ( a_{2}, b_{2}, c_{2} \\right ), \\left ( a_{2}, b_{2}, c_{3} \\right ), \\left ( a_{2}, b_{3}, c_{1} \\right ), \\left ( a_{2}, b_{3}, c_{2} \\right ) \\right \\} $"
      ],
      "text/plain": [
       "<IPython.core.display.Math object>"
      ]
     },
     "metadata": {},
     "output_type": "display_data"
    },
    {
     "data": {
      "text/latex": [
       "$\\displaystyle \\;\\;\\;\\; \\left \\{  \\left ( a_{1}, b_{2}, c_{1} \\right ), \\left ( a_{1}, b_{2}, c_{2} \\right ), \\left ( a_{1}, b_{3}, c_{1} \\right ), \\left ( a_{1}, b_{3}, c_{2} \\right ), \\left ( a_{2}, b_{2}, c_{2} \\right ), \\left ( a_{2}, b_{2}, c_{3} \\right ), \\left ( a_{2}, b_{3}, c_{2} \\right ), \\left ( a_{2}, b_{3}, c_{3} \\right ) \\right \\} $"
      ],
      "text/plain": [
       "<IPython.core.display.Math object>"
      ]
     },
     "metadata": {},
     "output_type": "display_data"
    },
    {
     "data": {
      "text/latex": [
       "$\\displaystyle \\;\\;\\;\\; \\left \\{  \\left ( a_{1}, b_{2}, c_{1} \\right ), \\left ( a_{1}, b_{2}, c_{2} \\right ), \\left ( a_{1}, b_{3}, c_{2} \\right ), \\left ( a_{1}, b_{3}, c_{3} \\right ), \\left ( a_{2}, b_{1}, c_{1} \\right ), \\left ( a_{2}, b_{1}, c_{2} \\right ), \\left ( a_{2}, b_{2}, c_{1} \\right ), \\left ( a_{2}, b_{2}, c_{2} \\right ) \\right \\} $"
      ],
      "text/plain": [
       "<IPython.core.display.Math object>"
      ]
     },
     "metadata": {},
     "output_type": "display_data"
    },
    {
     "data": {
      "text/latex": [
       "$\\displaystyle \\;\\;\\;\\; \\left \\{  \\left ( a_{1}, b_{2}, c_{1} \\right ), \\left ( a_{1}, b_{2}, c_{2} \\right ), \\left ( a_{1}, b_{3}, c_{2} \\right ), \\left ( a_{1}, b_{3}, c_{3} \\right ), \\left ( a_{2}, b_{1}, c_{1} \\right ), \\left ( a_{2}, b_{1}, c_{2} \\right ), \\left ( a_{2}, b_{2}, c_{2} \\right ), \\left ( a_{2}, b_{2}, c_{3} \\right ) \\right \\} $"
      ],
      "text/plain": [
       "<IPython.core.display.Math object>"
      ]
     },
     "metadata": {},
     "output_type": "display_data"
    },
    {
     "data": {
      "text/latex": [
       "$\\displaystyle \\;\\;\\;\\; \\left \\{  \\left ( a_{1}, b_{2}, c_{1} \\right ), \\left ( a_{1}, b_{2}, c_{2} \\right ), \\left ( a_{1}, b_{3}, c_{2} \\right ), \\left ( a_{1}, b_{3}, c_{3} \\right ), \\left ( a_{2}, b_{1}, c_{1} \\right ), \\left ( a_{2}, b_{2}, c_{1} \\right ), \\left ( a_{2}, b_{2}, c_{2} \\right ), \\left ( a_{2}, b_{3}, c_{2} \\right ) \\right \\} $"
      ],
      "text/plain": [
       "<IPython.core.display.Math object>"
      ]
     },
     "metadata": {},
     "output_type": "display_data"
    },
    {
     "data": {
      "text/latex": [
       "$\\displaystyle \\;\\;\\;\\; \\left \\{  \\left ( a_{1}, b_{2}, c_{1} \\right ), \\left ( a_{1}, b_{2}, c_{2} \\right ), \\left ( a_{1}, b_{3}, c_{2} \\right ), \\left ( a_{1}, b_{3}, c_{3} \\right ), \\left ( a_{2}, b_{1}, c_{2} \\right ), \\left ( a_{2}, b_{1}, c_{3} \\right ), \\left ( a_{2}, b_{2}, c_{1} \\right ), \\left ( a_{2}, b_{2}, c_{2} \\right ) \\right \\} $"
      ],
      "text/plain": [
       "<IPython.core.display.Math object>"
      ]
     },
     "metadata": {},
     "output_type": "display_data"
    },
    {
     "data": {
      "text/latex": [
       "$\\displaystyle \\;\\;\\;\\; \\left \\{  \\left ( a_{1}, b_{2}, c_{1} \\right ), \\left ( a_{1}, b_{2}, c_{2} \\right ), \\left ( a_{1}, b_{3}, c_{2} \\right ), \\left ( a_{1}, b_{3}, c_{3} \\right ), \\left ( a_{2}, b_{1}, c_{2} \\right ), \\left ( a_{2}, b_{1}, c_{3} \\right ), \\left ( a_{2}, b_{2}, c_{2} \\right ), \\left ( a_{2}, b_{2}, c_{3} \\right ) \\right \\} $"
      ],
      "text/plain": [
       "<IPython.core.display.Math object>"
      ]
     },
     "metadata": {},
     "output_type": "display_data"
    },
    {
     "data": {
      "text/latex": [
       "$\\displaystyle \\;\\;\\;\\; \\left \\{  \\left ( a_{1}, b_{2}, c_{1} \\right ), \\left ( a_{1}, b_{2}, c_{2} \\right ), \\left ( a_{1}, b_{3}, c_{2} \\right ), \\left ( a_{1}, b_{3}, c_{3} \\right ), \\left ( a_{2}, b_{2}, c_{1} \\right ), \\left ( a_{2}, b_{2}, c_{2} \\right ), \\left ( a_{2}, b_{3}, c_{1} \\right ), \\left ( a_{2}, b_{3}, c_{2} \\right ) \\right \\} $"
      ],
      "text/plain": [
       "<IPython.core.display.Math object>"
      ]
     },
     "metadata": {},
     "output_type": "display_data"
    },
    {
     "data": {
      "text/latex": [
       "$\\displaystyle \\;\\;\\;\\; \\left \\{  \\left ( a_{1}, b_{2}, c_{1} \\right ), \\left ( a_{1}, b_{2}, c_{2} \\right ), \\left ( a_{1}, b_{3}, c_{2} \\right ), \\left ( a_{1}, b_{3}, c_{3} \\right ), \\left ( a_{2}, b_{2}, c_{1} \\right ), \\left ( a_{2}, b_{2}, c_{2} \\right ), \\left ( a_{2}, b_{3}, c_{2} \\right ), \\left ( a_{2}, b_{3}, c_{3} \\right ) \\right \\} $"
      ],
      "text/plain": [
       "<IPython.core.display.Math object>"
      ]
     },
     "metadata": {},
     "output_type": "display_data"
    },
    {
     "data": {
      "text/latex": [
       "$\\displaystyle \\;\\;\\;\\; \\left \\{  \\left ( a_{1}, b_{2}, c_{1} \\right ), \\left ( a_{1}, b_{2}, c_{2} \\right ), \\left ( a_{1}, b_{3}, c_{2} \\right ), \\left ( a_{1}, b_{3}, c_{3} \\right ), \\left ( a_{2}, b_{2}, c_{2} \\right ), \\left ( a_{2}, b_{2}, c_{3} \\right ), \\left ( a_{2}, b_{3}, c_{1} \\right ), \\left ( a_{2}, b_{3}, c_{2} \\right ) \\right \\} $"
      ],
      "text/plain": [
       "<IPython.core.display.Math object>"
      ]
     },
     "metadata": {},
     "output_type": "display_data"
    },
    {
     "data": {
      "text/latex": [
       "$\\displaystyle \\;\\;\\;\\; \\left \\{  \\left ( a_{1}, b_{2}, c_{1} \\right ), \\left ( a_{1}, b_{2}, c_{2} \\right ), \\left ( a_{1}, b_{3}, c_{2} \\right ), \\left ( a_{1}, b_{3}, c_{3} \\right ), \\left ( a_{2}, b_{2}, c_{2} \\right ), \\left ( a_{2}, b_{2}, c_{3} \\right ), \\left ( a_{2}, b_{3}, c_{2} \\right ), \\left ( a_{2}, b_{3}, c_{3} \\right ) \\right \\} $"
      ],
      "text/plain": [
       "<IPython.core.display.Math object>"
      ]
     },
     "metadata": {},
     "output_type": "display_data"
    },
    {
     "data": {
      "text/latex": [
       "$\\displaystyle \\;\\;\\;\\; \\left \\{  \\left ( a_{1}, b_{2}, c_{2} \\right ), \\left ( a_{1}, b_{2}, c_{3} \\right ), \\left ( a_{1}, b_{3}, c_{1} \\right ), \\left ( a_{1}, b_{3}, c_{2} \\right ), \\left ( a_{2}, b_{1}, c_{1} \\right ), \\left ( a_{2}, b_{1}, c_{2} \\right ), \\left ( a_{2}, b_{2}, c_{1} \\right ), \\left ( a_{2}, b_{2}, c_{2} \\right ) \\right \\} $"
      ],
      "text/plain": [
       "<IPython.core.display.Math object>"
      ]
     },
     "metadata": {},
     "output_type": "display_data"
    },
    {
     "data": {
      "text/latex": [
       "$\\displaystyle \\;\\;\\;\\; \\left \\{  \\left ( a_{1}, b_{2}, c_{2} \\right ), \\left ( a_{1}, b_{2}, c_{3} \\right ), \\left ( a_{1}, b_{3}, c_{1} \\right ), \\left ( a_{1}, b_{3}, c_{2} \\right ), \\left ( a_{2}, b_{1}, c_{1} \\right ), \\left ( a_{2}, b_{1}, c_{2} \\right ), \\left ( a_{2}, b_{2}, c_{2} \\right ), \\left ( a_{2}, b_{2}, c_{3} \\right ) \\right \\} $"
      ],
      "text/plain": [
       "<IPython.core.display.Math object>"
      ]
     },
     "metadata": {},
     "output_type": "display_data"
    },
    {
     "data": {
      "text/latex": [
       "$\\displaystyle \\;\\;\\;\\; \\left \\{  \\left ( a_{1}, b_{2}, c_{2} \\right ), \\left ( a_{1}, b_{2}, c_{3} \\right ), \\left ( a_{1}, b_{3}, c_{1} \\right ), \\left ( a_{1}, b_{3}, c_{2} \\right ), \\left ( a_{2}, b_{1}, c_{1} \\right ), \\left ( a_{2}, b_{2}, c_{1} \\right ), \\left ( a_{2}, b_{2}, c_{2} \\right ), \\left ( a_{2}, b_{3}, c_{2} \\right ) \\right \\} $"
      ],
      "text/plain": [
       "<IPython.core.display.Math object>"
      ]
     },
     "metadata": {},
     "output_type": "display_data"
    },
    {
     "data": {
      "text/latex": [
       "$\\displaystyle \\;\\;\\;\\; \\left \\{  \\left ( a_{1}, b_{2}, c_{2} \\right ), \\left ( a_{1}, b_{2}, c_{3} \\right ), \\left ( a_{1}, b_{3}, c_{1} \\right ), \\left ( a_{1}, b_{3}, c_{2} \\right ), \\left ( a_{2}, b_{1}, c_{2} \\right ), \\left ( a_{2}, b_{1}, c_{3} \\right ), \\left ( a_{2}, b_{2}, c_{1} \\right ), \\left ( a_{2}, b_{2}, c_{2} \\right ) \\right \\} $"
      ],
      "text/plain": [
       "<IPython.core.display.Math object>"
      ]
     },
     "metadata": {},
     "output_type": "display_data"
    },
    {
     "data": {
      "text/latex": [
       "$\\displaystyle \\;\\;\\;\\; \\left \\{  \\left ( a_{1}, b_{2}, c_{2} \\right ), \\left ( a_{1}, b_{2}, c_{3} \\right ), \\left ( a_{1}, b_{3}, c_{1} \\right ), \\left ( a_{1}, b_{3}, c_{2} \\right ), \\left ( a_{2}, b_{1}, c_{2} \\right ), \\left ( a_{2}, b_{1}, c_{3} \\right ), \\left ( a_{2}, b_{2}, c_{2} \\right ), \\left ( a_{2}, b_{2}, c_{3} \\right ) \\right \\} $"
      ],
      "text/plain": [
       "<IPython.core.display.Math object>"
      ]
     },
     "metadata": {},
     "output_type": "display_data"
    },
    {
     "data": {
      "text/latex": [
       "$\\displaystyle \\;\\;\\;\\; \\left \\{  \\left ( a_{1}, b_{2}, c_{2} \\right ), \\left ( a_{1}, b_{2}, c_{3} \\right ), \\left ( a_{1}, b_{3}, c_{1} \\right ), \\left ( a_{1}, b_{3}, c_{2} \\right ), \\left ( a_{2}, b_{2}, c_{1} \\right ), \\left ( a_{2}, b_{2}, c_{2} \\right ), \\left ( a_{2}, b_{3}, c_{1} \\right ), \\left ( a_{2}, b_{3}, c_{2} \\right ) \\right \\} $"
      ],
      "text/plain": [
       "<IPython.core.display.Math object>"
      ]
     },
     "metadata": {},
     "output_type": "display_data"
    },
    {
     "data": {
      "text/latex": [
       "$\\displaystyle \\;\\;\\;\\; \\left \\{  \\left ( a_{1}, b_{2}, c_{2} \\right ), \\left ( a_{1}, b_{2}, c_{3} \\right ), \\left ( a_{1}, b_{3}, c_{1} \\right ), \\left ( a_{1}, b_{3}, c_{2} \\right ), \\left ( a_{2}, b_{2}, c_{1} \\right ), \\left ( a_{2}, b_{2}, c_{2} \\right ), \\left ( a_{2}, b_{3}, c_{2} \\right ), \\left ( a_{2}, b_{3}, c_{3} \\right ) \\right \\} $"
      ],
      "text/plain": [
       "<IPython.core.display.Math object>"
      ]
     },
     "metadata": {},
     "output_type": "display_data"
    },
    {
     "data": {
      "text/latex": [
       "$\\displaystyle \\;\\;\\;\\; \\left \\{  \\left ( a_{1}, b_{2}, c_{2} \\right ), \\left ( a_{1}, b_{2}, c_{3} \\right ), \\left ( a_{1}, b_{3}, c_{1} \\right ), \\left ( a_{1}, b_{3}, c_{2} \\right ), \\left ( a_{2}, b_{2}, c_{2} \\right ), \\left ( a_{2}, b_{2}, c_{3} \\right ), \\left ( a_{2}, b_{3}, c_{1} \\right ), \\left ( a_{2}, b_{3}, c_{2} \\right ) \\right \\} $"
      ],
      "text/plain": [
       "<IPython.core.display.Math object>"
      ]
     },
     "metadata": {},
     "output_type": "display_data"
    },
    {
     "data": {
      "text/latex": [
       "$\\displaystyle \\;\\;\\;\\; \\left \\{  \\left ( a_{1}, b_{2}, c_{2} \\right ), \\left ( a_{1}, b_{2}, c_{3} \\right ), \\left ( a_{1}, b_{3}, c_{1} \\right ), \\left ( a_{1}, b_{3}, c_{2} \\right ), \\left ( a_{2}, b_{2}, c_{2} \\right ), \\left ( a_{2}, b_{2}, c_{3} \\right ), \\left ( a_{2}, b_{3}, c_{2} \\right ), \\left ( a_{2}, b_{3}, c_{3} \\right ) \\right \\} $"
      ],
      "text/plain": [
       "<IPython.core.display.Math object>"
      ]
     },
     "metadata": {},
     "output_type": "display_data"
    },
    {
     "data": {
      "text/latex": [
       "$\\displaystyle \\;\\;\\;\\; \\left \\{  \\left ( a_{1}, b_{2}, c_{2} \\right ), \\left ( a_{1}, b_{2}, c_{3} \\right ), \\left ( a_{1}, b_{3}, c_{2} \\right ), \\left ( a_{1}, b_{3}, c_{3} \\right ), \\left ( a_{2}, b_{1}, c_{1} \\right ), \\left ( a_{2}, b_{1}, c_{2} \\right ), \\left ( a_{2}, b_{2}, c_{1} \\right ), \\left ( a_{2}, b_{2}, c_{2} \\right ) \\right \\} $"
      ],
      "text/plain": [
       "<IPython.core.display.Math object>"
      ]
     },
     "metadata": {},
     "output_type": "display_data"
    },
    {
     "data": {
      "text/latex": [
       "$\\displaystyle \\;\\;\\;\\; \\left \\{  \\left ( a_{1}, b_{2}, c_{2} \\right ), \\left ( a_{1}, b_{2}, c_{3} \\right ), \\left ( a_{1}, b_{3}, c_{2} \\right ), \\left ( a_{1}, b_{3}, c_{3} \\right ), \\left ( a_{2}, b_{1}, c_{1} \\right ), \\left ( a_{2}, b_{1}, c_{2} \\right ), \\left ( a_{2}, b_{2}, c_{2} \\right ), \\left ( a_{2}, b_{2}, c_{3} \\right ) \\right \\} $"
      ],
      "text/plain": [
       "<IPython.core.display.Math object>"
      ]
     },
     "metadata": {},
     "output_type": "display_data"
    },
    {
     "data": {
      "text/latex": [
       "$\\displaystyle \\;\\;\\;\\; \\left \\{  \\left ( a_{1}, b_{2}, c_{2} \\right ), \\left ( a_{1}, b_{2}, c_{3} \\right ), \\left ( a_{1}, b_{3}, c_{2} \\right ), \\left ( a_{1}, b_{3}, c_{3} \\right ), \\left ( a_{2}, b_{1}, c_{1} \\right ), \\left ( a_{2}, b_{2}, c_{1} \\right ), \\left ( a_{2}, b_{2}, c_{2} \\right ), \\left ( a_{2}, b_{3}, c_{2} \\right ) \\right \\} $"
      ],
      "text/plain": [
       "<IPython.core.display.Math object>"
      ]
     },
     "metadata": {},
     "output_type": "display_data"
    },
    {
     "data": {
      "text/latex": [
       "$\\displaystyle \\;\\;\\;\\; \\left \\{  \\left ( a_{1}, b_{2}, c_{2} \\right ), \\left ( a_{1}, b_{2}, c_{3} \\right ), \\left ( a_{1}, b_{3}, c_{2} \\right ), \\left ( a_{1}, b_{3}, c_{3} \\right ), \\left ( a_{2}, b_{1}, c_{2} \\right ), \\left ( a_{2}, b_{1}, c_{3} \\right ), \\left ( a_{2}, b_{2}, c_{1} \\right ), \\left ( a_{2}, b_{2}, c_{2} \\right ) \\right \\} $"
      ],
      "text/plain": [
       "<IPython.core.display.Math object>"
      ]
     },
     "metadata": {},
     "output_type": "display_data"
    },
    {
     "data": {
      "text/latex": [
       "$\\displaystyle \\;\\;\\;\\; \\left \\{  \\left ( a_{1}, b_{2}, c_{2} \\right ), \\left ( a_{1}, b_{2}, c_{3} \\right ), \\left ( a_{1}, b_{3}, c_{2} \\right ), \\left ( a_{1}, b_{3}, c_{3} \\right ), \\left ( a_{2}, b_{1}, c_{2} \\right ), \\left ( a_{2}, b_{1}, c_{3} \\right ), \\left ( a_{2}, b_{2}, c_{2} \\right ), \\left ( a_{2}, b_{2}, c_{3} \\right ) \\right \\} $"
      ],
      "text/plain": [
       "<IPython.core.display.Math object>"
      ]
     },
     "metadata": {},
     "output_type": "display_data"
    },
    {
     "data": {
      "text/latex": [
       "$\\displaystyle \\;\\;\\;\\; \\left \\{  \\left ( a_{1}, b_{2}, c_{2} \\right ), \\left ( a_{1}, b_{2}, c_{3} \\right ), \\left ( a_{1}, b_{3}, c_{2} \\right ), \\left ( a_{1}, b_{3}, c_{3} \\right ), \\left ( a_{2}, b_{2}, c_{1} \\right ), \\left ( a_{2}, b_{2}, c_{2} \\right ), \\left ( a_{2}, b_{3}, c_{1} \\right ), \\left ( a_{2}, b_{3}, c_{2} \\right ) \\right \\} $"
      ],
      "text/plain": [
       "<IPython.core.display.Math object>"
      ]
     },
     "metadata": {},
     "output_type": "display_data"
    },
    {
     "data": {
      "text/latex": [
       "$\\displaystyle \\;\\;\\;\\; \\left \\{  \\left ( a_{1}, b_{2}, c_{2} \\right ), \\left ( a_{1}, b_{2}, c_{3} \\right ), \\left ( a_{1}, b_{3}, c_{2} \\right ), \\left ( a_{1}, b_{3}, c_{3} \\right ), \\left ( a_{2}, b_{2}, c_{1} \\right ), \\left ( a_{2}, b_{2}, c_{2} \\right ), \\left ( a_{2}, b_{3}, c_{2} \\right ), \\left ( a_{2}, b_{3}, c_{3} \\right ) \\right \\} $"
      ],
      "text/plain": [
       "<IPython.core.display.Math object>"
      ]
     },
     "metadata": {},
     "output_type": "display_data"
    },
    {
     "data": {
      "text/latex": [
       "$\\displaystyle \\;\\;\\;\\; \\left \\{  \\left ( a_{1}, b_{2}, c_{2} \\right ), \\left ( a_{1}, b_{2}, c_{3} \\right ), \\left ( a_{1}, b_{3}, c_{2} \\right ), \\left ( a_{1}, b_{3}, c_{3} \\right ), \\left ( a_{2}, b_{2}, c_{2} \\right ), \\left ( a_{2}, b_{2}, c_{3} \\right ), \\left ( a_{2}, b_{3}, c_{1} \\right ), \\left ( a_{2}, b_{3}, c_{2} \\right ) \\right \\} $"
      ],
      "text/plain": [
       "<IPython.core.display.Math object>"
      ]
     },
     "metadata": {},
     "output_type": "display_data"
    },
    {
     "data": {
      "text/latex": [
       "$\\displaystyle \\;\\;\\;\\; \\left \\{  \\left ( a_{1}, b_{2}, c_{2} \\right ), \\left ( a_{1}, b_{2}, c_{3} \\right ), \\left ( a_{1}, b_{3}, c_{2} \\right ), \\left ( a_{1}, b_{3}, c_{3} \\right ), \\left ( a_{2}, b_{2}, c_{2} \\right ), \\left ( a_{2}, b_{2}, c_{3} \\right ), \\left ( a_{2}, b_{3}, c_{2} \\right ), \\left ( a_{2}, b_{3}, c_{3} \\right ) \\right \\} $"
      ],
      "text/plain": [
       "<IPython.core.display.Math object>"
      ]
     },
     "metadata": {},
     "output_type": "display_data"
    },
    {
     "data": {
      "text/latex": [
       "$\\displaystyle H_A \\otimes \\left (H_B \\otimes H_C \\right ) $"
      ],
      "text/plain": [
       "<IPython.core.display.Math object>"
      ]
     },
     "metadata": {},
     "output_type": "display_data"
    },
    {
     "data": {
      "text/latex": [
       "$\\displaystyle \\;\\;\\;\\; \\left \\{  \\left ( a_{1}, b_{1}, c_{1} \\right ), \\left ( a_{1}, b_{1}, c_{2} \\right ), \\left ( a_{1}, b_{2}, c_{1} \\right ), \\left ( a_{1}, b_{2}, c_{2} \\right ), \\left ( a_{2}, b_{1}, c_{1} \\right ), \\left ( a_{2}, b_{1}, c_{2} \\right ), \\left ( a_{2}, b_{2}, c_{1} \\right ), \\left ( a_{2}, b_{2}, c_{2} \\right ) \\right \\} $"
      ],
      "text/plain": [
       "<IPython.core.display.Math object>"
      ]
     },
     "metadata": {},
     "output_type": "display_data"
    },
    {
     "data": {
      "text/latex": [
       "$\\displaystyle \\;\\;\\;\\; \\left \\{  \\left ( a_{1}, b_{1}, c_{1} \\right ), \\left ( a_{1}, b_{1}, c_{2} \\right ), \\left ( a_{1}, b_{2}, c_{1} \\right ), \\left ( a_{1}, b_{2}, c_{2} \\right ), \\left ( a_{2}, b_{1}, c_{1} \\right ), \\left ( a_{2}, b_{1}, c_{2} \\right ), \\left ( a_{2}, b_{2}, c_{2} \\right ), \\left ( a_{2}, b_{2}, c_{3} \\right ) \\right \\} $"
      ],
      "text/plain": [
       "<IPython.core.display.Math object>"
      ]
     },
     "metadata": {},
     "output_type": "display_data"
    },
    {
     "data": {
      "text/latex": [
       "$\\displaystyle \\;\\;\\;\\; \\left \\{  \\left ( a_{1}, b_{1}, c_{1} \\right ), \\left ( a_{1}, b_{1}, c_{2} \\right ), \\left ( a_{1}, b_{2}, c_{1} \\right ), \\left ( a_{1}, b_{2}, c_{2} \\right ), \\left ( a_{2}, b_{1}, c_{1} \\right ), \\left ( a_{2}, b_{2}, c_{1} \\right ), \\left ( a_{2}, b_{2}, c_{2} \\right ), \\left ( a_{2}, b_{3}, c_{2} \\right ) \\right \\} $"
      ],
      "text/plain": [
       "<IPython.core.display.Math object>"
      ]
     },
     "metadata": {},
     "output_type": "display_data"
    },
    {
     "data": {
      "text/latex": [
       "$\\displaystyle \\;\\;\\;\\; \\left \\{  \\left ( a_{1}, b_{1}, c_{1} \\right ), \\left ( a_{1}, b_{1}, c_{2} \\right ), \\left ( a_{1}, b_{2}, c_{1} \\right ), \\left ( a_{1}, b_{2}, c_{2} \\right ), \\left ( a_{2}, b_{1}, c_{2} \\right ), \\left ( a_{2}, b_{1}, c_{3} \\right ), \\left ( a_{2}, b_{2}, c_{1} \\right ), \\left ( a_{2}, b_{2}, c_{2} \\right ) \\right \\} $"
      ],
      "text/plain": [
       "<IPython.core.display.Math object>"
      ]
     },
     "metadata": {},
     "output_type": "display_data"
    },
    {
     "data": {
      "text/latex": [
       "$\\displaystyle \\;\\;\\;\\; \\left \\{  \\left ( a_{1}, b_{1}, c_{1} \\right ), \\left ( a_{1}, b_{1}, c_{2} \\right ), \\left ( a_{1}, b_{2}, c_{1} \\right ), \\left ( a_{1}, b_{2}, c_{2} \\right ), \\left ( a_{2}, b_{1}, c_{2} \\right ), \\left ( a_{2}, b_{1}, c_{3} \\right ), \\left ( a_{2}, b_{2}, c_{2} \\right ), \\left ( a_{2}, b_{2}, c_{3} \\right ) \\right \\} $"
      ],
      "text/plain": [
       "<IPython.core.display.Math object>"
      ]
     },
     "metadata": {},
     "output_type": "display_data"
    },
    {
     "data": {
      "text/latex": [
       "$\\displaystyle \\;\\;\\;\\; \\left \\{  \\left ( a_{1}, b_{1}, c_{1} \\right ), \\left ( a_{1}, b_{1}, c_{2} \\right ), \\left ( a_{1}, b_{2}, c_{1} \\right ), \\left ( a_{1}, b_{2}, c_{2} \\right ), \\left ( a_{2}, b_{1}, c_{2} \\right ), \\left ( a_{2}, b_{2}, c_{1} \\right ), \\left ( a_{2}, b_{2}, c_{2} \\right ), \\left ( a_{2}, b_{3}, c_{1} \\right ) \\right \\} $"
      ],
      "text/plain": [
       "<IPython.core.display.Math object>"
      ]
     },
     "metadata": {},
     "output_type": "display_data"
    },
    {
     "data": {
      "text/latex": [
       "$\\displaystyle \\;\\;\\;\\; \\left \\{  \\left ( a_{1}, b_{1}, c_{1} \\right ), \\left ( a_{1}, b_{1}, c_{2} \\right ), \\left ( a_{1}, b_{2}, c_{1} \\right ), \\left ( a_{1}, b_{2}, c_{2} \\right ), \\left ( a_{2}, b_{1}, c_{2} \\right ), \\left ( a_{2}, b_{2}, c_{2} \\right ), \\left ( a_{2}, b_{2}, c_{3} \\right ), \\left ( a_{2}, b_{3}, c_{3} \\right ) \\right \\} $"
      ],
      "text/plain": [
       "<IPython.core.display.Math object>"
      ]
     },
     "metadata": {},
     "output_type": "display_data"
    },
    {
     "data": {
      "text/latex": [
       "$\\displaystyle \\;\\;\\;\\; \\left \\{  \\left ( a_{1}, b_{1}, c_{1} \\right ), \\left ( a_{1}, b_{1}, c_{2} \\right ), \\left ( a_{1}, b_{2}, c_{1} \\right ), \\left ( a_{1}, b_{2}, c_{2} \\right ), \\left ( a_{2}, b_{1}, c_{3} \\right ), \\left ( a_{2}, b_{2}, c_{2} \\right ), \\left ( a_{2}, b_{2}, c_{3} \\right ), \\left ( a_{2}, b_{3}, c_{2} \\right ) \\right \\} $"
      ],
      "text/plain": [
       "<IPython.core.display.Math object>"
      ]
     },
     "metadata": {},
     "output_type": "display_data"
    },
    {
     "data": {
      "text/latex": [
       "$\\displaystyle \\;\\;\\;\\; \\left \\{  \\left ( a_{1}, b_{1}, c_{1} \\right ), \\left ( a_{1}, b_{1}, c_{2} \\right ), \\left ( a_{1}, b_{2}, c_{1} \\right ), \\left ( a_{1}, b_{2}, c_{2} \\right ), \\left ( a_{2}, b_{2}, c_{1} \\right ), \\left ( a_{2}, b_{2}, c_{2} \\right ), \\left ( a_{2}, b_{3}, c_{1} \\right ), \\left ( a_{2}, b_{3}, c_{2} \\right ) \\right \\} $"
      ],
      "text/plain": [
       "<IPython.core.display.Math object>"
      ]
     },
     "metadata": {},
     "output_type": "display_data"
    },
    {
     "data": {
      "text/latex": [
       "$\\displaystyle \\;\\;\\;\\; \\left \\{  \\left ( a_{1}, b_{1}, c_{1} \\right ), \\left ( a_{1}, b_{1}, c_{2} \\right ), \\left ( a_{1}, b_{2}, c_{1} \\right ), \\left ( a_{1}, b_{2}, c_{2} \\right ), \\left ( a_{2}, b_{2}, c_{2} \\right ), \\left ( a_{2}, b_{2}, c_{3} \\right ), \\left ( a_{2}, b_{3}, c_{2} \\right ), \\left ( a_{2}, b_{3}, c_{3} \\right ) \\right \\} $"
      ],
      "text/plain": [
       "<IPython.core.display.Math object>"
      ]
     },
     "metadata": {},
     "output_type": "display_data"
    },
    {
     "data": {
      "text/latex": [
       "$\\displaystyle \\;\\;\\;\\; \\left \\{  \\left ( a_{1}, b_{1}, c_{1} \\right ), \\left ( a_{1}, b_{1}, c_{2} \\right ), \\left ( a_{1}, b_{2}, c_{2} \\right ), \\left ( a_{1}, b_{2}, c_{3} \\right ), \\left ( a_{2}, b_{1}, c_{1} \\right ), \\left ( a_{2}, b_{1}, c_{2} \\right ), \\left ( a_{2}, b_{2}, c_{1} \\right ), \\left ( a_{2}, b_{2}, c_{2} \\right ) \\right \\} $"
      ],
      "text/plain": [
       "<IPython.core.display.Math object>"
      ]
     },
     "metadata": {},
     "output_type": "display_data"
    },
    {
     "data": {
      "text/latex": [
       "$\\displaystyle \\;\\;\\;\\; \\left \\{  \\left ( a_{1}, b_{1}, c_{1} \\right ), \\left ( a_{1}, b_{1}, c_{2} \\right ), \\left ( a_{1}, b_{2}, c_{2} \\right ), \\left ( a_{1}, b_{2}, c_{3} \\right ), \\left ( a_{2}, b_{1}, c_{1} \\right ), \\left ( a_{2}, b_{1}, c_{2} \\right ), \\left ( a_{2}, b_{2}, c_{2} \\right ), \\left ( a_{2}, b_{2}, c_{3} \\right ) \\right \\} $"
      ],
      "text/plain": [
       "<IPython.core.display.Math object>"
      ]
     },
     "metadata": {},
     "output_type": "display_data"
    },
    {
     "data": {
      "text/latex": [
       "$\\displaystyle \\;\\;\\;\\; \\left \\{  \\left ( a_{1}, b_{1}, c_{1} \\right ), \\left ( a_{1}, b_{1}, c_{2} \\right ), \\left ( a_{1}, b_{2}, c_{2} \\right ), \\left ( a_{1}, b_{2}, c_{3} \\right ), \\left ( a_{2}, b_{1}, c_{2} \\right ), \\left ( a_{2}, b_{1}, c_{3} \\right ), \\left ( a_{2}, b_{2}, c_{1} \\right ), \\left ( a_{2}, b_{2}, c_{2} \\right ) \\right \\} $"
      ],
      "text/plain": [
       "<IPython.core.display.Math object>"
      ]
     },
     "metadata": {},
     "output_type": "display_data"
    },
    {
     "data": {
      "text/latex": [
       "$\\displaystyle \\;\\;\\;\\; \\left \\{  \\left ( a_{1}, b_{1}, c_{1} \\right ), \\left ( a_{1}, b_{1}, c_{2} \\right ), \\left ( a_{1}, b_{2}, c_{2} \\right ), \\left ( a_{1}, b_{2}, c_{3} \\right ), \\left ( a_{2}, b_{1}, c_{2} \\right ), \\left ( a_{2}, b_{1}, c_{3} \\right ), \\left ( a_{2}, b_{2}, c_{2} \\right ), \\left ( a_{2}, b_{2}, c_{3} \\right ) \\right \\} $"
      ],
      "text/plain": [
       "<IPython.core.display.Math object>"
      ]
     },
     "metadata": {},
     "output_type": "display_data"
    },
    {
     "data": {
      "text/latex": [
       "$\\displaystyle \\;\\;\\;\\; \\left \\{  \\left ( a_{1}, b_{1}, c_{1} \\right ), \\left ( a_{1}, b_{2}, c_{1} \\right ), \\left ( a_{1}, b_{2}, c_{2} \\right ), \\left ( a_{1}, b_{3}, c_{2} \\right ), \\left ( a_{2}, b_{1}, c_{1} \\right ), \\left ( a_{2}, b_{1}, c_{2} \\right ), \\left ( a_{2}, b_{2}, c_{1} \\right ), \\left ( a_{2}, b_{2}, c_{2} \\right ) \\right \\} $"
      ],
      "text/plain": [
       "<IPython.core.display.Math object>"
      ]
     },
     "metadata": {},
     "output_type": "display_data"
    },
    {
     "data": {
      "text/latex": [
       "$\\displaystyle \\;\\;\\;\\; \\left \\{  \\left ( a_{1}, b_{1}, c_{1} \\right ), \\left ( a_{1}, b_{2}, c_{1} \\right ), \\left ( a_{1}, b_{2}, c_{2} \\right ), \\left ( a_{1}, b_{3}, c_{2} \\right ), \\left ( a_{2}, b_{1}, c_{1} \\right ), \\left ( a_{2}, b_{2}, c_{1} \\right ), \\left ( a_{2}, b_{2}, c_{2} \\right ), \\left ( a_{2}, b_{3}, c_{2} \\right ) \\right \\} $"
      ],
      "text/plain": [
       "<IPython.core.display.Math object>"
      ]
     },
     "metadata": {},
     "output_type": "display_data"
    },
    {
     "data": {
      "text/latex": [
       "$\\displaystyle \\;\\;\\;\\; \\left \\{  \\left ( a_{1}, b_{1}, c_{1} \\right ), \\left ( a_{1}, b_{2}, c_{1} \\right ), \\left ( a_{1}, b_{2}, c_{2} \\right ), \\left ( a_{1}, b_{3}, c_{2} \\right ), \\left ( a_{2}, b_{1}, c_{2} \\right ), \\left ( a_{2}, b_{1}, c_{3} \\right ), \\left ( a_{2}, b_{2}, c_{2} \\right ), \\left ( a_{2}, b_{2}, c_{3} \\right ) \\right \\} $"
      ],
      "text/plain": [
       "<IPython.core.display.Math object>"
      ]
     },
     "metadata": {},
     "output_type": "display_data"
    },
    {
     "data": {
      "text/latex": [
       "$\\displaystyle \\;\\;\\;\\; \\left \\{  \\left ( a_{1}, b_{1}, c_{1} \\right ), \\left ( a_{1}, b_{2}, c_{1} \\right ), \\left ( a_{1}, b_{2}, c_{2} \\right ), \\left ( a_{1}, b_{3}, c_{2} \\right ), \\left ( a_{2}, b_{1}, c_{2} \\right ), \\left ( a_{2}, b_{2}, c_{1} \\right ), \\left ( a_{2}, b_{2}, c_{2} \\right ), \\left ( a_{2}, b_{3}, c_{1} \\right ) \\right \\} $"
      ],
      "text/plain": [
       "<IPython.core.display.Math object>"
      ]
     },
     "metadata": {},
     "output_type": "display_data"
    },
    {
     "data": {
      "text/latex": [
       "$\\displaystyle \\;\\;\\;\\;\\color{red}{ \\left \\{  \\left ( a_{1}, b_{1}, c_{1} \\right ), \\left ( a_{1}, b_{2}, c_{1} \\right ), \\left ( a_{1}, b_{2}, c_{2} \\right ), \\left ( a_{1}, b_{3}, c_{2} \\right ), \\left ( a_{2}, b_{1}, c_{2} \\right ), \\left ( a_{2}, b_{2}, c_{2} \\right ), \\left ( a_{2}, b_{2}, c_{3} \\right ), \\left ( a_{2}, b_{3}, c_{3} \\right ) \\right \\} }$"
      ],
      "text/plain": [
       "<IPython.core.display.Math object>"
      ]
     },
     "metadata": {},
     "output_type": "display_data"
    },
    {
     "data": {
      "text/latex": [
       "$\\displaystyle \\;\\;\\;\\; \\left \\{  \\left ( a_{1}, b_{1}, c_{1} \\right ), \\left ( a_{1}, b_{2}, c_{1} \\right ), \\left ( a_{1}, b_{2}, c_{2} \\right ), \\left ( a_{1}, b_{3}, c_{2} \\right ), \\left ( a_{2}, b_{1}, c_{3} \\right ), \\left ( a_{2}, b_{2}, c_{2} \\right ), \\left ( a_{2}, b_{2}, c_{3} \\right ), \\left ( a_{2}, b_{3}, c_{2} \\right ) \\right \\} $"
      ],
      "text/plain": [
       "<IPython.core.display.Math object>"
      ]
     },
     "metadata": {},
     "output_type": "display_data"
    },
    {
     "data": {
      "text/latex": [
       "$\\displaystyle \\;\\;\\;\\; \\left \\{  \\left ( a_{1}, b_{1}, c_{1} \\right ), \\left ( a_{1}, b_{2}, c_{1} \\right ), \\left ( a_{1}, b_{2}, c_{2} \\right ), \\left ( a_{1}, b_{3}, c_{2} \\right ), \\left ( a_{2}, b_{2}, c_{1} \\right ), \\left ( a_{2}, b_{2}, c_{2} \\right ), \\left ( a_{2}, b_{3}, c_{1} \\right ), \\left ( a_{2}, b_{3}, c_{2} \\right ) \\right \\} $"
      ],
      "text/plain": [
       "<IPython.core.display.Math object>"
      ]
     },
     "metadata": {},
     "output_type": "display_data"
    },
    {
     "data": {
      "text/latex": [
       "$\\displaystyle \\;\\;\\;\\; \\left \\{  \\left ( a_{1}, b_{1}, c_{1} \\right ), \\left ( a_{1}, b_{2}, c_{1} \\right ), \\left ( a_{1}, b_{2}, c_{2} \\right ), \\left ( a_{1}, b_{3}, c_{2} \\right ), \\left ( a_{2}, b_{2}, c_{2} \\right ), \\left ( a_{2}, b_{2}, c_{3} \\right ), \\left ( a_{2}, b_{3}, c_{2} \\right ), \\left ( a_{2}, b_{3}, c_{3} \\right ) \\right \\} $"
      ],
      "text/plain": [
       "<IPython.core.display.Math object>"
      ]
     },
     "metadata": {},
     "output_type": "display_data"
    },
    {
     "data": {
      "text/latex": [
       "$\\displaystyle \\;\\;\\;\\; \\left \\{  \\left ( a_{1}, b_{1}, c_{2} \\right ), \\left ( a_{1}, b_{1}, c_{3} \\right ), \\left ( a_{1}, b_{2}, c_{1} \\right ), \\left ( a_{1}, b_{2}, c_{2} \\right ), \\left ( a_{2}, b_{1}, c_{1} \\right ), \\left ( a_{2}, b_{1}, c_{2} \\right ), \\left ( a_{2}, b_{2}, c_{1} \\right ), \\left ( a_{2}, b_{2}, c_{2} \\right ) \\right \\} $"
      ],
      "text/plain": [
       "<IPython.core.display.Math object>"
      ]
     },
     "metadata": {},
     "output_type": "display_data"
    },
    {
     "data": {
      "text/latex": [
       "$\\displaystyle \\;\\;\\;\\; \\left \\{  \\left ( a_{1}, b_{1}, c_{2} \\right ), \\left ( a_{1}, b_{1}, c_{3} \\right ), \\left ( a_{1}, b_{2}, c_{1} \\right ), \\left ( a_{1}, b_{2}, c_{2} \\right ), \\left ( a_{2}, b_{1}, c_{1} \\right ), \\left ( a_{2}, b_{1}, c_{2} \\right ), \\left ( a_{2}, b_{2}, c_{2} \\right ), \\left ( a_{2}, b_{2}, c_{3} \\right ) \\right \\} $"
      ],
      "text/plain": [
       "<IPython.core.display.Math object>"
      ]
     },
     "metadata": {},
     "output_type": "display_data"
    },
    {
     "data": {
      "text/latex": [
       "$\\displaystyle \\;\\;\\;\\; \\left \\{  \\left ( a_{1}, b_{1}, c_{2} \\right ), \\left ( a_{1}, b_{1}, c_{3} \\right ), \\left ( a_{1}, b_{2}, c_{1} \\right ), \\left ( a_{1}, b_{2}, c_{2} \\right ), \\left ( a_{2}, b_{1}, c_{2} \\right ), \\left ( a_{2}, b_{1}, c_{3} \\right ), \\left ( a_{2}, b_{2}, c_{1} \\right ), \\left ( a_{2}, b_{2}, c_{2} \\right ) \\right \\} $"
      ],
      "text/plain": [
       "<IPython.core.display.Math object>"
      ]
     },
     "metadata": {},
     "output_type": "display_data"
    },
    {
     "data": {
      "text/latex": [
       "$\\displaystyle \\;\\;\\;\\; \\left \\{  \\left ( a_{1}, b_{1}, c_{2} \\right ), \\left ( a_{1}, b_{1}, c_{3} \\right ), \\left ( a_{1}, b_{2}, c_{1} \\right ), \\left ( a_{1}, b_{2}, c_{2} \\right ), \\left ( a_{2}, b_{1}, c_{2} \\right ), \\left ( a_{2}, b_{1}, c_{3} \\right ), \\left ( a_{2}, b_{2}, c_{2} \\right ), \\left ( a_{2}, b_{2}, c_{3} \\right ) \\right \\} $"
      ],
      "text/plain": [
       "<IPython.core.display.Math object>"
      ]
     },
     "metadata": {},
     "output_type": "display_data"
    },
    {
     "data": {
      "text/latex": [
       "$\\displaystyle \\;\\;\\;\\; \\left \\{  \\left ( a_{1}, b_{1}, c_{2} \\right ), \\left ( a_{1}, b_{1}, c_{3} \\right ), \\left ( a_{1}, b_{2}, c_{2} \\right ), \\left ( a_{1}, b_{2}, c_{3} \\right ), \\left ( a_{2}, b_{1}, c_{1} \\right ), \\left ( a_{2}, b_{1}, c_{2} \\right ), \\left ( a_{2}, b_{2}, c_{1} \\right ), \\left ( a_{2}, b_{2}, c_{2} \\right ) \\right \\} $"
      ],
      "text/plain": [
       "<IPython.core.display.Math object>"
      ]
     },
     "metadata": {},
     "output_type": "display_data"
    },
    {
     "data": {
      "text/latex": [
       "$\\displaystyle \\;\\;\\;\\; \\left \\{  \\left ( a_{1}, b_{1}, c_{2} \\right ), \\left ( a_{1}, b_{1}, c_{3} \\right ), \\left ( a_{1}, b_{2}, c_{2} \\right ), \\left ( a_{1}, b_{2}, c_{3} \\right ), \\left ( a_{2}, b_{1}, c_{1} \\right ), \\left ( a_{2}, b_{1}, c_{2} \\right ), \\left ( a_{2}, b_{2}, c_{2} \\right ), \\left ( a_{2}, b_{2}, c_{3} \\right ) \\right \\} $"
      ],
      "text/plain": [
       "<IPython.core.display.Math object>"
      ]
     },
     "metadata": {},
     "output_type": "display_data"
    },
    {
     "data": {
      "text/latex": [
       "$\\displaystyle \\;\\;\\;\\; \\left \\{  \\left ( a_{1}, b_{1}, c_{2} \\right ), \\left ( a_{1}, b_{1}, c_{3} \\right ), \\left ( a_{1}, b_{2}, c_{2} \\right ), \\left ( a_{1}, b_{2}, c_{3} \\right ), \\left ( a_{2}, b_{1}, c_{1} \\right ), \\left ( a_{2}, b_{2}, c_{1} \\right ), \\left ( a_{2}, b_{2}, c_{2} \\right ), \\left ( a_{2}, b_{3}, c_{2} \\right ) \\right \\} $"
      ],
      "text/plain": [
       "<IPython.core.display.Math object>"
      ]
     },
     "metadata": {},
     "output_type": "display_data"
    },
    {
     "data": {
      "text/latex": [
       "$\\displaystyle \\;\\;\\;\\; \\left \\{  \\left ( a_{1}, b_{1}, c_{2} \\right ), \\left ( a_{1}, b_{1}, c_{3} \\right ), \\left ( a_{1}, b_{2}, c_{2} \\right ), \\left ( a_{1}, b_{2}, c_{3} \\right ), \\left ( a_{2}, b_{1}, c_{2} \\right ), \\left ( a_{2}, b_{1}, c_{3} \\right ), \\left ( a_{2}, b_{2}, c_{1} \\right ), \\left ( a_{2}, b_{2}, c_{2} \\right ) \\right \\} $"
      ],
      "text/plain": [
       "<IPython.core.display.Math object>"
      ]
     },
     "metadata": {},
     "output_type": "display_data"
    },
    {
     "data": {
      "text/latex": [
       "$\\displaystyle \\;\\;\\;\\; \\left \\{  \\left ( a_{1}, b_{1}, c_{2} \\right ), \\left ( a_{1}, b_{1}, c_{3} \\right ), \\left ( a_{1}, b_{2}, c_{2} \\right ), \\left ( a_{1}, b_{2}, c_{3} \\right ), \\left ( a_{2}, b_{1}, c_{2} \\right ), \\left ( a_{2}, b_{1}, c_{3} \\right ), \\left ( a_{2}, b_{2}, c_{2} \\right ), \\left ( a_{2}, b_{2}, c_{3} \\right ) \\right \\} $"
      ],
      "text/plain": [
       "<IPython.core.display.Math object>"
      ]
     },
     "metadata": {},
     "output_type": "display_data"
    },
    {
     "data": {
      "text/latex": [
       "$\\displaystyle \\;\\;\\;\\; \\left \\{  \\left ( a_{1}, b_{1}, c_{2} \\right ), \\left ( a_{1}, b_{1}, c_{3} \\right ), \\left ( a_{1}, b_{2}, c_{2} \\right ), \\left ( a_{1}, b_{2}, c_{3} \\right ), \\left ( a_{2}, b_{1}, c_{2} \\right ), \\left ( a_{2}, b_{2}, c_{1} \\right ), \\left ( a_{2}, b_{2}, c_{2} \\right ), \\left ( a_{2}, b_{3}, c_{1} \\right ) \\right \\} $"
      ],
      "text/plain": [
       "<IPython.core.display.Math object>"
      ]
     },
     "metadata": {},
     "output_type": "display_data"
    },
    {
     "data": {
      "text/latex": [
       "$\\displaystyle \\;\\;\\;\\; \\left \\{  \\left ( a_{1}, b_{1}, c_{2} \\right ), \\left ( a_{1}, b_{1}, c_{3} \\right ), \\left ( a_{1}, b_{2}, c_{2} \\right ), \\left ( a_{1}, b_{2}, c_{3} \\right ), \\left ( a_{2}, b_{1}, c_{2} \\right ), \\left ( a_{2}, b_{2}, c_{2} \\right ), \\left ( a_{2}, b_{2}, c_{3} \\right ), \\left ( a_{2}, b_{3}, c_{3} \\right ) \\right \\} $"
      ],
      "text/plain": [
       "<IPython.core.display.Math object>"
      ]
     },
     "metadata": {},
     "output_type": "display_data"
    },
    {
     "data": {
      "text/latex": [
       "$\\displaystyle \\;\\;\\;\\; \\left \\{  \\left ( a_{1}, b_{1}, c_{2} \\right ), \\left ( a_{1}, b_{1}, c_{3} \\right ), \\left ( a_{1}, b_{2}, c_{2} \\right ), \\left ( a_{1}, b_{2}, c_{3} \\right ), \\left ( a_{2}, b_{1}, c_{3} \\right ), \\left ( a_{2}, b_{2}, c_{2} \\right ), \\left ( a_{2}, b_{2}, c_{3} \\right ), \\left ( a_{2}, b_{3}, c_{2} \\right ) \\right \\} $"
      ],
      "text/plain": [
       "<IPython.core.display.Math object>"
      ]
     },
     "metadata": {},
     "output_type": "display_data"
    },
    {
     "data": {
      "text/latex": [
       "$\\displaystyle \\;\\;\\;\\; \\left \\{  \\left ( a_{1}, b_{1}, c_{2} \\right ), \\left ( a_{1}, b_{1}, c_{3} \\right ), \\left ( a_{1}, b_{2}, c_{2} \\right ), \\left ( a_{1}, b_{2}, c_{3} \\right ), \\left ( a_{2}, b_{2}, c_{1} \\right ), \\left ( a_{2}, b_{2}, c_{2} \\right ), \\left ( a_{2}, b_{3}, c_{1} \\right ), \\left ( a_{2}, b_{3}, c_{2} \\right ) \\right \\} $"
      ],
      "text/plain": [
       "<IPython.core.display.Math object>"
      ]
     },
     "metadata": {},
     "output_type": "display_data"
    },
    {
     "data": {
      "text/latex": [
       "$\\displaystyle \\;\\;\\;\\; \\left \\{  \\left ( a_{1}, b_{1}, c_{2} \\right ), \\left ( a_{1}, b_{1}, c_{3} \\right ), \\left ( a_{1}, b_{2}, c_{2} \\right ), \\left ( a_{1}, b_{2}, c_{3} \\right ), \\left ( a_{2}, b_{2}, c_{2} \\right ), \\left ( a_{2}, b_{2}, c_{3} \\right ), \\left ( a_{2}, b_{3}, c_{2} \\right ), \\left ( a_{2}, b_{3}, c_{3} \\right ) \\right \\} $"
      ],
      "text/plain": [
       "<IPython.core.display.Math object>"
      ]
     },
     "metadata": {},
     "output_type": "display_data"
    },
    {
     "data": {
      "text/latex": [
       "$\\displaystyle \\;\\;\\;\\; \\left \\{  \\left ( a_{1}, b_{1}, c_{2} \\right ), \\left ( a_{1}, b_{2}, c_{1} \\right ), \\left ( a_{1}, b_{2}, c_{2} \\right ), \\left ( a_{1}, b_{3}, c_{1} \\right ), \\left ( a_{2}, b_{1}, c_{1} \\right ), \\left ( a_{2}, b_{1}, c_{2} \\right ), \\left ( a_{2}, b_{2}, c_{1} \\right ), \\left ( a_{2}, b_{2}, c_{2} \\right ) \\right \\} $"
      ],
      "text/plain": [
       "<IPython.core.display.Math object>"
      ]
     },
     "metadata": {},
     "output_type": "display_data"
    },
    {
     "data": {
      "text/latex": [
       "$\\displaystyle \\;\\;\\;\\; \\left \\{  \\left ( a_{1}, b_{1}, c_{2} \\right ), \\left ( a_{1}, b_{2}, c_{1} \\right ), \\left ( a_{1}, b_{2}, c_{2} \\right ), \\left ( a_{1}, b_{3}, c_{1} \\right ), \\left ( a_{2}, b_{1}, c_{1} \\right ), \\left ( a_{2}, b_{2}, c_{1} \\right ), \\left ( a_{2}, b_{2}, c_{2} \\right ), \\left ( a_{2}, b_{3}, c_{2} \\right ) \\right \\} $"
      ],
      "text/plain": [
       "<IPython.core.display.Math object>"
      ]
     },
     "metadata": {},
     "output_type": "display_data"
    },
    {
     "data": {
      "text/latex": [
       "$\\displaystyle \\;\\;\\;\\; \\left \\{  \\left ( a_{1}, b_{1}, c_{2} \\right ), \\left ( a_{1}, b_{2}, c_{1} \\right ), \\left ( a_{1}, b_{2}, c_{2} \\right ), \\left ( a_{1}, b_{3}, c_{1} \\right ), \\left ( a_{2}, b_{1}, c_{2} \\right ), \\left ( a_{2}, b_{1}, c_{3} \\right ), \\left ( a_{2}, b_{2}, c_{2} \\right ), \\left ( a_{2}, b_{2}, c_{3} \\right ) \\right \\} $"
      ],
      "text/plain": [
       "<IPython.core.display.Math object>"
      ]
     },
     "metadata": {},
     "output_type": "display_data"
    },
    {
     "data": {
      "text/latex": [
       "$\\displaystyle \\;\\;\\;\\; \\left \\{  \\left ( a_{1}, b_{1}, c_{2} \\right ), \\left ( a_{1}, b_{2}, c_{1} \\right ), \\left ( a_{1}, b_{2}, c_{2} \\right ), \\left ( a_{1}, b_{3}, c_{1} \\right ), \\left ( a_{2}, b_{1}, c_{2} \\right ), \\left ( a_{2}, b_{2}, c_{1} \\right ), \\left ( a_{2}, b_{2}, c_{2} \\right ), \\left ( a_{2}, b_{3}, c_{1} \\right ) \\right \\} $"
      ],
      "text/plain": [
       "<IPython.core.display.Math object>"
      ]
     },
     "metadata": {},
     "output_type": "display_data"
    },
    {
     "data": {
      "text/latex": [
       "$\\displaystyle \\;\\;\\;\\; \\left \\{  \\left ( a_{1}, b_{1}, c_{2} \\right ), \\left ( a_{1}, b_{2}, c_{1} \\right ), \\left ( a_{1}, b_{2}, c_{2} \\right ), \\left ( a_{1}, b_{3}, c_{1} \\right ), \\left ( a_{2}, b_{1}, c_{2} \\right ), \\left ( a_{2}, b_{2}, c_{2} \\right ), \\left ( a_{2}, b_{2}, c_{3} \\right ), \\left ( a_{2}, b_{3}, c_{3} \\right ) \\right \\} $"
      ],
      "text/plain": [
       "<IPython.core.display.Math object>"
      ]
     },
     "metadata": {},
     "output_type": "display_data"
    },
    {
     "data": {
      "text/latex": [
       "$\\displaystyle \\;\\;\\;\\; \\left \\{  \\left ( a_{1}, b_{1}, c_{2} \\right ), \\left ( a_{1}, b_{2}, c_{1} \\right ), \\left ( a_{1}, b_{2}, c_{2} \\right ), \\left ( a_{1}, b_{3}, c_{1} \\right ), \\left ( a_{2}, b_{1}, c_{3} \\right ), \\left ( a_{2}, b_{2}, c_{2} \\right ), \\left ( a_{2}, b_{2}, c_{3} \\right ), \\left ( a_{2}, b_{3}, c_{2} \\right ) \\right \\} $"
      ],
      "text/plain": [
       "<IPython.core.display.Math object>"
      ]
     },
     "metadata": {},
     "output_type": "display_data"
    },
    {
     "data": {
      "text/latex": [
       "$\\displaystyle \\;\\;\\;\\; \\left \\{  \\left ( a_{1}, b_{1}, c_{2} \\right ), \\left ( a_{1}, b_{2}, c_{1} \\right ), \\left ( a_{1}, b_{2}, c_{2} \\right ), \\left ( a_{1}, b_{3}, c_{1} \\right ), \\left ( a_{2}, b_{2}, c_{1} \\right ), \\left ( a_{2}, b_{2}, c_{2} \\right ), \\left ( a_{2}, b_{3}, c_{1} \\right ), \\left ( a_{2}, b_{3}, c_{2} \\right ) \\right \\} $"
      ],
      "text/plain": [
       "<IPython.core.display.Math object>"
      ]
     },
     "metadata": {},
     "output_type": "display_data"
    },
    {
     "data": {
      "text/latex": [
       "$\\displaystyle \\;\\;\\;\\; \\left \\{  \\left ( a_{1}, b_{1}, c_{2} \\right ), \\left ( a_{1}, b_{2}, c_{1} \\right ), \\left ( a_{1}, b_{2}, c_{2} \\right ), \\left ( a_{1}, b_{3}, c_{1} \\right ), \\left ( a_{2}, b_{2}, c_{2} \\right ), \\left ( a_{2}, b_{2}, c_{3} \\right ), \\left ( a_{2}, b_{3}, c_{2} \\right ), \\left ( a_{2}, b_{3}, c_{3} \\right ) \\right \\} $"
      ],
      "text/plain": [
       "<IPython.core.display.Math object>"
      ]
     },
     "metadata": {},
     "output_type": "display_data"
    },
    {
     "data": {
      "text/latex": [
       "$\\displaystyle \\;\\;\\;\\; \\left \\{  \\left ( a_{1}, b_{1}, c_{2} \\right ), \\left ( a_{1}, b_{2}, c_{2} \\right ), \\left ( a_{1}, b_{2}, c_{3} \\right ), \\left ( a_{1}, b_{3}, c_{3} \\right ), \\left ( a_{2}, b_{1}, c_{1} \\right ), \\left ( a_{2}, b_{1}, c_{2} \\right ), \\left ( a_{2}, b_{2}, c_{1} \\right ), \\left ( a_{2}, b_{2}, c_{2} \\right ) \\right \\} $"
      ],
      "text/plain": [
       "<IPython.core.display.Math object>"
      ]
     },
     "metadata": {},
     "output_type": "display_data"
    },
    {
     "data": {
      "text/latex": [
       "$\\displaystyle \\;\\;\\;\\; \\left \\{  \\left ( a_{1}, b_{1}, c_{2} \\right ), \\left ( a_{1}, b_{2}, c_{2} \\right ), \\left ( a_{1}, b_{2}, c_{3} \\right ), \\left ( a_{1}, b_{3}, c_{3} \\right ), \\left ( a_{2}, b_{1}, c_{1} \\right ), \\left ( a_{2}, b_{2}, c_{1} \\right ), \\left ( a_{2}, b_{2}, c_{2} \\right ), \\left ( a_{2}, b_{3}, c_{2} \\right ) \\right \\} $"
      ],
      "text/plain": [
       "<IPython.core.display.Math object>"
      ]
     },
     "metadata": {},
     "output_type": "display_data"
    },
    {
     "data": {
      "text/latex": [
       "$\\displaystyle \\;\\;\\;\\; \\left \\{  \\left ( a_{1}, b_{1}, c_{2} \\right ), \\left ( a_{1}, b_{2}, c_{2} \\right ), \\left ( a_{1}, b_{2}, c_{3} \\right ), \\left ( a_{1}, b_{3}, c_{3} \\right ), \\left ( a_{2}, b_{1}, c_{2} \\right ), \\left ( a_{2}, b_{1}, c_{3} \\right ), \\left ( a_{2}, b_{2}, c_{2} \\right ), \\left ( a_{2}, b_{2}, c_{3} \\right ) \\right \\} $"
      ],
      "text/plain": [
       "<IPython.core.display.Math object>"
      ]
     },
     "metadata": {},
     "output_type": "display_data"
    },
    {
     "data": {
      "text/latex": [
       "$\\displaystyle \\;\\;\\;\\; \\left \\{  \\left ( a_{1}, b_{1}, c_{2} \\right ), \\left ( a_{1}, b_{2}, c_{2} \\right ), \\left ( a_{1}, b_{2}, c_{3} \\right ), \\left ( a_{1}, b_{3}, c_{3} \\right ), \\left ( a_{2}, b_{1}, c_{2} \\right ), \\left ( a_{2}, b_{2}, c_{1} \\right ), \\left ( a_{2}, b_{2}, c_{2} \\right ), \\left ( a_{2}, b_{3}, c_{1} \\right ) \\right \\} $"
      ],
      "text/plain": [
       "<IPython.core.display.Math object>"
      ]
     },
     "metadata": {},
     "output_type": "display_data"
    },
    {
     "data": {
      "text/latex": [
       "$\\displaystyle \\;\\;\\;\\; \\left \\{  \\left ( a_{1}, b_{1}, c_{2} \\right ), \\left ( a_{1}, b_{2}, c_{2} \\right ), \\left ( a_{1}, b_{2}, c_{3} \\right ), \\left ( a_{1}, b_{3}, c_{3} \\right ), \\left ( a_{2}, b_{1}, c_{2} \\right ), \\left ( a_{2}, b_{2}, c_{2} \\right ), \\left ( a_{2}, b_{2}, c_{3} \\right ), \\left ( a_{2}, b_{3}, c_{3} \\right ) \\right \\} $"
      ],
      "text/plain": [
       "<IPython.core.display.Math object>"
      ]
     },
     "metadata": {},
     "output_type": "display_data"
    },
    {
     "data": {
      "text/latex": [
       "$\\displaystyle \\;\\;\\;\\; \\left \\{  \\left ( a_{1}, b_{1}, c_{2} \\right ), \\left ( a_{1}, b_{2}, c_{2} \\right ), \\left ( a_{1}, b_{2}, c_{3} \\right ), \\left ( a_{1}, b_{3}, c_{3} \\right ), \\left ( a_{2}, b_{1}, c_{3} \\right ), \\left ( a_{2}, b_{2}, c_{2} \\right ), \\left ( a_{2}, b_{2}, c_{3} \\right ), \\left ( a_{2}, b_{3}, c_{2} \\right ) \\right \\} $"
      ],
      "text/plain": [
       "<IPython.core.display.Math object>"
      ]
     },
     "metadata": {},
     "output_type": "display_data"
    },
    {
     "data": {
      "text/latex": [
       "$\\displaystyle \\;\\;\\;\\; \\left \\{  \\left ( a_{1}, b_{1}, c_{2} \\right ), \\left ( a_{1}, b_{2}, c_{2} \\right ), \\left ( a_{1}, b_{2}, c_{3} \\right ), \\left ( a_{1}, b_{3}, c_{3} \\right ), \\left ( a_{2}, b_{2}, c_{1} \\right ), \\left ( a_{2}, b_{2}, c_{2} \\right ), \\left ( a_{2}, b_{3}, c_{1} \\right ), \\left ( a_{2}, b_{3}, c_{2} \\right ) \\right \\} $"
      ],
      "text/plain": [
       "<IPython.core.display.Math object>"
      ]
     },
     "metadata": {},
     "output_type": "display_data"
    },
    {
     "data": {
      "text/latex": [
       "$\\displaystyle \\;\\;\\;\\; \\left \\{  \\left ( a_{1}, b_{1}, c_{2} \\right ), \\left ( a_{1}, b_{2}, c_{2} \\right ), \\left ( a_{1}, b_{2}, c_{3} \\right ), \\left ( a_{1}, b_{3}, c_{3} \\right ), \\left ( a_{2}, b_{2}, c_{2} \\right ), \\left ( a_{2}, b_{2}, c_{3} \\right ), \\left ( a_{2}, b_{3}, c_{2} \\right ), \\left ( a_{2}, b_{3}, c_{3} \\right ) \\right \\} $"
      ],
      "text/plain": [
       "<IPython.core.display.Math object>"
      ]
     },
     "metadata": {},
     "output_type": "display_data"
    },
    {
     "data": {
      "text/latex": [
       "$\\displaystyle \\;\\;\\;\\; \\left \\{  \\left ( a_{1}, b_{1}, c_{3} \\right ), \\left ( a_{1}, b_{2}, c_{2} \\right ), \\left ( a_{1}, b_{2}, c_{3} \\right ), \\left ( a_{1}, b_{3}, c_{2} \\right ), \\left ( a_{2}, b_{1}, c_{1} \\right ), \\left ( a_{2}, b_{1}, c_{2} \\right ), \\left ( a_{2}, b_{2}, c_{1} \\right ), \\left ( a_{2}, b_{2}, c_{2} \\right ) \\right \\} $"
      ],
      "text/plain": [
       "<IPython.core.display.Math object>"
      ]
     },
     "metadata": {},
     "output_type": "display_data"
    },
    {
     "data": {
      "text/latex": [
       "$\\displaystyle \\;\\;\\;\\; \\left \\{  \\left ( a_{1}, b_{1}, c_{3} \\right ), \\left ( a_{1}, b_{2}, c_{2} \\right ), \\left ( a_{1}, b_{2}, c_{3} \\right ), \\left ( a_{1}, b_{3}, c_{2} \\right ), \\left ( a_{2}, b_{1}, c_{1} \\right ), \\left ( a_{2}, b_{2}, c_{1} \\right ), \\left ( a_{2}, b_{2}, c_{2} \\right ), \\left ( a_{2}, b_{3}, c_{2} \\right ) \\right \\} $"
      ],
      "text/plain": [
       "<IPython.core.display.Math object>"
      ]
     },
     "metadata": {},
     "output_type": "display_data"
    },
    {
     "data": {
      "text/latex": [
       "$\\displaystyle \\;\\;\\;\\; \\left \\{  \\left ( a_{1}, b_{1}, c_{3} \\right ), \\left ( a_{1}, b_{2}, c_{2} \\right ), \\left ( a_{1}, b_{2}, c_{3} \\right ), \\left ( a_{1}, b_{3}, c_{2} \\right ), \\left ( a_{2}, b_{1}, c_{2} \\right ), \\left ( a_{2}, b_{1}, c_{3} \\right ), \\left ( a_{2}, b_{2}, c_{2} \\right ), \\left ( a_{2}, b_{2}, c_{3} \\right ) \\right \\} $"
      ],
      "text/plain": [
       "<IPython.core.display.Math object>"
      ]
     },
     "metadata": {},
     "output_type": "display_data"
    },
    {
     "data": {
      "text/latex": [
       "$\\displaystyle \\;\\;\\;\\; \\left \\{  \\left ( a_{1}, b_{1}, c_{3} \\right ), \\left ( a_{1}, b_{2}, c_{2} \\right ), \\left ( a_{1}, b_{2}, c_{3} \\right ), \\left ( a_{1}, b_{3}, c_{2} \\right ), \\left ( a_{2}, b_{1}, c_{2} \\right ), \\left ( a_{2}, b_{2}, c_{1} \\right ), \\left ( a_{2}, b_{2}, c_{2} \\right ), \\left ( a_{2}, b_{3}, c_{1} \\right ) \\right \\} $"
      ],
      "text/plain": [
       "<IPython.core.display.Math object>"
      ]
     },
     "metadata": {},
     "output_type": "display_data"
    },
    {
     "data": {
      "text/latex": [
       "$\\displaystyle \\;\\;\\;\\; \\left \\{  \\left ( a_{1}, b_{1}, c_{3} \\right ), \\left ( a_{1}, b_{2}, c_{2} \\right ), \\left ( a_{1}, b_{2}, c_{3} \\right ), \\left ( a_{1}, b_{3}, c_{2} \\right ), \\left ( a_{2}, b_{1}, c_{2} \\right ), \\left ( a_{2}, b_{2}, c_{2} \\right ), \\left ( a_{2}, b_{2}, c_{3} \\right ), \\left ( a_{2}, b_{3}, c_{3} \\right ) \\right \\} $"
      ],
      "text/plain": [
       "<IPython.core.display.Math object>"
      ]
     },
     "metadata": {},
     "output_type": "display_data"
    },
    {
     "data": {
      "text/latex": [
       "$\\displaystyle \\;\\;\\;\\; \\left \\{  \\left ( a_{1}, b_{1}, c_{3} \\right ), \\left ( a_{1}, b_{2}, c_{2} \\right ), \\left ( a_{1}, b_{2}, c_{3} \\right ), \\left ( a_{1}, b_{3}, c_{2} \\right ), \\left ( a_{2}, b_{1}, c_{3} \\right ), \\left ( a_{2}, b_{2}, c_{2} \\right ), \\left ( a_{2}, b_{2}, c_{3} \\right ), \\left ( a_{2}, b_{3}, c_{2} \\right ) \\right \\} $"
      ],
      "text/plain": [
       "<IPython.core.display.Math object>"
      ]
     },
     "metadata": {},
     "output_type": "display_data"
    },
    {
     "data": {
      "text/latex": [
       "$\\displaystyle \\;\\;\\;\\; \\left \\{  \\left ( a_{1}, b_{1}, c_{3} \\right ), \\left ( a_{1}, b_{2}, c_{2} \\right ), \\left ( a_{1}, b_{2}, c_{3} \\right ), \\left ( a_{1}, b_{3}, c_{2} \\right ), \\left ( a_{2}, b_{2}, c_{1} \\right ), \\left ( a_{2}, b_{2}, c_{2} \\right ), \\left ( a_{2}, b_{3}, c_{1} \\right ), \\left ( a_{2}, b_{3}, c_{2} \\right ) \\right \\} $"
      ],
      "text/plain": [
       "<IPython.core.display.Math object>"
      ]
     },
     "metadata": {},
     "output_type": "display_data"
    },
    {
     "data": {
      "text/latex": [
       "$\\displaystyle \\;\\;\\;\\; \\left \\{  \\left ( a_{1}, b_{1}, c_{3} \\right ), \\left ( a_{1}, b_{2}, c_{2} \\right ), \\left ( a_{1}, b_{2}, c_{3} \\right ), \\left ( a_{1}, b_{3}, c_{2} \\right ), \\left ( a_{2}, b_{2}, c_{2} \\right ), \\left ( a_{2}, b_{2}, c_{3} \\right ), \\left ( a_{2}, b_{3}, c_{2} \\right ), \\left ( a_{2}, b_{3}, c_{3} \\right ) \\right \\} $"
      ],
      "text/plain": [
       "<IPython.core.display.Math object>"
      ]
     },
     "metadata": {},
     "output_type": "display_data"
    },
    {
     "data": {
      "text/latex": [
       "$\\displaystyle \\;\\;\\;\\; \\left \\{  \\left ( a_{1}, b_{2}, c_{1} \\right ), \\left ( a_{1}, b_{2}, c_{2} \\right ), \\left ( a_{1}, b_{3}, c_{1} \\right ), \\left ( a_{1}, b_{3}, c_{2} \\right ), \\left ( a_{2}, b_{1}, c_{1} \\right ), \\left ( a_{2}, b_{1}, c_{2} \\right ), \\left ( a_{2}, b_{2}, c_{1} \\right ), \\left ( a_{2}, b_{2}, c_{2} \\right ) \\right \\} $"
      ],
      "text/plain": [
       "<IPython.core.display.Math object>"
      ]
     },
     "metadata": {},
     "output_type": "display_data"
    },
    {
     "data": {
      "text/latex": [
       "$\\displaystyle \\;\\;\\;\\; \\left \\{  \\left ( a_{1}, b_{2}, c_{1} \\right ), \\left ( a_{1}, b_{2}, c_{2} \\right ), \\left ( a_{1}, b_{3}, c_{1} \\right ), \\left ( a_{1}, b_{3}, c_{2} \\right ), \\left ( a_{2}, b_{1}, c_{1} \\right ), \\left ( a_{2}, b_{2}, c_{1} \\right ), \\left ( a_{2}, b_{2}, c_{2} \\right ), \\left ( a_{2}, b_{3}, c_{2} \\right ) \\right \\} $"
      ],
      "text/plain": [
       "<IPython.core.display.Math object>"
      ]
     },
     "metadata": {},
     "output_type": "display_data"
    },
    {
     "data": {
      "text/latex": [
       "$\\displaystyle \\;\\;\\;\\; \\left \\{  \\left ( a_{1}, b_{2}, c_{1} \\right ), \\left ( a_{1}, b_{2}, c_{2} \\right ), \\left ( a_{1}, b_{3}, c_{1} \\right ), \\left ( a_{1}, b_{3}, c_{2} \\right ), \\left ( a_{2}, b_{1}, c_{2} \\right ), \\left ( a_{2}, b_{1}, c_{3} \\right ), \\left ( a_{2}, b_{2}, c_{2} \\right ), \\left ( a_{2}, b_{2}, c_{3} \\right ) \\right \\} $"
      ],
      "text/plain": [
       "<IPython.core.display.Math object>"
      ]
     },
     "metadata": {},
     "output_type": "display_data"
    },
    {
     "data": {
      "text/latex": [
       "$\\displaystyle \\;\\;\\;\\; \\left \\{  \\left ( a_{1}, b_{2}, c_{1} \\right ), \\left ( a_{1}, b_{2}, c_{2} \\right ), \\left ( a_{1}, b_{3}, c_{1} \\right ), \\left ( a_{1}, b_{3}, c_{2} \\right ), \\left ( a_{2}, b_{1}, c_{2} \\right ), \\left ( a_{2}, b_{2}, c_{1} \\right ), \\left ( a_{2}, b_{2}, c_{2} \\right ), \\left ( a_{2}, b_{3}, c_{1} \\right ) \\right \\} $"
      ],
      "text/plain": [
       "<IPython.core.display.Math object>"
      ]
     },
     "metadata": {},
     "output_type": "display_data"
    },
    {
     "data": {
      "text/latex": [
       "$\\displaystyle \\;\\;\\;\\; \\left \\{  \\left ( a_{1}, b_{2}, c_{1} \\right ), \\left ( a_{1}, b_{2}, c_{2} \\right ), \\left ( a_{1}, b_{3}, c_{1} \\right ), \\left ( a_{1}, b_{3}, c_{2} \\right ), \\left ( a_{2}, b_{1}, c_{2} \\right ), \\left ( a_{2}, b_{2}, c_{2} \\right ), \\left ( a_{2}, b_{2}, c_{3} \\right ), \\left ( a_{2}, b_{3}, c_{3} \\right ) \\right \\} $"
      ],
      "text/plain": [
       "<IPython.core.display.Math object>"
      ]
     },
     "metadata": {},
     "output_type": "display_data"
    },
    {
     "data": {
      "text/latex": [
       "$\\displaystyle \\;\\;\\;\\; \\left \\{  \\left ( a_{1}, b_{2}, c_{1} \\right ), \\left ( a_{1}, b_{2}, c_{2} \\right ), \\left ( a_{1}, b_{3}, c_{1} \\right ), \\left ( a_{1}, b_{3}, c_{2} \\right ), \\left ( a_{2}, b_{1}, c_{3} \\right ), \\left ( a_{2}, b_{2}, c_{2} \\right ), \\left ( a_{2}, b_{2}, c_{3} \\right ), \\left ( a_{2}, b_{3}, c_{2} \\right ) \\right \\} $"
      ],
      "text/plain": [
       "<IPython.core.display.Math object>"
      ]
     },
     "metadata": {},
     "output_type": "display_data"
    },
    {
     "data": {
      "text/latex": [
       "$\\displaystyle \\;\\;\\;\\; \\left \\{  \\left ( a_{1}, b_{2}, c_{1} \\right ), \\left ( a_{1}, b_{2}, c_{2} \\right ), \\left ( a_{1}, b_{3}, c_{1} \\right ), \\left ( a_{1}, b_{3}, c_{2} \\right ), \\left ( a_{2}, b_{2}, c_{1} \\right ), \\left ( a_{2}, b_{2}, c_{2} \\right ), \\left ( a_{2}, b_{3}, c_{1} \\right ), \\left ( a_{2}, b_{3}, c_{2} \\right ) \\right \\} $"
      ],
      "text/plain": [
       "<IPython.core.display.Math object>"
      ]
     },
     "metadata": {},
     "output_type": "display_data"
    },
    {
     "data": {
      "text/latex": [
       "$\\displaystyle \\;\\;\\;\\; \\left \\{  \\left ( a_{1}, b_{2}, c_{1} \\right ), \\left ( a_{1}, b_{2}, c_{2} \\right ), \\left ( a_{1}, b_{3}, c_{1} \\right ), \\left ( a_{1}, b_{3}, c_{2} \\right ), \\left ( a_{2}, b_{2}, c_{1} \\right ), \\left ( a_{2}, b_{2}, c_{2} \\right ), \\left ( a_{2}, b_{3}, c_{2} \\right ), \\left ( a_{2}, b_{3}, c_{3} \\right ) \\right \\} $"
      ],
      "text/plain": [
       "<IPython.core.display.Math object>"
      ]
     },
     "metadata": {},
     "output_type": "display_data"
    },
    {
     "data": {
      "text/latex": [
       "$\\displaystyle \\;\\;\\;\\; \\left \\{  \\left ( a_{1}, b_{2}, c_{1} \\right ), \\left ( a_{1}, b_{2}, c_{2} \\right ), \\left ( a_{1}, b_{3}, c_{1} \\right ), \\left ( a_{1}, b_{3}, c_{2} \\right ), \\left ( a_{2}, b_{2}, c_{2} \\right ), \\left ( a_{2}, b_{2}, c_{3} \\right ), \\left ( a_{2}, b_{3}, c_{1} \\right ), \\left ( a_{2}, b_{3}, c_{2} \\right ) \\right \\} $"
      ],
      "text/plain": [
       "<IPython.core.display.Math object>"
      ]
     },
     "metadata": {},
     "output_type": "display_data"
    },
    {
     "data": {
      "text/latex": [
       "$\\displaystyle \\;\\;\\;\\; \\left \\{  \\left ( a_{1}, b_{2}, c_{1} \\right ), \\left ( a_{1}, b_{2}, c_{2} \\right ), \\left ( a_{1}, b_{3}, c_{1} \\right ), \\left ( a_{1}, b_{3}, c_{2} \\right ), \\left ( a_{2}, b_{2}, c_{2} \\right ), \\left ( a_{2}, b_{2}, c_{3} \\right ), \\left ( a_{2}, b_{3}, c_{2} \\right ), \\left ( a_{2}, b_{3}, c_{3} \\right ) \\right \\} $"
      ],
      "text/plain": [
       "<IPython.core.display.Math object>"
      ]
     },
     "metadata": {},
     "output_type": "display_data"
    },
    {
     "data": {
      "text/latex": [
       "$\\displaystyle \\;\\;\\;\\; \\left \\{  \\left ( a_{1}, b_{2}, c_{1} \\right ), \\left ( a_{1}, b_{2}, c_{2} \\right ), \\left ( a_{1}, b_{3}, c_{2} \\right ), \\left ( a_{1}, b_{3}, c_{3} \\right ), \\left ( a_{2}, b_{2}, c_{1} \\right ), \\left ( a_{2}, b_{2}, c_{2} \\right ), \\left ( a_{2}, b_{3}, c_{1} \\right ), \\left ( a_{2}, b_{3}, c_{2} \\right ) \\right \\} $"
      ],
      "text/plain": [
       "<IPython.core.display.Math object>"
      ]
     },
     "metadata": {},
     "output_type": "display_data"
    },
    {
     "data": {
      "text/latex": [
       "$\\displaystyle \\;\\;\\;\\; \\left \\{  \\left ( a_{1}, b_{2}, c_{1} \\right ), \\left ( a_{1}, b_{2}, c_{2} \\right ), \\left ( a_{1}, b_{3}, c_{2} \\right ), \\left ( a_{1}, b_{3}, c_{3} \\right ), \\left ( a_{2}, b_{2}, c_{1} \\right ), \\left ( a_{2}, b_{2}, c_{2} \\right ), \\left ( a_{2}, b_{3}, c_{2} \\right ), \\left ( a_{2}, b_{3}, c_{3} \\right ) \\right \\} $"
      ],
      "text/plain": [
       "<IPython.core.display.Math object>"
      ]
     },
     "metadata": {},
     "output_type": "display_data"
    },
    {
     "data": {
      "text/latex": [
       "$\\displaystyle \\;\\;\\;\\; \\left \\{  \\left ( a_{1}, b_{2}, c_{1} \\right ), \\left ( a_{1}, b_{2}, c_{2} \\right ), \\left ( a_{1}, b_{3}, c_{2} \\right ), \\left ( a_{1}, b_{3}, c_{3} \\right ), \\left ( a_{2}, b_{2}, c_{2} \\right ), \\left ( a_{2}, b_{2}, c_{3} \\right ), \\left ( a_{2}, b_{3}, c_{1} \\right ), \\left ( a_{2}, b_{3}, c_{2} \\right ) \\right \\} $"
      ],
      "text/plain": [
       "<IPython.core.display.Math object>"
      ]
     },
     "metadata": {},
     "output_type": "display_data"
    },
    {
     "data": {
      "text/latex": [
       "$\\displaystyle \\;\\;\\;\\; \\left \\{  \\left ( a_{1}, b_{2}, c_{1} \\right ), \\left ( a_{1}, b_{2}, c_{2} \\right ), \\left ( a_{1}, b_{3}, c_{2} \\right ), \\left ( a_{1}, b_{3}, c_{3} \\right ), \\left ( a_{2}, b_{2}, c_{2} \\right ), \\left ( a_{2}, b_{2}, c_{3} \\right ), \\left ( a_{2}, b_{3}, c_{2} \\right ), \\left ( a_{2}, b_{3}, c_{3} \\right ) \\right \\} $"
      ],
      "text/plain": [
       "<IPython.core.display.Math object>"
      ]
     },
     "metadata": {},
     "output_type": "display_data"
    },
    {
     "data": {
      "text/latex": [
       "$\\displaystyle \\;\\;\\;\\; \\left \\{  \\left ( a_{1}, b_{2}, c_{2} \\right ), \\left ( a_{1}, b_{2}, c_{3} \\right ), \\left ( a_{1}, b_{3}, c_{1} \\right ), \\left ( a_{1}, b_{3}, c_{2} \\right ), \\left ( a_{2}, b_{2}, c_{1} \\right ), \\left ( a_{2}, b_{2}, c_{2} \\right ), \\left ( a_{2}, b_{3}, c_{1} \\right ), \\left ( a_{2}, b_{3}, c_{2} \\right ) \\right \\} $"
      ],
      "text/plain": [
       "<IPython.core.display.Math object>"
      ]
     },
     "metadata": {},
     "output_type": "display_data"
    },
    {
     "data": {
      "text/latex": [
       "$\\displaystyle \\;\\;\\;\\; \\left \\{  \\left ( a_{1}, b_{2}, c_{2} \\right ), \\left ( a_{1}, b_{2}, c_{3} \\right ), \\left ( a_{1}, b_{3}, c_{1} \\right ), \\left ( a_{1}, b_{3}, c_{2} \\right ), \\left ( a_{2}, b_{2}, c_{1} \\right ), \\left ( a_{2}, b_{2}, c_{2} \\right ), \\left ( a_{2}, b_{3}, c_{2} \\right ), \\left ( a_{2}, b_{3}, c_{3} \\right ) \\right \\} $"
      ],
      "text/plain": [
       "<IPython.core.display.Math object>"
      ]
     },
     "metadata": {},
     "output_type": "display_data"
    },
    {
     "data": {
      "text/latex": [
       "$\\displaystyle \\;\\;\\;\\; \\left \\{  \\left ( a_{1}, b_{2}, c_{2} \\right ), \\left ( a_{1}, b_{2}, c_{3} \\right ), \\left ( a_{1}, b_{3}, c_{1} \\right ), \\left ( a_{1}, b_{3}, c_{2} \\right ), \\left ( a_{2}, b_{2}, c_{2} \\right ), \\left ( a_{2}, b_{2}, c_{3} \\right ), \\left ( a_{2}, b_{3}, c_{1} \\right ), \\left ( a_{2}, b_{3}, c_{2} \\right ) \\right \\} $"
      ],
      "text/plain": [
       "<IPython.core.display.Math object>"
      ]
     },
     "metadata": {},
     "output_type": "display_data"
    },
    {
     "data": {
      "text/latex": [
       "$\\displaystyle \\;\\;\\;\\; \\left \\{  \\left ( a_{1}, b_{2}, c_{2} \\right ), \\left ( a_{1}, b_{2}, c_{3} \\right ), \\left ( a_{1}, b_{3}, c_{1} \\right ), \\left ( a_{1}, b_{3}, c_{2} \\right ), \\left ( a_{2}, b_{2}, c_{2} \\right ), \\left ( a_{2}, b_{2}, c_{3} \\right ), \\left ( a_{2}, b_{3}, c_{2} \\right ), \\left ( a_{2}, b_{3}, c_{3} \\right ) \\right \\} $"
      ],
      "text/plain": [
       "<IPython.core.display.Math object>"
      ]
     },
     "metadata": {},
     "output_type": "display_data"
    },
    {
     "data": {
      "text/latex": [
       "$\\displaystyle \\;\\;\\;\\; \\left \\{  \\left ( a_{1}, b_{2}, c_{2} \\right ), \\left ( a_{1}, b_{2}, c_{3} \\right ), \\left ( a_{1}, b_{3}, c_{2} \\right ), \\left ( a_{1}, b_{3}, c_{3} \\right ), \\left ( a_{2}, b_{1}, c_{1} \\right ), \\left ( a_{2}, b_{1}, c_{2} \\right ), \\left ( a_{2}, b_{2}, c_{1} \\right ), \\left ( a_{2}, b_{2}, c_{2} \\right ) \\right \\} $"
      ],
      "text/plain": [
       "<IPython.core.display.Math object>"
      ]
     },
     "metadata": {},
     "output_type": "display_data"
    },
    {
     "data": {
      "text/latex": [
       "$\\displaystyle \\;\\;\\;\\; \\left \\{  \\left ( a_{1}, b_{2}, c_{2} \\right ), \\left ( a_{1}, b_{2}, c_{3} \\right ), \\left ( a_{1}, b_{3}, c_{2} \\right ), \\left ( a_{1}, b_{3}, c_{3} \\right ), \\left ( a_{2}, b_{1}, c_{1} \\right ), \\left ( a_{2}, b_{2}, c_{1} \\right ), \\left ( a_{2}, b_{2}, c_{2} \\right ), \\left ( a_{2}, b_{3}, c_{2} \\right ) \\right \\} $"
      ],
      "text/plain": [
       "<IPython.core.display.Math object>"
      ]
     },
     "metadata": {},
     "output_type": "display_data"
    },
    {
     "data": {
      "text/latex": [
       "$\\displaystyle \\;\\;\\;\\; \\left \\{  \\left ( a_{1}, b_{2}, c_{2} \\right ), \\left ( a_{1}, b_{2}, c_{3} \\right ), \\left ( a_{1}, b_{3}, c_{2} \\right ), \\left ( a_{1}, b_{3}, c_{3} \\right ), \\left ( a_{2}, b_{1}, c_{2} \\right ), \\left ( a_{2}, b_{1}, c_{3} \\right ), \\left ( a_{2}, b_{2}, c_{2} \\right ), \\left ( a_{2}, b_{2}, c_{3} \\right ) \\right \\} $"
      ],
      "text/plain": [
       "<IPython.core.display.Math object>"
      ]
     },
     "metadata": {},
     "output_type": "display_data"
    },
    {
     "data": {
      "text/latex": [
       "$\\displaystyle \\;\\;\\;\\; \\left \\{  \\left ( a_{1}, b_{2}, c_{2} \\right ), \\left ( a_{1}, b_{2}, c_{3} \\right ), \\left ( a_{1}, b_{3}, c_{2} \\right ), \\left ( a_{1}, b_{3}, c_{3} \\right ), \\left ( a_{2}, b_{1}, c_{2} \\right ), \\left ( a_{2}, b_{2}, c_{1} \\right ), \\left ( a_{2}, b_{2}, c_{2} \\right ), \\left ( a_{2}, b_{3}, c_{1} \\right ) \\right \\} $"
      ],
      "text/plain": [
       "<IPython.core.display.Math object>"
      ]
     },
     "metadata": {},
     "output_type": "display_data"
    },
    {
     "data": {
      "text/latex": [
       "$\\displaystyle \\;\\;\\;\\; \\left \\{  \\left ( a_{1}, b_{2}, c_{2} \\right ), \\left ( a_{1}, b_{2}, c_{3} \\right ), \\left ( a_{1}, b_{3}, c_{2} \\right ), \\left ( a_{1}, b_{3}, c_{3} \\right ), \\left ( a_{2}, b_{1}, c_{2} \\right ), \\left ( a_{2}, b_{2}, c_{2} \\right ), \\left ( a_{2}, b_{2}, c_{3} \\right ), \\left ( a_{2}, b_{3}, c_{3} \\right ) \\right \\} $"
      ],
      "text/plain": [
       "<IPython.core.display.Math object>"
      ]
     },
     "metadata": {},
     "output_type": "display_data"
    },
    {
     "data": {
      "text/latex": [
       "$\\displaystyle \\;\\;\\;\\; \\left \\{  \\left ( a_{1}, b_{2}, c_{2} \\right ), \\left ( a_{1}, b_{2}, c_{3} \\right ), \\left ( a_{1}, b_{3}, c_{2} \\right ), \\left ( a_{1}, b_{3}, c_{3} \\right ), \\left ( a_{2}, b_{1}, c_{3} \\right ), \\left ( a_{2}, b_{2}, c_{2} \\right ), \\left ( a_{2}, b_{2}, c_{3} \\right ), \\left ( a_{2}, b_{3}, c_{2} \\right ) \\right \\} $"
      ],
      "text/plain": [
       "<IPython.core.display.Math object>"
      ]
     },
     "metadata": {},
     "output_type": "display_data"
    },
    {
     "data": {
      "text/latex": [
       "$\\displaystyle \\;\\;\\;\\; \\left \\{  \\left ( a_{1}, b_{2}, c_{2} \\right ), \\left ( a_{1}, b_{2}, c_{3} \\right ), \\left ( a_{1}, b_{3}, c_{2} \\right ), \\left ( a_{1}, b_{3}, c_{3} \\right ), \\left ( a_{2}, b_{2}, c_{1} \\right ), \\left ( a_{2}, b_{2}, c_{2} \\right ), \\left ( a_{2}, b_{3}, c_{1} \\right ), \\left ( a_{2}, b_{3}, c_{2} \\right ) \\right \\} $"
      ],
      "text/plain": [
       "<IPython.core.display.Math object>"
      ]
     },
     "metadata": {},
     "output_type": "display_data"
    },
    {
     "data": {
      "text/latex": [
       "$\\displaystyle \\;\\;\\;\\; \\left \\{  \\left ( a_{1}, b_{2}, c_{2} \\right ), \\left ( a_{1}, b_{2}, c_{3} \\right ), \\left ( a_{1}, b_{3}, c_{2} \\right ), \\left ( a_{1}, b_{3}, c_{3} \\right ), \\left ( a_{2}, b_{2}, c_{1} \\right ), \\left ( a_{2}, b_{2}, c_{2} \\right ), \\left ( a_{2}, b_{3}, c_{2} \\right ), \\left ( a_{2}, b_{3}, c_{3} \\right ) \\right \\} $"
      ],
      "text/plain": [
       "<IPython.core.display.Math object>"
      ]
     },
     "metadata": {},
     "output_type": "display_data"
    },
    {
     "data": {
      "text/latex": [
       "$\\displaystyle \\;\\;\\;\\; \\left \\{  \\left ( a_{1}, b_{2}, c_{2} \\right ), \\left ( a_{1}, b_{2}, c_{3} \\right ), \\left ( a_{1}, b_{3}, c_{2} \\right ), \\left ( a_{1}, b_{3}, c_{3} \\right ), \\left ( a_{2}, b_{2}, c_{2} \\right ), \\left ( a_{2}, b_{2}, c_{3} \\right ), \\left ( a_{2}, b_{3}, c_{1} \\right ), \\left ( a_{2}, b_{3}, c_{2} \\right ) \\right \\} $"
      ],
      "text/plain": [
       "<IPython.core.display.Math object>"
      ]
     },
     "metadata": {},
     "output_type": "display_data"
    },
    {
     "data": {
      "text/latex": [
       "$\\displaystyle \\;\\;\\;\\; \\left \\{  \\left ( a_{1}, b_{2}, c_{2} \\right ), \\left ( a_{1}, b_{2}, c_{3} \\right ), \\left ( a_{1}, b_{3}, c_{2} \\right ), \\left ( a_{1}, b_{3}, c_{3} \\right ), \\left ( a_{2}, b_{2}, c_{2} \\right ), \\left ( a_{2}, b_{2}, c_{3} \\right ), \\left ( a_{2}, b_{3}, c_{2} \\right ), \\left ( a_{2}, b_{3}, c_{3} \\right ) \\right \\} $"
      ],
      "text/plain": [
       "<IPython.core.display.Math object>"
      ]
     },
     "metadata": {},
     "output_type": "display_data"
    },
    {
     "data": {
      "text/latex": [
       "$\\displaystyle H_A \\otimes \\left (H_C \\otimes H_B \\right ) $"
      ],
      "text/plain": [
       "<IPython.core.display.Math object>"
      ]
     },
     "metadata": {},
     "output_type": "display_data"
    },
    {
     "data": {
      "text/latex": [
       "$\\displaystyle \\;\\;\\;\\; \\left \\{  \\left ( a_{1}, b_{1}, c_{1} \\right ), \\left ( a_{1}, b_{1}, c_{2} \\right ), \\left ( a_{1}, b_{2}, c_{1} \\right ), \\left ( a_{1}, b_{2}, c_{2} \\right ), \\left ( a_{2}, b_{1}, c_{1} \\right ), \\left ( a_{2}, b_{1}, c_{2} \\right ), \\left ( a_{2}, b_{2}, c_{1} \\right ), \\left ( a_{2}, b_{2}, c_{2} \\right ) \\right \\} $"
      ],
      "text/plain": [
       "<IPython.core.display.Math object>"
      ]
     },
     "metadata": {},
     "output_type": "display_data"
    },
    {
     "data": {
      "text/latex": [
       "$\\displaystyle \\;\\;\\;\\; \\left \\{  \\left ( a_{1}, b_{1}, c_{1} \\right ), \\left ( a_{1}, b_{1}, c_{2} \\right ), \\left ( a_{1}, b_{2}, c_{1} \\right ), \\left ( a_{1}, b_{2}, c_{2} \\right ), \\left ( a_{2}, b_{1}, c_{1} \\right ), \\left ( a_{2}, b_{1}, c_{2} \\right ), \\left ( a_{2}, b_{2}, c_{2} \\right ), \\left ( a_{2}, b_{2}, c_{3} \\right ) \\right \\} $"
      ],
      "text/plain": [
       "<IPython.core.display.Math object>"
      ]
     },
     "metadata": {},
     "output_type": "display_data"
    },
    {
     "data": {
      "text/latex": [
       "$\\displaystyle \\;\\;\\;\\; \\left \\{  \\left ( a_{1}, b_{1}, c_{1} \\right ), \\left ( a_{1}, b_{1}, c_{2} \\right ), \\left ( a_{1}, b_{2}, c_{1} \\right ), \\left ( a_{1}, b_{2}, c_{2} \\right ), \\left ( a_{2}, b_{1}, c_{1} \\right ), \\left ( a_{2}, b_{2}, c_{1} \\right ), \\left ( a_{2}, b_{2}, c_{2} \\right ), \\left ( a_{2}, b_{3}, c_{2} \\right ) \\right \\} $"
      ],
      "text/plain": [
       "<IPython.core.display.Math object>"
      ]
     },
     "metadata": {},
     "output_type": "display_data"
    },
    {
     "data": {
      "text/latex": [
       "$\\displaystyle \\;\\;\\;\\; \\left \\{  \\left ( a_{1}, b_{1}, c_{1} \\right ), \\left ( a_{1}, b_{1}, c_{2} \\right ), \\left ( a_{1}, b_{2}, c_{1} \\right ), \\left ( a_{1}, b_{2}, c_{2} \\right ), \\left ( a_{2}, b_{1}, c_{2} \\right ), \\left ( a_{2}, b_{1}, c_{3} \\right ), \\left ( a_{2}, b_{2}, c_{1} \\right ), \\left ( a_{2}, b_{2}, c_{2} \\right ) \\right \\} $"
      ],
      "text/plain": [
       "<IPython.core.display.Math object>"
      ]
     },
     "metadata": {},
     "output_type": "display_data"
    },
    {
     "data": {
      "text/latex": [
       "$\\displaystyle \\;\\;\\;\\; \\left \\{  \\left ( a_{1}, b_{1}, c_{1} \\right ), \\left ( a_{1}, b_{1}, c_{2} \\right ), \\left ( a_{1}, b_{2}, c_{1} \\right ), \\left ( a_{1}, b_{2}, c_{2} \\right ), \\left ( a_{2}, b_{1}, c_{2} \\right ), \\left ( a_{2}, b_{1}, c_{3} \\right ), \\left ( a_{2}, b_{2}, c_{2} \\right ), \\left ( a_{2}, b_{2}, c_{3} \\right ) \\right \\} $"
      ],
      "text/plain": [
       "<IPython.core.display.Math object>"
      ]
     },
     "metadata": {},
     "output_type": "display_data"
    },
    {
     "data": {
      "text/latex": [
       "$\\displaystyle \\;\\;\\;\\; \\left \\{  \\left ( a_{1}, b_{1}, c_{1} \\right ), \\left ( a_{1}, b_{1}, c_{2} \\right ), \\left ( a_{1}, b_{2}, c_{1} \\right ), \\left ( a_{1}, b_{2}, c_{2} \\right ), \\left ( a_{2}, b_{1}, c_{2} \\right ), \\left ( a_{2}, b_{2}, c_{1} \\right ), \\left ( a_{2}, b_{2}, c_{2} \\right ), \\left ( a_{2}, b_{3}, c_{1} \\right ) \\right \\} $"
      ],
      "text/plain": [
       "<IPython.core.display.Math object>"
      ]
     },
     "metadata": {},
     "output_type": "display_data"
    },
    {
     "data": {
      "text/latex": [
       "$\\displaystyle \\;\\;\\;\\; \\left \\{  \\left ( a_{1}, b_{1}, c_{1} \\right ), \\left ( a_{1}, b_{1}, c_{2} \\right ), \\left ( a_{1}, b_{2}, c_{1} \\right ), \\left ( a_{1}, b_{2}, c_{2} \\right ), \\left ( a_{2}, b_{2}, c_{1} \\right ), \\left ( a_{2}, b_{2}, c_{2} \\right ), \\left ( a_{2}, b_{3}, c_{1} \\right ), \\left ( a_{2}, b_{3}, c_{2} \\right ) \\right \\} $"
      ],
      "text/plain": [
       "<IPython.core.display.Math object>"
      ]
     },
     "metadata": {},
     "output_type": "display_data"
    },
    {
     "data": {
      "text/latex": [
       "$\\displaystyle \\;\\;\\;\\; \\left \\{  \\left ( a_{1}, b_{1}, c_{1} \\right ), \\left ( a_{1}, b_{1}, c_{2} \\right ), \\left ( a_{1}, b_{2}, c_{1} \\right ), \\left ( a_{1}, b_{2}, c_{2} \\right ), \\left ( a_{2}, b_{2}, c_{1} \\right ), \\left ( a_{2}, b_{2}, c_{2} \\right ), \\left ( a_{2}, b_{3}, c_{2} \\right ), \\left ( a_{2}, b_{3}, c_{3} \\right ) \\right \\} $"
      ],
      "text/plain": [
       "<IPython.core.display.Math object>"
      ]
     },
     "metadata": {},
     "output_type": "display_data"
    },
    {
     "data": {
      "text/latex": [
       "$\\displaystyle \\;\\;\\;\\; \\left \\{  \\left ( a_{1}, b_{1}, c_{1} \\right ), \\left ( a_{1}, b_{1}, c_{2} \\right ), \\left ( a_{1}, b_{2}, c_{1} \\right ), \\left ( a_{1}, b_{2}, c_{2} \\right ), \\left ( a_{2}, b_{2}, c_{2} \\right ), \\left ( a_{2}, b_{2}, c_{3} \\right ), \\left ( a_{2}, b_{3}, c_{1} \\right ), \\left ( a_{2}, b_{3}, c_{2} \\right ) \\right \\} $"
      ],
      "text/plain": [
       "<IPython.core.display.Math object>"
      ]
     },
     "metadata": {},
     "output_type": "display_data"
    },
    {
     "data": {
      "text/latex": [
       "$\\displaystyle \\;\\;\\;\\; \\left \\{  \\left ( a_{1}, b_{1}, c_{1} \\right ), \\left ( a_{1}, b_{1}, c_{2} \\right ), \\left ( a_{1}, b_{2}, c_{1} \\right ), \\left ( a_{1}, b_{2}, c_{2} \\right ), \\left ( a_{2}, b_{2}, c_{2} \\right ), \\left ( a_{2}, b_{2}, c_{3} \\right ), \\left ( a_{2}, b_{3}, c_{2} \\right ), \\left ( a_{2}, b_{3}, c_{3} \\right ) \\right \\} $"
      ],
      "text/plain": [
       "<IPython.core.display.Math object>"
      ]
     },
     "metadata": {},
     "output_type": "display_data"
    },
    {
     "data": {
      "text/latex": [
       "$\\displaystyle \\;\\;\\;\\; \\left \\{  \\left ( a_{1}, b_{1}, c_{1} \\right ), \\left ( a_{1}, b_{1}, c_{2} \\right ), \\left ( a_{1}, b_{2}, c_{2} \\right ), \\left ( a_{1}, b_{2}, c_{3} \\right ), \\left ( a_{2}, b_{1}, c_{1} \\right ), \\left ( a_{2}, b_{1}, c_{2} \\right ), \\left ( a_{2}, b_{2}, c_{1} \\right ), \\left ( a_{2}, b_{2}, c_{2} \\right ) \\right \\} $"
      ],
      "text/plain": [
       "<IPython.core.display.Math object>"
      ]
     },
     "metadata": {},
     "output_type": "display_data"
    },
    {
     "data": {
      "text/latex": [
       "$\\displaystyle \\;\\;\\;\\; \\left \\{  \\left ( a_{1}, b_{1}, c_{1} \\right ), \\left ( a_{1}, b_{1}, c_{2} \\right ), \\left ( a_{1}, b_{2}, c_{2} \\right ), \\left ( a_{1}, b_{2}, c_{3} \\right ), \\left ( a_{2}, b_{1}, c_{1} \\right ), \\left ( a_{2}, b_{1}, c_{2} \\right ), \\left ( a_{2}, b_{2}, c_{2} \\right ), \\left ( a_{2}, b_{2}, c_{3} \\right ) \\right \\} $"
      ],
      "text/plain": [
       "<IPython.core.display.Math object>"
      ]
     },
     "metadata": {},
     "output_type": "display_data"
    },
    {
     "data": {
      "text/latex": [
       "$\\displaystyle \\;\\;\\;\\; \\left \\{  \\left ( a_{1}, b_{1}, c_{1} \\right ), \\left ( a_{1}, b_{1}, c_{2} \\right ), \\left ( a_{1}, b_{2}, c_{2} \\right ), \\left ( a_{1}, b_{2}, c_{3} \\right ), \\left ( a_{2}, b_{1}, c_{2} \\right ), \\left ( a_{2}, b_{1}, c_{3} \\right ), \\left ( a_{2}, b_{2}, c_{1} \\right ), \\left ( a_{2}, b_{2}, c_{2} \\right ) \\right \\} $"
      ],
      "text/plain": [
       "<IPython.core.display.Math object>"
      ]
     },
     "metadata": {},
     "output_type": "display_data"
    },
    {
     "data": {
      "text/latex": [
       "$\\displaystyle \\;\\;\\;\\; \\left \\{  \\left ( a_{1}, b_{1}, c_{1} \\right ), \\left ( a_{1}, b_{1}, c_{2} \\right ), \\left ( a_{1}, b_{2}, c_{2} \\right ), \\left ( a_{1}, b_{2}, c_{3} \\right ), \\left ( a_{2}, b_{1}, c_{2} \\right ), \\left ( a_{2}, b_{1}, c_{3} \\right ), \\left ( a_{2}, b_{2}, c_{2} \\right ), \\left ( a_{2}, b_{2}, c_{3} \\right ) \\right \\} $"
      ],
      "text/plain": [
       "<IPython.core.display.Math object>"
      ]
     },
     "metadata": {},
     "output_type": "display_data"
    },
    {
     "data": {
      "text/latex": [
       "$\\displaystyle \\;\\;\\;\\; \\left \\{  \\left ( a_{1}, b_{1}, c_{1} \\right ), \\left ( a_{1}, b_{1}, c_{2} \\right ), \\left ( a_{1}, b_{2}, c_{2} \\right ), \\left ( a_{1}, b_{2}, c_{3} \\right ), \\left ( a_{2}, b_{2}, c_{1} \\right ), \\left ( a_{2}, b_{2}, c_{2} \\right ), \\left ( a_{2}, b_{3}, c_{1} \\right ), \\left ( a_{2}, b_{3}, c_{2} \\right ) \\right \\} $"
      ],
      "text/plain": [
       "<IPython.core.display.Math object>"
      ]
     },
     "metadata": {},
     "output_type": "display_data"
    },
    {
     "data": {
      "text/latex": [
       "$\\displaystyle \\;\\;\\;\\; \\left \\{  \\left ( a_{1}, b_{1}, c_{1} \\right ), \\left ( a_{1}, b_{1}, c_{2} \\right ), \\left ( a_{1}, b_{2}, c_{2} \\right ), \\left ( a_{1}, b_{2}, c_{3} \\right ), \\left ( a_{2}, b_{2}, c_{1} \\right ), \\left ( a_{2}, b_{2}, c_{2} \\right ), \\left ( a_{2}, b_{3}, c_{2} \\right ), \\left ( a_{2}, b_{3}, c_{3} \\right ) \\right \\} $"
      ],
      "text/plain": [
       "<IPython.core.display.Math object>"
      ]
     },
     "metadata": {},
     "output_type": "display_data"
    },
    {
     "data": {
      "text/latex": [
       "$\\displaystyle \\;\\;\\;\\; \\left \\{  \\left ( a_{1}, b_{1}, c_{1} \\right ), \\left ( a_{1}, b_{1}, c_{2} \\right ), \\left ( a_{1}, b_{2}, c_{2} \\right ), \\left ( a_{1}, b_{2}, c_{3} \\right ), \\left ( a_{2}, b_{2}, c_{2} \\right ), \\left ( a_{2}, b_{2}, c_{3} \\right ), \\left ( a_{2}, b_{3}, c_{1} \\right ), \\left ( a_{2}, b_{3}, c_{2} \\right ) \\right \\} $"
      ],
      "text/plain": [
       "<IPython.core.display.Math object>"
      ]
     },
     "metadata": {},
     "output_type": "display_data"
    },
    {
     "data": {
      "text/latex": [
       "$\\displaystyle \\;\\;\\;\\; \\left \\{  \\left ( a_{1}, b_{1}, c_{1} \\right ), \\left ( a_{1}, b_{1}, c_{2} \\right ), \\left ( a_{1}, b_{2}, c_{2} \\right ), \\left ( a_{1}, b_{2}, c_{3} \\right ), \\left ( a_{2}, b_{2}, c_{2} \\right ), \\left ( a_{2}, b_{2}, c_{3} \\right ), \\left ( a_{2}, b_{3}, c_{2} \\right ), \\left ( a_{2}, b_{3}, c_{3} \\right ) \\right \\} $"
      ],
      "text/plain": [
       "<IPython.core.display.Math object>"
      ]
     },
     "metadata": {},
     "output_type": "display_data"
    },
    {
     "data": {
      "text/latex": [
       "$\\displaystyle \\;\\;\\;\\; \\left \\{  \\left ( a_{1}, b_{1}, c_{1} \\right ), \\left ( a_{1}, b_{2}, c_{1} \\right ), \\left ( a_{1}, b_{2}, c_{2} \\right ), \\left ( a_{1}, b_{3}, c_{2} \\right ), \\left ( a_{2}, b_{1}, c_{1} \\right ), \\left ( a_{2}, b_{1}, c_{2} \\right ), \\left ( a_{2}, b_{2}, c_{1} \\right ), \\left ( a_{2}, b_{2}, c_{2} \\right ) \\right \\} $"
      ],
      "text/plain": [
       "<IPython.core.display.Math object>"
      ]
     },
     "metadata": {},
     "output_type": "display_data"
    },
    {
     "data": {
      "text/latex": [
       "$\\displaystyle \\;\\;\\;\\; \\left \\{  \\left ( a_{1}, b_{1}, c_{1} \\right ), \\left ( a_{1}, b_{2}, c_{1} \\right ), \\left ( a_{1}, b_{2}, c_{2} \\right ), \\left ( a_{1}, b_{3}, c_{2} \\right ), \\left ( a_{2}, b_{1}, c_{1} \\right ), \\left ( a_{2}, b_{2}, c_{1} \\right ), \\left ( a_{2}, b_{2}, c_{2} \\right ), \\left ( a_{2}, b_{3}, c_{2} \\right ) \\right \\} $"
      ],
      "text/plain": [
       "<IPython.core.display.Math object>"
      ]
     },
     "metadata": {},
     "output_type": "display_data"
    },
    {
     "data": {
      "text/latex": [
       "$\\displaystyle \\;\\;\\;\\; \\left \\{  \\left ( a_{1}, b_{1}, c_{1} \\right ), \\left ( a_{1}, b_{2}, c_{1} \\right ), \\left ( a_{1}, b_{2}, c_{2} \\right ), \\left ( a_{1}, b_{3}, c_{2} \\right ), \\left ( a_{2}, b_{1}, c_{2} \\right ), \\left ( a_{2}, b_{2}, c_{1} \\right ), \\left ( a_{2}, b_{2}, c_{2} \\right ), \\left ( a_{2}, b_{3}, c_{1} \\right ) \\right \\} $"
      ],
      "text/plain": [
       "<IPython.core.display.Math object>"
      ]
     },
     "metadata": {},
     "output_type": "display_data"
    },
    {
     "data": {
      "text/latex": [
       "$\\displaystyle \\;\\;\\;\\; \\left \\{  \\left ( a_{1}, b_{1}, c_{1} \\right ), \\left ( a_{1}, b_{2}, c_{1} \\right ), \\left ( a_{1}, b_{2}, c_{2} \\right ), \\left ( a_{1}, b_{3}, c_{2} \\right ), \\left ( a_{2}, b_{2}, c_{1} \\right ), \\left ( a_{2}, b_{2}, c_{2} \\right ), \\left ( a_{2}, b_{3}, c_{1} \\right ), \\left ( a_{2}, b_{3}, c_{2} \\right ) \\right \\} $"
      ],
      "text/plain": [
       "<IPython.core.display.Math object>"
      ]
     },
     "metadata": {},
     "output_type": "display_data"
    },
    {
     "data": {
      "text/latex": [
       "$\\displaystyle \\;\\;\\;\\; \\left \\{  \\left ( a_{1}, b_{1}, c_{2} \\right ), \\left ( a_{1}, b_{1}, c_{3} \\right ), \\left ( a_{1}, b_{2}, c_{1} \\right ), \\left ( a_{1}, b_{2}, c_{2} \\right ), \\left ( a_{2}, b_{1}, c_{1} \\right ), \\left ( a_{2}, b_{1}, c_{2} \\right ), \\left ( a_{2}, b_{2}, c_{1} \\right ), \\left ( a_{2}, b_{2}, c_{2} \\right ) \\right \\} $"
      ],
      "text/plain": [
       "<IPython.core.display.Math object>"
      ]
     },
     "metadata": {},
     "output_type": "display_data"
    },
    {
     "data": {
      "text/latex": [
       "$\\displaystyle \\;\\;\\;\\; \\left \\{  \\left ( a_{1}, b_{1}, c_{2} \\right ), \\left ( a_{1}, b_{1}, c_{3} \\right ), \\left ( a_{1}, b_{2}, c_{1} \\right ), \\left ( a_{1}, b_{2}, c_{2} \\right ), \\left ( a_{2}, b_{1}, c_{1} \\right ), \\left ( a_{2}, b_{1}, c_{2} \\right ), \\left ( a_{2}, b_{2}, c_{2} \\right ), \\left ( a_{2}, b_{2}, c_{3} \\right ) \\right \\} $"
      ],
      "text/plain": [
       "<IPython.core.display.Math object>"
      ]
     },
     "metadata": {},
     "output_type": "display_data"
    },
    {
     "data": {
      "text/latex": [
       "$\\displaystyle \\;\\;\\;\\; \\left \\{  \\left ( a_{1}, b_{1}, c_{2} \\right ), \\left ( a_{1}, b_{1}, c_{3} \\right ), \\left ( a_{1}, b_{2}, c_{1} \\right ), \\left ( a_{1}, b_{2}, c_{2} \\right ), \\left ( a_{2}, b_{1}, c_{2} \\right ), \\left ( a_{2}, b_{1}, c_{3} \\right ), \\left ( a_{2}, b_{2}, c_{1} \\right ), \\left ( a_{2}, b_{2}, c_{2} \\right ) \\right \\} $"
      ],
      "text/plain": [
       "<IPython.core.display.Math object>"
      ]
     },
     "metadata": {},
     "output_type": "display_data"
    },
    {
     "data": {
      "text/latex": [
       "$\\displaystyle \\;\\;\\;\\; \\left \\{  \\left ( a_{1}, b_{1}, c_{2} \\right ), \\left ( a_{1}, b_{1}, c_{3} \\right ), \\left ( a_{1}, b_{2}, c_{1} \\right ), \\left ( a_{1}, b_{2}, c_{2} \\right ), \\left ( a_{2}, b_{1}, c_{2} \\right ), \\left ( a_{2}, b_{1}, c_{3} \\right ), \\left ( a_{2}, b_{2}, c_{2} \\right ), \\left ( a_{2}, b_{2}, c_{3} \\right ) \\right \\} $"
      ],
      "text/plain": [
       "<IPython.core.display.Math object>"
      ]
     },
     "metadata": {},
     "output_type": "display_data"
    },
    {
     "data": {
      "text/latex": [
       "$\\displaystyle \\;\\;\\;\\; \\left \\{  \\left ( a_{1}, b_{1}, c_{2} \\right ), \\left ( a_{1}, b_{1}, c_{3} \\right ), \\left ( a_{1}, b_{2}, c_{1} \\right ), \\left ( a_{1}, b_{2}, c_{2} \\right ), \\left ( a_{2}, b_{2}, c_{1} \\right ), \\left ( a_{2}, b_{2}, c_{2} \\right ), \\left ( a_{2}, b_{3}, c_{1} \\right ), \\left ( a_{2}, b_{3}, c_{2} \\right ) \\right \\} $"
      ],
      "text/plain": [
       "<IPython.core.display.Math object>"
      ]
     },
     "metadata": {},
     "output_type": "display_data"
    },
    {
     "data": {
      "text/latex": [
       "$\\displaystyle \\;\\;\\;\\; \\left \\{  \\left ( a_{1}, b_{1}, c_{2} \\right ), \\left ( a_{1}, b_{1}, c_{3} \\right ), \\left ( a_{1}, b_{2}, c_{1} \\right ), \\left ( a_{1}, b_{2}, c_{2} \\right ), \\left ( a_{2}, b_{2}, c_{1} \\right ), \\left ( a_{2}, b_{2}, c_{2} \\right ), \\left ( a_{2}, b_{3}, c_{2} \\right ), \\left ( a_{2}, b_{3}, c_{3} \\right ) \\right \\} $"
      ],
      "text/plain": [
       "<IPython.core.display.Math object>"
      ]
     },
     "metadata": {},
     "output_type": "display_data"
    },
    {
     "data": {
      "text/latex": [
       "$\\displaystyle \\;\\;\\;\\; \\left \\{  \\left ( a_{1}, b_{1}, c_{2} \\right ), \\left ( a_{1}, b_{1}, c_{3} \\right ), \\left ( a_{1}, b_{2}, c_{1} \\right ), \\left ( a_{1}, b_{2}, c_{2} \\right ), \\left ( a_{2}, b_{2}, c_{2} \\right ), \\left ( a_{2}, b_{2}, c_{3} \\right ), \\left ( a_{2}, b_{3}, c_{1} \\right ), \\left ( a_{2}, b_{3}, c_{2} \\right ) \\right \\} $"
      ],
      "text/plain": [
       "<IPython.core.display.Math object>"
      ]
     },
     "metadata": {},
     "output_type": "display_data"
    },
    {
     "data": {
      "text/latex": [
       "$\\displaystyle \\;\\;\\;\\; \\left \\{  \\left ( a_{1}, b_{1}, c_{2} \\right ), \\left ( a_{1}, b_{1}, c_{3} \\right ), \\left ( a_{1}, b_{2}, c_{1} \\right ), \\left ( a_{1}, b_{2}, c_{2} \\right ), \\left ( a_{2}, b_{2}, c_{2} \\right ), \\left ( a_{2}, b_{2}, c_{3} \\right ), \\left ( a_{2}, b_{3}, c_{2} \\right ), \\left ( a_{2}, b_{3}, c_{3} \\right ) \\right \\} $"
      ],
      "text/plain": [
       "<IPython.core.display.Math object>"
      ]
     },
     "metadata": {},
     "output_type": "display_data"
    },
    {
     "data": {
      "text/latex": [
       "$\\displaystyle \\;\\;\\;\\; \\left \\{  \\left ( a_{1}, b_{1}, c_{2} \\right ), \\left ( a_{1}, b_{1}, c_{3} \\right ), \\left ( a_{1}, b_{2}, c_{2} \\right ), \\left ( a_{1}, b_{2}, c_{3} \\right ), \\left ( a_{2}, b_{1}, c_{1} \\right ), \\left ( a_{2}, b_{1}, c_{2} \\right ), \\left ( a_{2}, b_{2}, c_{1} \\right ), \\left ( a_{2}, b_{2}, c_{2} \\right ) \\right \\} $"
      ],
      "text/plain": [
       "<IPython.core.display.Math object>"
      ]
     },
     "metadata": {},
     "output_type": "display_data"
    },
    {
     "data": {
      "text/latex": [
       "$\\displaystyle \\;\\;\\;\\; \\left \\{  \\left ( a_{1}, b_{1}, c_{2} \\right ), \\left ( a_{1}, b_{1}, c_{3} \\right ), \\left ( a_{1}, b_{2}, c_{2} \\right ), \\left ( a_{1}, b_{2}, c_{3} \\right ), \\left ( a_{2}, b_{1}, c_{1} \\right ), \\left ( a_{2}, b_{1}, c_{2} \\right ), \\left ( a_{2}, b_{2}, c_{2} \\right ), \\left ( a_{2}, b_{2}, c_{3} \\right ) \\right \\} $"
      ],
      "text/plain": [
       "<IPython.core.display.Math object>"
      ]
     },
     "metadata": {},
     "output_type": "display_data"
    },
    {
     "data": {
      "text/latex": [
       "$\\displaystyle \\;\\;\\;\\; \\left \\{  \\left ( a_{1}, b_{1}, c_{2} \\right ), \\left ( a_{1}, b_{1}, c_{3} \\right ), \\left ( a_{1}, b_{2}, c_{2} \\right ), \\left ( a_{1}, b_{2}, c_{3} \\right ), \\left ( a_{2}, b_{1}, c_{2} \\right ), \\left ( a_{2}, b_{1}, c_{3} \\right ), \\left ( a_{2}, b_{2}, c_{1} \\right ), \\left ( a_{2}, b_{2}, c_{2} \\right ) \\right \\} $"
      ],
      "text/plain": [
       "<IPython.core.display.Math object>"
      ]
     },
     "metadata": {},
     "output_type": "display_data"
    },
    {
     "data": {
      "text/latex": [
       "$\\displaystyle \\;\\;\\;\\; \\left \\{  \\left ( a_{1}, b_{1}, c_{2} \\right ), \\left ( a_{1}, b_{1}, c_{3} \\right ), \\left ( a_{1}, b_{2}, c_{2} \\right ), \\left ( a_{1}, b_{2}, c_{3} \\right ), \\left ( a_{2}, b_{1}, c_{2} \\right ), \\left ( a_{2}, b_{1}, c_{3} \\right ), \\left ( a_{2}, b_{2}, c_{2} \\right ), \\left ( a_{2}, b_{2}, c_{3} \\right ) \\right \\} $"
      ],
      "text/plain": [
       "<IPython.core.display.Math object>"
      ]
     },
     "metadata": {},
     "output_type": "display_data"
    },
    {
     "data": {
      "text/latex": [
       "$\\displaystyle \\;\\;\\;\\; \\left \\{  \\left ( a_{1}, b_{1}, c_{2} \\right ), \\left ( a_{1}, b_{1}, c_{3} \\right ), \\left ( a_{1}, b_{2}, c_{2} \\right ), \\left ( a_{1}, b_{2}, c_{3} \\right ), \\left ( a_{2}, b_{1}, c_{2} \\right ), \\left ( a_{2}, b_{2}, c_{2} \\right ), \\left ( a_{2}, b_{2}, c_{3} \\right ), \\left ( a_{2}, b_{3}, c_{3} \\right ) \\right \\} $"
      ],
      "text/plain": [
       "<IPython.core.display.Math object>"
      ]
     },
     "metadata": {},
     "output_type": "display_data"
    },
    {
     "data": {
      "text/latex": [
       "$\\displaystyle \\;\\;\\;\\; \\left \\{  \\left ( a_{1}, b_{1}, c_{2} \\right ), \\left ( a_{1}, b_{1}, c_{3} \\right ), \\left ( a_{1}, b_{2}, c_{2} \\right ), \\left ( a_{1}, b_{2}, c_{3} \\right ), \\left ( a_{2}, b_{1}, c_{3} \\right ), \\left ( a_{2}, b_{2}, c_{2} \\right ), \\left ( a_{2}, b_{2}, c_{3} \\right ), \\left ( a_{2}, b_{3}, c_{2} \\right ) \\right \\} $"
      ],
      "text/plain": [
       "<IPython.core.display.Math object>"
      ]
     },
     "metadata": {},
     "output_type": "display_data"
    },
    {
     "data": {
      "text/latex": [
       "$\\displaystyle \\;\\;\\;\\; \\left \\{  \\left ( a_{1}, b_{1}, c_{2} \\right ), \\left ( a_{1}, b_{1}, c_{3} \\right ), \\left ( a_{1}, b_{2}, c_{2} \\right ), \\left ( a_{1}, b_{2}, c_{3} \\right ), \\left ( a_{2}, b_{2}, c_{1} \\right ), \\left ( a_{2}, b_{2}, c_{2} \\right ), \\left ( a_{2}, b_{3}, c_{1} \\right ), \\left ( a_{2}, b_{3}, c_{2} \\right ) \\right \\} $"
      ],
      "text/plain": [
       "<IPython.core.display.Math object>"
      ]
     },
     "metadata": {},
     "output_type": "display_data"
    },
    {
     "data": {
      "text/latex": [
       "$\\displaystyle \\;\\;\\;\\; \\left \\{  \\left ( a_{1}, b_{1}, c_{2} \\right ), \\left ( a_{1}, b_{1}, c_{3} \\right ), \\left ( a_{1}, b_{2}, c_{2} \\right ), \\left ( a_{1}, b_{2}, c_{3} \\right ), \\left ( a_{2}, b_{2}, c_{1} \\right ), \\left ( a_{2}, b_{2}, c_{2} \\right ), \\left ( a_{2}, b_{3}, c_{2} \\right ), \\left ( a_{2}, b_{3}, c_{3} \\right ) \\right \\} $"
      ],
      "text/plain": [
       "<IPython.core.display.Math object>"
      ]
     },
     "metadata": {},
     "output_type": "display_data"
    },
    {
     "data": {
      "text/latex": [
       "$\\displaystyle \\;\\;\\;\\; \\left \\{  \\left ( a_{1}, b_{1}, c_{2} \\right ), \\left ( a_{1}, b_{1}, c_{3} \\right ), \\left ( a_{1}, b_{2}, c_{2} \\right ), \\left ( a_{1}, b_{2}, c_{3} \\right ), \\left ( a_{2}, b_{2}, c_{2} \\right ), \\left ( a_{2}, b_{2}, c_{3} \\right ), \\left ( a_{2}, b_{3}, c_{1} \\right ), \\left ( a_{2}, b_{3}, c_{2} \\right ) \\right \\} $"
      ],
      "text/plain": [
       "<IPython.core.display.Math object>"
      ]
     },
     "metadata": {},
     "output_type": "display_data"
    },
    {
     "data": {
      "text/latex": [
       "$\\displaystyle \\;\\;\\;\\; \\left \\{  \\left ( a_{1}, b_{1}, c_{2} \\right ), \\left ( a_{1}, b_{1}, c_{3} \\right ), \\left ( a_{1}, b_{2}, c_{2} \\right ), \\left ( a_{1}, b_{2}, c_{3} \\right ), \\left ( a_{2}, b_{2}, c_{2} \\right ), \\left ( a_{2}, b_{2}, c_{3} \\right ), \\left ( a_{2}, b_{3}, c_{2} \\right ), \\left ( a_{2}, b_{3}, c_{3} \\right ) \\right \\} $"
      ],
      "text/plain": [
       "<IPython.core.display.Math object>"
      ]
     },
     "metadata": {},
     "output_type": "display_data"
    },
    {
     "data": {
      "text/latex": [
       "$\\displaystyle \\;\\;\\;\\; \\left \\{  \\left ( a_{1}, b_{1}, c_{2} \\right ), \\left ( a_{1}, b_{2}, c_{1} \\right ), \\left ( a_{1}, b_{2}, c_{2} \\right ), \\left ( a_{1}, b_{3}, c_{1} \\right ), \\left ( a_{2}, b_{1}, c_{1} \\right ), \\left ( a_{2}, b_{1}, c_{2} \\right ), \\left ( a_{2}, b_{2}, c_{1} \\right ), \\left ( a_{2}, b_{2}, c_{2} \\right ) \\right \\} $"
      ],
      "text/plain": [
       "<IPython.core.display.Math object>"
      ]
     },
     "metadata": {},
     "output_type": "display_data"
    },
    {
     "data": {
      "text/latex": [
       "$\\displaystyle \\;\\;\\;\\; \\left \\{  \\left ( a_{1}, b_{1}, c_{2} \\right ), \\left ( a_{1}, b_{2}, c_{1} \\right ), \\left ( a_{1}, b_{2}, c_{2} \\right ), \\left ( a_{1}, b_{3}, c_{1} \\right ), \\left ( a_{2}, b_{1}, c_{1} \\right ), \\left ( a_{2}, b_{2}, c_{1} \\right ), \\left ( a_{2}, b_{2}, c_{2} \\right ), \\left ( a_{2}, b_{3}, c_{2} \\right ) \\right \\} $"
      ],
      "text/plain": [
       "<IPython.core.display.Math object>"
      ]
     },
     "metadata": {},
     "output_type": "display_data"
    },
    {
     "data": {
      "text/latex": [
       "$\\displaystyle \\;\\;\\;\\; \\left \\{  \\left ( a_{1}, b_{1}, c_{2} \\right ), \\left ( a_{1}, b_{2}, c_{1} \\right ), \\left ( a_{1}, b_{2}, c_{2} \\right ), \\left ( a_{1}, b_{3}, c_{1} \\right ), \\left ( a_{2}, b_{1}, c_{2} \\right ), \\left ( a_{2}, b_{2}, c_{1} \\right ), \\left ( a_{2}, b_{2}, c_{2} \\right ), \\left ( a_{2}, b_{3}, c_{1} \\right ) \\right \\} $"
      ],
      "text/plain": [
       "<IPython.core.display.Math object>"
      ]
     },
     "metadata": {},
     "output_type": "display_data"
    },
    {
     "data": {
      "text/latex": [
       "$\\displaystyle \\;\\;\\;\\; \\left \\{  \\left ( a_{1}, b_{1}, c_{2} \\right ), \\left ( a_{1}, b_{2}, c_{1} \\right ), \\left ( a_{1}, b_{2}, c_{2} \\right ), \\left ( a_{1}, b_{3}, c_{1} \\right ), \\left ( a_{2}, b_{2}, c_{1} \\right ), \\left ( a_{2}, b_{2}, c_{2} \\right ), \\left ( a_{2}, b_{3}, c_{1} \\right ), \\left ( a_{2}, b_{3}, c_{2} \\right ) \\right \\} $"
      ],
      "text/plain": [
       "<IPython.core.display.Math object>"
      ]
     },
     "metadata": {},
     "output_type": "display_data"
    },
    {
     "data": {
      "text/latex": [
       "$\\displaystyle \\;\\;\\;\\; \\left \\{  \\left ( a_{1}, b_{1}, c_{2} \\right ), \\left ( a_{1}, b_{2}, c_{2} \\right ), \\left ( a_{1}, b_{2}, c_{3} \\right ), \\left ( a_{1}, b_{3}, c_{3} \\right ), \\left ( a_{2}, b_{1}, c_{2} \\right ), \\left ( a_{2}, b_{1}, c_{3} \\right ), \\left ( a_{2}, b_{2}, c_{2} \\right ), \\left ( a_{2}, b_{2}, c_{3} \\right ) \\right \\} $"
      ],
      "text/plain": [
       "<IPython.core.display.Math object>"
      ]
     },
     "metadata": {},
     "output_type": "display_data"
    },
    {
     "data": {
      "text/latex": [
       "$\\displaystyle \\;\\;\\;\\; \\left \\{  \\left ( a_{1}, b_{1}, c_{2} \\right ), \\left ( a_{1}, b_{2}, c_{2} \\right ), \\left ( a_{1}, b_{2}, c_{3} \\right ), \\left ( a_{1}, b_{3}, c_{3} \\right ), \\left ( a_{2}, b_{1}, c_{2} \\right ), \\left ( a_{2}, b_{2}, c_{2} \\right ), \\left ( a_{2}, b_{2}, c_{3} \\right ), \\left ( a_{2}, b_{3}, c_{3} \\right ) \\right \\} $"
      ],
      "text/plain": [
       "<IPython.core.display.Math object>"
      ]
     },
     "metadata": {},
     "output_type": "display_data"
    },
    {
     "data": {
      "text/latex": [
       "$\\displaystyle \\;\\;\\;\\; \\left \\{  \\left ( a_{1}, b_{1}, c_{2} \\right ), \\left ( a_{1}, b_{2}, c_{2} \\right ), \\left ( a_{1}, b_{2}, c_{3} \\right ), \\left ( a_{1}, b_{3}, c_{3} \\right ), \\left ( a_{2}, b_{1}, c_{3} \\right ), \\left ( a_{2}, b_{2}, c_{2} \\right ), \\left ( a_{2}, b_{2}, c_{3} \\right ), \\left ( a_{2}, b_{3}, c_{2} \\right ) \\right \\} $"
      ],
      "text/plain": [
       "<IPython.core.display.Math object>"
      ]
     },
     "metadata": {},
     "output_type": "display_data"
    },
    {
     "data": {
      "text/latex": [
       "$\\displaystyle \\;\\;\\;\\; \\left \\{  \\left ( a_{1}, b_{1}, c_{2} \\right ), \\left ( a_{1}, b_{2}, c_{2} \\right ), \\left ( a_{1}, b_{2}, c_{3} \\right ), \\left ( a_{1}, b_{3}, c_{3} \\right ), \\left ( a_{2}, b_{2}, c_{2} \\right ), \\left ( a_{2}, b_{2}, c_{3} \\right ), \\left ( a_{2}, b_{3}, c_{2} \\right ), \\left ( a_{2}, b_{3}, c_{3} \\right ) \\right \\} $"
      ],
      "text/plain": [
       "<IPython.core.display.Math object>"
      ]
     },
     "metadata": {},
     "output_type": "display_data"
    },
    {
     "data": {
      "text/latex": [
       "$\\displaystyle \\;\\;\\;\\; \\left \\{  \\left ( a_{1}, b_{1}, c_{3} \\right ), \\left ( a_{1}, b_{2}, c_{2} \\right ), \\left ( a_{1}, b_{2}, c_{3} \\right ), \\left ( a_{1}, b_{3}, c_{2} \\right ), \\left ( a_{2}, b_{1}, c_{2} \\right ), \\left ( a_{2}, b_{1}, c_{3} \\right ), \\left ( a_{2}, b_{2}, c_{2} \\right ), \\left ( a_{2}, b_{2}, c_{3} \\right ) \\right \\} $"
      ],
      "text/plain": [
       "<IPython.core.display.Math object>"
      ]
     },
     "metadata": {},
     "output_type": "display_data"
    },
    {
     "data": {
      "text/latex": [
       "$\\displaystyle \\;\\;\\;\\; \\left \\{  \\left ( a_{1}, b_{1}, c_{3} \\right ), \\left ( a_{1}, b_{2}, c_{2} \\right ), \\left ( a_{1}, b_{2}, c_{3} \\right ), \\left ( a_{1}, b_{3}, c_{2} \\right ), \\left ( a_{2}, b_{1}, c_{2} \\right ), \\left ( a_{2}, b_{2}, c_{2} \\right ), \\left ( a_{2}, b_{2}, c_{3} \\right ), \\left ( a_{2}, b_{3}, c_{3} \\right ) \\right \\} $"
      ],
      "text/plain": [
       "<IPython.core.display.Math object>"
      ]
     },
     "metadata": {},
     "output_type": "display_data"
    },
    {
     "data": {
      "text/latex": [
       "$\\displaystyle \\;\\;\\;\\; \\left \\{  \\left ( a_{1}, b_{1}, c_{3} \\right ), \\left ( a_{1}, b_{2}, c_{2} \\right ), \\left ( a_{1}, b_{2}, c_{3} \\right ), \\left ( a_{1}, b_{3}, c_{2} \\right ), \\left ( a_{2}, b_{1}, c_{3} \\right ), \\left ( a_{2}, b_{2}, c_{2} \\right ), \\left ( a_{2}, b_{2}, c_{3} \\right ), \\left ( a_{2}, b_{3}, c_{2} \\right ) \\right \\} $"
      ],
      "text/plain": [
       "<IPython.core.display.Math object>"
      ]
     },
     "metadata": {},
     "output_type": "display_data"
    },
    {
     "data": {
      "text/latex": [
       "$\\displaystyle \\;\\;\\;\\; \\left \\{  \\left ( a_{1}, b_{1}, c_{3} \\right ), \\left ( a_{1}, b_{2}, c_{2} \\right ), \\left ( a_{1}, b_{2}, c_{3} \\right ), \\left ( a_{1}, b_{3}, c_{2} \\right ), \\left ( a_{2}, b_{2}, c_{2} \\right ), \\left ( a_{2}, b_{2}, c_{3} \\right ), \\left ( a_{2}, b_{3}, c_{2} \\right ), \\left ( a_{2}, b_{3}, c_{3} \\right ) \\right \\} $"
      ],
      "text/plain": [
       "<IPython.core.display.Math object>"
      ]
     },
     "metadata": {},
     "output_type": "display_data"
    },
    {
     "data": {
      "text/latex": [
       "$\\displaystyle \\;\\;\\;\\; \\left \\{  \\left ( a_{1}, b_{2}, c_{1} \\right ), \\left ( a_{1}, b_{2}, c_{2} \\right ), \\left ( a_{1}, b_{3}, c_{1} \\right ), \\left ( a_{1}, b_{3}, c_{2} \\right ), \\left ( a_{2}, b_{1}, c_{1} \\right ), \\left ( a_{2}, b_{1}, c_{2} \\right ), \\left ( a_{2}, b_{2}, c_{1} \\right ), \\left ( a_{2}, b_{2}, c_{2} \\right ) \\right \\} $"
      ],
      "text/plain": [
       "<IPython.core.display.Math object>"
      ]
     },
     "metadata": {},
     "output_type": "display_data"
    },
    {
     "data": {
      "text/latex": [
       "$\\displaystyle \\;\\;\\;\\; \\left \\{  \\left ( a_{1}, b_{2}, c_{1} \\right ), \\left ( a_{1}, b_{2}, c_{2} \\right ), \\left ( a_{1}, b_{3}, c_{1} \\right ), \\left ( a_{1}, b_{3}, c_{2} \\right ), \\left ( a_{2}, b_{1}, c_{1} \\right ), \\left ( a_{2}, b_{1}, c_{2} \\right ), \\left ( a_{2}, b_{2}, c_{2} \\right ), \\left ( a_{2}, b_{2}, c_{3} \\right ) \\right \\} $"
      ],
      "text/plain": [
       "<IPython.core.display.Math object>"
      ]
     },
     "metadata": {},
     "output_type": "display_data"
    },
    {
     "data": {
      "text/latex": [
       "$\\displaystyle \\;\\;\\;\\; \\left \\{  \\left ( a_{1}, b_{2}, c_{1} \\right ), \\left ( a_{1}, b_{2}, c_{2} \\right ), \\left ( a_{1}, b_{3}, c_{1} \\right ), \\left ( a_{1}, b_{3}, c_{2} \\right ), \\left ( a_{2}, b_{1}, c_{1} \\right ), \\left ( a_{2}, b_{2}, c_{1} \\right ), \\left ( a_{2}, b_{2}, c_{2} \\right ), \\left ( a_{2}, b_{3}, c_{2} \\right ) \\right \\} $"
      ],
      "text/plain": [
       "<IPython.core.display.Math object>"
      ]
     },
     "metadata": {},
     "output_type": "display_data"
    },
    {
     "data": {
      "text/latex": [
       "$\\displaystyle \\;\\;\\;\\; \\left \\{  \\left ( a_{1}, b_{2}, c_{1} \\right ), \\left ( a_{1}, b_{2}, c_{2} \\right ), \\left ( a_{1}, b_{3}, c_{1} \\right ), \\left ( a_{1}, b_{3}, c_{2} \\right ), \\left ( a_{2}, b_{1}, c_{2} \\right ), \\left ( a_{2}, b_{1}, c_{3} \\right ), \\left ( a_{2}, b_{2}, c_{1} \\right ), \\left ( a_{2}, b_{2}, c_{2} \\right ) \\right \\} $"
      ],
      "text/plain": [
       "<IPython.core.display.Math object>"
      ]
     },
     "metadata": {},
     "output_type": "display_data"
    },
    {
     "data": {
      "text/latex": [
       "$\\displaystyle \\;\\;\\;\\; \\left \\{  \\left ( a_{1}, b_{2}, c_{1} \\right ), \\left ( a_{1}, b_{2}, c_{2} \\right ), \\left ( a_{1}, b_{3}, c_{1} \\right ), \\left ( a_{1}, b_{3}, c_{2} \\right ), \\left ( a_{2}, b_{1}, c_{2} \\right ), \\left ( a_{2}, b_{1}, c_{3} \\right ), \\left ( a_{2}, b_{2}, c_{2} \\right ), \\left ( a_{2}, b_{2}, c_{3} \\right ) \\right \\} $"
      ],
      "text/plain": [
       "<IPython.core.display.Math object>"
      ]
     },
     "metadata": {},
     "output_type": "display_data"
    },
    {
     "data": {
      "text/latex": [
       "$\\displaystyle \\;\\;\\;\\; \\left \\{  \\left ( a_{1}, b_{2}, c_{1} \\right ), \\left ( a_{1}, b_{2}, c_{2} \\right ), \\left ( a_{1}, b_{3}, c_{1} \\right ), \\left ( a_{1}, b_{3}, c_{2} \\right ), \\left ( a_{2}, b_{1}, c_{2} \\right ), \\left ( a_{2}, b_{2}, c_{1} \\right ), \\left ( a_{2}, b_{2}, c_{2} \\right ), \\left ( a_{2}, b_{3}, c_{1} \\right ) \\right \\} $"
      ],
      "text/plain": [
       "<IPython.core.display.Math object>"
      ]
     },
     "metadata": {},
     "output_type": "display_data"
    },
    {
     "data": {
      "text/latex": [
       "$\\displaystyle \\;\\;\\;\\; \\left \\{  \\left ( a_{1}, b_{2}, c_{1} \\right ), \\left ( a_{1}, b_{2}, c_{2} \\right ), \\left ( a_{1}, b_{3}, c_{1} \\right ), \\left ( a_{1}, b_{3}, c_{2} \\right ), \\left ( a_{2}, b_{2}, c_{1} \\right ), \\left ( a_{2}, b_{2}, c_{2} \\right ), \\left ( a_{2}, b_{3}, c_{1} \\right ), \\left ( a_{2}, b_{3}, c_{2} \\right ) \\right \\} $"
      ],
      "text/plain": [
       "<IPython.core.display.Math object>"
      ]
     },
     "metadata": {},
     "output_type": "display_data"
    },
    {
     "data": {
      "text/latex": [
       "$\\displaystyle \\;\\;\\;\\; \\left \\{  \\left ( a_{1}, b_{2}, c_{1} \\right ), \\left ( a_{1}, b_{2}, c_{2} \\right ), \\left ( a_{1}, b_{3}, c_{1} \\right ), \\left ( a_{1}, b_{3}, c_{2} \\right ), \\left ( a_{2}, b_{2}, c_{1} \\right ), \\left ( a_{2}, b_{2}, c_{2} \\right ), \\left ( a_{2}, b_{3}, c_{2} \\right ), \\left ( a_{2}, b_{3}, c_{3} \\right ) \\right \\} $"
      ],
      "text/plain": [
       "<IPython.core.display.Math object>"
      ]
     },
     "metadata": {},
     "output_type": "display_data"
    },
    {
     "data": {
      "text/latex": [
       "$\\displaystyle \\;\\;\\;\\; \\left \\{  \\left ( a_{1}, b_{2}, c_{1} \\right ), \\left ( a_{1}, b_{2}, c_{2} \\right ), \\left ( a_{1}, b_{3}, c_{1} \\right ), \\left ( a_{1}, b_{3}, c_{2} \\right ), \\left ( a_{2}, b_{2}, c_{2} \\right ), \\left ( a_{2}, b_{2}, c_{3} \\right ), \\left ( a_{2}, b_{3}, c_{1} \\right ), \\left ( a_{2}, b_{3}, c_{2} \\right ) \\right \\} $"
      ],
      "text/plain": [
       "<IPython.core.display.Math object>"
      ]
     },
     "metadata": {},
     "output_type": "display_data"
    },
    {
     "data": {
      "text/latex": [
       "$\\displaystyle \\;\\;\\;\\; \\left \\{  \\left ( a_{1}, b_{2}, c_{1} \\right ), \\left ( a_{1}, b_{2}, c_{2} \\right ), \\left ( a_{1}, b_{3}, c_{1} \\right ), \\left ( a_{1}, b_{3}, c_{2} \\right ), \\left ( a_{2}, b_{2}, c_{2} \\right ), \\left ( a_{2}, b_{2}, c_{3} \\right ), \\left ( a_{2}, b_{3}, c_{2} \\right ), \\left ( a_{2}, b_{3}, c_{3} \\right ) \\right \\} $"
      ],
      "text/plain": [
       "<IPython.core.display.Math object>"
      ]
     },
     "metadata": {},
     "output_type": "display_data"
    },
    {
     "data": {
      "text/latex": [
       "$\\displaystyle \\;\\;\\;\\; \\left \\{  \\left ( a_{1}, b_{2}, c_{1} \\right ), \\left ( a_{1}, b_{2}, c_{2} \\right ), \\left ( a_{1}, b_{3}, c_{2} \\right ), \\left ( a_{1}, b_{3}, c_{3} \\right ), \\left ( a_{2}, b_{1}, c_{1} \\right ), \\left ( a_{2}, b_{1}, c_{2} \\right ), \\left ( a_{2}, b_{2}, c_{1} \\right ), \\left ( a_{2}, b_{2}, c_{2} \\right ) \\right \\} $"
      ],
      "text/plain": [
       "<IPython.core.display.Math object>"
      ]
     },
     "metadata": {},
     "output_type": "display_data"
    },
    {
     "data": {
      "text/latex": [
       "$\\displaystyle \\;\\;\\;\\; \\left \\{  \\left ( a_{1}, b_{2}, c_{1} \\right ), \\left ( a_{1}, b_{2}, c_{2} \\right ), \\left ( a_{1}, b_{3}, c_{2} \\right ), \\left ( a_{1}, b_{3}, c_{3} \\right ), \\left ( a_{2}, b_{1}, c_{1} \\right ), \\left ( a_{2}, b_{1}, c_{2} \\right ), \\left ( a_{2}, b_{2}, c_{2} \\right ), \\left ( a_{2}, b_{2}, c_{3} \\right ) \\right \\} $"
      ],
      "text/plain": [
       "<IPython.core.display.Math object>"
      ]
     },
     "metadata": {},
     "output_type": "display_data"
    },
    {
     "data": {
      "text/latex": [
       "$\\displaystyle \\;\\;\\;\\; \\left \\{  \\left ( a_{1}, b_{2}, c_{1} \\right ), \\left ( a_{1}, b_{2}, c_{2} \\right ), \\left ( a_{1}, b_{3}, c_{2} \\right ), \\left ( a_{1}, b_{3}, c_{3} \\right ), \\left ( a_{2}, b_{1}, c_{2} \\right ), \\left ( a_{2}, b_{1}, c_{3} \\right ), \\left ( a_{2}, b_{2}, c_{1} \\right ), \\left ( a_{2}, b_{2}, c_{2} \\right ) \\right \\} $"
      ],
      "text/plain": [
       "<IPython.core.display.Math object>"
      ]
     },
     "metadata": {},
     "output_type": "display_data"
    },
    {
     "data": {
      "text/latex": [
       "$\\displaystyle \\;\\;\\;\\; \\left \\{  \\left ( a_{1}, b_{2}, c_{1} \\right ), \\left ( a_{1}, b_{2}, c_{2} \\right ), \\left ( a_{1}, b_{3}, c_{2} \\right ), \\left ( a_{1}, b_{3}, c_{3} \\right ), \\left ( a_{2}, b_{1}, c_{2} \\right ), \\left ( a_{2}, b_{1}, c_{3} \\right ), \\left ( a_{2}, b_{2}, c_{2} \\right ), \\left ( a_{2}, b_{2}, c_{3} \\right ) \\right \\} $"
      ],
      "text/plain": [
       "<IPython.core.display.Math object>"
      ]
     },
     "metadata": {},
     "output_type": "display_data"
    },
    {
     "data": {
      "text/latex": [
       "$\\displaystyle \\;\\;\\;\\; \\left \\{  \\left ( a_{1}, b_{2}, c_{1} \\right ), \\left ( a_{1}, b_{2}, c_{2} \\right ), \\left ( a_{1}, b_{3}, c_{2} \\right ), \\left ( a_{1}, b_{3}, c_{3} \\right ), \\left ( a_{2}, b_{2}, c_{1} \\right ), \\left ( a_{2}, b_{2}, c_{2} \\right ), \\left ( a_{2}, b_{3}, c_{1} \\right ), \\left ( a_{2}, b_{3}, c_{2} \\right ) \\right \\} $"
      ],
      "text/plain": [
       "<IPython.core.display.Math object>"
      ]
     },
     "metadata": {},
     "output_type": "display_data"
    },
    {
     "data": {
      "text/latex": [
       "$\\displaystyle \\;\\;\\;\\; \\left \\{  \\left ( a_{1}, b_{2}, c_{1} \\right ), \\left ( a_{1}, b_{2}, c_{2} \\right ), \\left ( a_{1}, b_{3}, c_{2} \\right ), \\left ( a_{1}, b_{3}, c_{3} \\right ), \\left ( a_{2}, b_{2}, c_{1} \\right ), \\left ( a_{2}, b_{2}, c_{2} \\right ), \\left ( a_{2}, b_{3}, c_{2} \\right ), \\left ( a_{2}, b_{3}, c_{3} \\right ) \\right \\} $"
      ],
      "text/plain": [
       "<IPython.core.display.Math object>"
      ]
     },
     "metadata": {},
     "output_type": "display_data"
    },
    {
     "data": {
      "text/latex": [
       "$\\displaystyle \\;\\;\\;\\; \\left \\{  \\left ( a_{1}, b_{2}, c_{1} \\right ), \\left ( a_{1}, b_{2}, c_{2} \\right ), \\left ( a_{1}, b_{3}, c_{2} \\right ), \\left ( a_{1}, b_{3}, c_{3} \\right ), \\left ( a_{2}, b_{2}, c_{2} \\right ), \\left ( a_{2}, b_{2}, c_{3} \\right ), \\left ( a_{2}, b_{3}, c_{1} \\right ), \\left ( a_{2}, b_{3}, c_{2} \\right ) \\right \\} $"
      ],
      "text/plain": [
       "<IPython.core.display.Math object>"
      ]
     },
     "metadata": {},
     "output_type": "display_data"
    },
    {
     "data": {
      "text/latex": [
       "$\\displaystyle \\;\\;\\;\\; \\left \\{  \\left ( a_{1}, b_{2}, c_{1} \\right ), \\left ( a_{1}, b_{2}, c_{2} \\right ), \\left ( a_{1}, b_{3}, c_{2} \\right ), \\left ( a_{1}, b_{3}, c_{3} \\right ), \\left ( a_{2}, b_{2}, c_{2} \\right ), \\left ( a_{2}, b_{2}, c_{3} \\right ), \\left ( a_{2}, b_{3}, c_{2} \\right ), \\left ( a_{2}, b_{3}, c_{3} \\right ) \\right \\} $"
      ],
      "text/plain": [
       "<IPython.core.display.Math object>"
      ]
     },
     "metadata": {},
     "output_type": "display_data"
    },
    {
     "data": {
      "text/latex": [
       "$\\displaystyle \\;\\;\\;\\; \\left \\{  \\left ( a_{1}, b_{2}, c_{2} \\right ), \\left ( a_{1}, b_{2}, c_{3} \\right ), \\left ( a_{1}, b_{3}, c_{1} \\right ), \\left ( a_{1}, b_{3}, c_{2} \\right ), \\left ( a_{2}, b_{1}, c_{1} \\right ), \\left ( a_{2}, b_{1}, c_{2} \\right ), \\left ( a_{2}, b_{2}, c_{1} \\right ), \\left ( a_{2}, b_{2}, c_{2} \\right ) \\right \\} $"
      ],
      "text/plain": [
       "<IPython.core.display.Math object>"
      ]
     },
     "metadata": {},
     "output_type": "display_data"
    },
    {
     "data": {
      "text/latex": [
       "$\\displaystyle \\;\\;\\;\\; \\left \\{  \\left ( a_{1}, b_{2}, c_{2} \\right ), \\left ( a_{1}, b_{2}, c_{3} \\right ), \\left ( a_{1}, b_{3}, c_{1} \\right ), \\left ( a_{1}, b_{3}, c_{2} \\right ), \\left ( a_{2}, b_{1}, c_{1} \\right ), \\left ( a_{2}, b_{1}, c_{2} \\right ), \\left ( a_{2}, b_{2}, c_{2} \\right ), \\left ( a_{2}, b_{2}, c_{3} \\right ) \\right \\} $"
      ],
      "text/plain": [
       "<IPython.core.display.Math object>"
      ]
     },
     "metadata": {},
     "output_type": "display_data"
    },
    {
     "data": {
      "text/latex": [
       "$\\displaystyle \\;\\;\\;\\; \\left \\{  \\left ( a_{1}, b_{2}, c_{2} \\right ), \\left ( a_{1}, b_{2}, c_{3} \\right ), \\left ( a_{1}, b_{3}, c_{1} \\right ), \\left ( a_{1}, b_{3}, c_{2} \\right ), \\left ( a_{2}, b_{1}, c_{2} \\right ), \\left ( a_{2}, b_{1}, c_{3} \\right ), \\left ( a_{2}, b_{2}, c_{1} \\right ), \\left ( a_{2}, b_{2}, c_{2} \\right ) \\right \\} $"
      ],
      "text/plain": [
       "<IPython.core.display.Math object>"
      ]
     },
     "metadata": {},
     "output_type": "display_data"
    },
    {
     "data": {
      "text/latex": [
       "$\\displaystyle \\;\\;\\;\\; \\left \\{  \\left ( a_{1}, b_{2}, c_{2} \\right ), \\left ( a_{1}, b_{2}, c_{3} \\right ), \\left ( a_{1}, b_{3}, c_{1} \\right ), \\left ( a_{1}, b_{3}, c_{2} \\right ), \\left ( a_{2}, b_{1}, c_{2} \\right ), \\left ( a_{2}, b_{1}, c_{3} \\right ), \\left ( a_{2}, b_{2}, c_{2} \\right ), \\left ( a_{2}, b_{2}, c_{3} \\right ) \\right \\} $"
      ],
      "text/plain": [
       "<IPython.core.display.Math object>"
      ]
     },
     "metadata": {},
     "output_type": "display_data"
    },
    {
     "data": {
      "text/latex": [
       "$\\displaystyle \\;\\;\\;\\; \\left \\{  \\left ( a_{1}, b_{2}, c_{2} \\right ), \\left ( a_{1}, b_{2}, c_{3} \\right ), \\left ( a_{1}, b_{3}, c_{1} \\right ), \\left ( a_{1}, b_{3}, c_{2} \\right ), \\left ( a_{2}, b_{2}, c_{1} \\right ), \\left ( a_{2}, b_{2}, c_{2} \\right ), \\left ( a_{2}, b_{3}, c_{1} \\right ), \\left ( a_{2}, b_{3}, c_{2} \\right ) \\right \\} $"
      ],
      "text/plain": [
       "<IPython.core.display.Math object>"
      ]
     },
     "metadata": {},
     "output_type": "display_data"
    },
    {
     "data": {
      "text/latex": [
       "$\\displaystyle \\;\\;\\;\\; \\left \\{  \\left ( a_{1}, b_{2}, c_{2} \\right ), \\left ( a_{1}, b_{2}, c_{3} \\right ), \\left ( a_{1}, b_{3}, c_{1} \\right ), \\left ( a_{1}, b_{3}, c_{2} \\right ), \\left ( a_{2}, b_{2}, c_{1} \\right ), \\left ( a_{2}, b_{2}, c_{2} \\right ), \\left ( a_{2}, b_{3}, c_{2} \\right ), \\left ( a_{2}, b_{3}, c_{3} \\right ) \\right \\} $"
      ],
      "text/plain": [
       "<IPython.core.display.Math object>"
      ]
     },
     "metadata": {},
     "output_type": "display_data"
    },
    {
     "data": {
      "text/latex": [
       "$\\displaystyle \\;\\;\\;\\; \\left \\{  \\left ( a_{1}, b_{2}, c_{2} \\right ), \\left ( a_{1}, b_{2}, c_{3} \\right ), \\left ( a_{1}, b_{3}, c_{1} \\right ), \\left ( a_{1}, b_{3}, c_{2} \\right ), \\left ( a_{2}, b_{2}, c_{2} \\right ), \\left ( a_{2}, b_{2}, c_{3} \\right ), \\left ( a_{2}, b_{3}, c_{1} \\right ), \\left ( a_{2}, b_{3}, c_{2} \\right ) \\right \\} $"
      ],
      "text/plain": [
       "<IPython.core.display.Math object>"
      ]
     },
     "metadata": {},
     "output_type": "display_data"
    },
    {
     "data": {
      "text/latex": [
       "$\\displaystyle \\;\\;\\;\\; \\left \\{  \\left ( a_{1}, b_{2}, c_{2} \\right ), \\left ( a_{1}, b_{2}, c_{3} \\right ), \\left ( a_{1}, b_{3}, c_{1} \\right ), \\left ( a_{1}, b_{3}, c_{2} \\right ), \\left ( a_{2}, b_{2}, c_{2} \\right ), \\left ( a_{2}, b_{2}, c_{3} \\right ), \\left ( a_{2}, b_{3}, c_{2} \\right ), \\left ( a_{2}, b_{3}, c_{3} \\right ) \\right \\} $"
      ],
      "text/plain": [
       "<IPython.core.display.Math object>"
      ]
     },
     "metadata": {},
     "output_type": "display_data"
    },
    {
     "data": {
      "text/latex": [
       "$\\displaystyle \\;\\;\\;\\; \\left \\{  \\left ( a_{1}, b_{2}, c_{2} \\right ), \\left ( a_{1}, b_{2}, c_{3} \\right ), \\left ( a_{1}, b_{3}, c_{2} \\right ), \\left ( a_{1}, b_{3}, c_{3} \\right ), \\left ( a_{2}, b_{1}, c_{1} \\right ), \\left ( a_{2}, b_{1}, c_{2} \\right ), \\left ( a_{2}, b_{2}, c_{1} \\right ), \\left ( a_{2}, b_{2}, c_{2} \\right ) \\right \\} $"
      ],
      "text/plain": [
       "<IPython.core.display.Math object>"
      ]
     },
     "metadata": {},
     "output_type": "display_data"
    },
    {
     "data": {
      "text/latex": [
       "$\\displaystyle \\;\\;\\;\\; \\left \\{  \\left ( a_{1}, b_{2}, c_{2} \\right ), \\left ( a_{1}, b_{2}, c_{3} \\right ), \\left ( a_{1}, b_{3}, c_{2} \\right ), \\left ( a_{1}, b_{3}, c_{3} \\right ), \\left ( a_{2}, b_{1}, c_{1} \\right ), \\left ( a_{2}, b_{1}, c_{2} \\right ), \\left ( a_{2}, b_{2}, c_{2} \\right ), \\left ( a_{2}, b_{2}, c_{3} \\right ) \\right \\} $"
      ],
      "text/plain": [
       "<IPython.core.display.Math object>"
      ]
     },
     "metadata": {},
     "output_type": "display_data"
    },
    {
     "data": {
      "text/latex": [
       "$\\displaystyle \\;\\;\\;\\; \\left \\{  \\left ( a_{1}, b_{2}, c_{2} \\right ), \\left ( a_{1}, b_{2}, c_{3} \\right ), \\left ( a_{1}, b_{3}, c_{2} \\right ), \\left ( a_{1}, b_{3}, c_{3} \\right ), \\left ( a_{2}, b_{1}, c_{2} \\right ), \\left ( a_{2}, b_{1}, c_{3} \\right ), \\left ( a_{2}, b_{2}, c_{1} \\right ), \\left ( a_{2}, b_{2}, c_{2} \\right ) \\right \\} $"
      ],
      "text/plain": [
       "<IPython.core.display.Math object>"
      ]
     },
     "metadata": {},
     "output_type": "display_data"
    },
    {
     "data": {
      "text/latex": [
       "$\\displaystyle \\;\\;\\;\\; \\left \\{  \\left ( a_{1}, b_{2}, c_{2} \\right ), \\left ( a_{1}, b_{2}, c_{3} \\right ), \\left ( a_{1}, b_{3}, c_{2} \\right ), \\left ( a_{1}, b_{3}, c_{3} \\right ), \\left ( a_{2}, b_{1}, c_{2} \\right ), \\left ( a_{2}, b_{1}, c_{3} \\right ), \\left ( a_{2}, b_{2}, c_{2} \\right ), \\left ( a_{2}, b_{2}, c_{3} \\right ) \\right \\} $"
      ],
      "text/plain": [
       "<IPython.core.display.Math object>"
      ]
     },
     "metadata": {},
     "output_type": "display_data"
    },
    {
     "data": {
      "text/latex": [
       "$\\displaystyle \\;\\;\\;\\; \\left \\{  \\left ( a_{1}, b_{2}, c_{2} \\right ), \\left ( a_{1}, b_{2}, c_{3} \\right ), \\left ( a_{1}, b_{3}, c_{2} \\right ), \\left ( a_{1}, b_{3}, c_{3} \\right ), \\left ( a_{2}, b_{1}, c_{2} \\right ), \\left ( a_{2}, b_{2}, c_{2} \\right ), \\left ( a_{2}, b_{2}, c_{3} \\right ), \\left ( a_{2}, b_{3}, c_{3} \\right ) \\right \\} $"
      ],
      "text/plain": [
       "<IPython.core.display.Math object>"
      ]
     },
     "metadata": {},
     "output_type": "display_data"
    },
    {
     "data": {
      "text/latex": [
       "$\\displaystyle \\;\\;\\;\\; \\left \\{  \\left ( a_{1}, b_{2}, c_{2} \\right ), \\left ( a_{1}, b_{2}, c_{3} \\right ), \\left ( a_{1}, b_{3}, c_{2} \\right ), \\left ( a_{1}, b_{3}, c_{3} \\right ), \\left ( a_{2}, b_{1}, c_{3} \\right ), \\left ( a_{2}, b_{2}, c_{2} \\right ), \\left ( a_{2}, b_{2}, c_{3} \\right ), \\left ( a_{2}, b_{3}, c_{2} \\right ) \\right \\} $"
      ],
      "text/plain": [
       "<IPython.core.display.Math object>"
      ]
     },
     "metadata": {},
     "output_type": "display_data"
    },
    {
     "data": {
      "text/latex": [
       "$\\displaystyle \\;\\;\\;\\; \\left \\{  \\left ( a_{1}, b_{2}, c_{2} \\right ), \\left ( a_{1}, b_{2}, c_{3} \\right ), \\left ( a_{1}, b_{3}, c_{2} \\right ), \\left ( a_{1}, b_{3}, c_{3} \\right ), \\left ( a_{2}, b_{2}, c_{1} \\right ), \\left ( a_{2}, b_{2}, c_{2} \\right ), \\left ( a_{2}, b_{3}, c_{1} \\right ), \\left ( a_{2}, b_{3}, c_{2} \\right ) \\right \\} $"
      ],
      "text/plain": [
       "<IPython.core.display.Math object>"
      ]
     },
     "metadata": {},
     "output_type": "display_data"
    },
    {
     "data": {
      "text/latex": [
       "$\\displaystyle \\;\\;\\;\\; \\left \\{  \\left ( a_{1}, b_{2}, c_{2} \\right ), \\left ( a_{1}, b_{2}, c_{3} \\right ), \\left ( a_{1}, b_{3}, c_{2} \\right ), \\left ( a_{1}, b_{3}, c_{3} \\right ), \\left ( a_{2}, b_{2}, c_{1} \\right ), \\left ( a_{2}, b_{2}, c_{2} \\right ), \\left ( a_{2}, b_{3}, c_{2} \\right ), \\left ( a_{2}, b_{3}, c_{3} \\right ) \\right \\} $"
      ],
      "text/plain": [
       "<IPython.core.display.Math object>"
      ]
     },
     "metadata": {},
     "output_type": "display_data"
    },
    {
     "data": {
      "text/latex": [
       "$\\displaystyle \\;\\;\\;\\; \\left \\{  \\left ( a_{1}, b_{2}, c_{2} \\right ), \\left ( a_{1}, b_{2}, c_{3} \\right ), \\left ( a_{1}, b_{3}, c_{2} \\right ), \\left ( a_{1}, b_{3}, c_{3} \\right ), \\left ( a_{2}, b_{2}, c_{2} \\right ), \\left ( a_{2}, b_{2}, c_{3} \\right ), \\left ( a_{2}, b_{3}, c_{1} \\right ), \\left ( a_{2}, b_{3}, c_{2} \\right ) \\right \\} $"
      ],
      "text/plain": [
       "<IPython.core.display.Math object>"
      ]
     },
     "metadata": {},
     "output_type": "display_data"
    },
    {
     "data": {
      "text/latex": [
       "$\\displaystyle \\;\\;\\;\\; \\left \\{  \\left ( a_{1}, b_{2}, c_{2} \\right ), \\left ( a_{1}, b_{2}, c_{3} \\right ), \\left ( a_{1}, b_{3}, c_{2} \\right ), \\left ( a_{1}, b_{3}, c_{3} \\right ), \\left ( a_{2}, b_{2}, c_{2} \\right ), \\left ( a_{2}, b_{2}, c_{3} \\right ), \\left ( a_{2}, b_{3}, c_{2} \\right ), \\left ( a_{2}, b_{3}, c_{3} \\right ) \\right \\} $"
      ],
      "text/plain": [
       "<IPython.core.display.Math object>"
      ]
     },
     "metadata": {},
     "output_type": "display_data"
    }
   ],
   "source": [
    "from IPython.display import display, Math, Latex\n",
    "from qogpsi import *\n",
    "# States\n",
    "a1 = state(\"a1\", label=\"a1\")\n",
    "a2 = state(\"a2\", label=\"a2\")\n",
    "b1 = state(\"b1\", label=\"b1\")\n",
    "b2 = state(\"b2\", label=\"b2\")\n",
    "b3 = state(\"b3\", label=\"b3\")\n",
    "c1 = state(\"c1\", label=\"c1\")\n",
    "c2 = state(\"c2\", label=\"c2\")\n",
    "c3 = state(\"c3\", label=\"c3\")\n",
    "# Random Variables\n",
    "A1 = random_variable(\"A1\", states=[a1,a2])\n",
    "B1 = random_variable(\"B1\", states=[b1,b2])\n",
    "B2 = random_variable(\"B2\", states=[b2,b3])\n",
    "C1 = random_variable(\"C1\", states=[c1,c2])\n",
    "C2 = random_variable(\"C2\", states=[c2,c3])\n",
    "# Probability Space\n",
    "p_s = probability_space(\n",
    "    random_vars=[A1, B1, B2, C1, C2], \n",
    "    states=[a1,a2,b1,b2,b3,c1,c2,c3])\n",
    "# FR Product\n",
    "\n",
    "FR = foulis_randall([\n",
    "    [A1],\n",
    "    [B1, B2],\n",
    "    [C1, C2]], aliases=[['a1','a2'],['b1','b2','b3'],['c1','c2','c3']])\n",
    "\n",
    "mapvals = {'0':'H_A','1':'H_B','2':'H_C'}\n",
    "required_edge = [['a1','b1','c1'],['a1','b2','c1'],['a1','b2','c2'],['a1','b3','c2'],['a2','b1','c2'],['a2','b2','c2'],['a2','b2','c3'],['a2','b3','c3']]\n",
    "for i in range(len(FR)):\n",
    "    display(Math(\"$\"+mapvals[FR[i]['orderings'][i][1][0][0]]+\" \\otimes \\left (\"+mapvals[FR[i]['orderings'][i][0][0]]+\" \\otimes \"+mapvals[FR[i]['orderings'][i][1][1][0]]+\" \\\\right ) $\"))\n",
    "    edge_in_fr_product = False\n",
    "    for member in FR[i]['formal_fr_products_aliases'][i]:\n",
    "        found_in_edge = True\n",
    "        edge_string = \"\"\n",
    "        for coordinate in required_edge:\n",
    "            if (not coordinate in member):\n",
    "                found_in_edge = False\n",
    "        for coordinate in member:\n",
    "            edge_string += (\" \\left ( %s_{%s}, %s_{%s}, %s_{%s} \\\\right ),\" % (coordinate[0][0],coordinate[0][1],coordinate[1][0],coordinate[1][1],coordinate[2][0],coordinate[2][1]))\n",
    "        if (found_in_edge):\n",
    "            edge_in_fr_product = True\n",
    "            display(Math(\"$\\;\\;\\;\\;\\color{red}{ \\left \\{ %s \\\\right \\} }$\" % edge_string[:-1]))\n",
    "        else:\n",
    "            display(Math(\"$\\;\\;\\;\\; \\left \\{ %s \\\\right \\} $\" % edge_string[:-1]))"
   ]
  },
  {
   "cell_type": "code",
   "execution_count": null,
   "metadata": {},
   "outputs": [],
   "source": []
  }
 ],
 "metadata": {
  "kernelspec": {
   "display_name": "Python 3",
   "language": "python",
   "name": "python3"
  },
  "language_info": {
   "codemirror_mode": {
    "name": "ipython",
    "version": 3
   },
   "file_extension": ".py",
   "mimetype": "text/x-python",
   "name": "python",
   "nbconvert_exporter": "python",
   "pygments_lexer": "ipython3",
   "version": "3.7.4"
  }
 },
 "nbformat": 4,
 "nbformat_minor": 4
}
