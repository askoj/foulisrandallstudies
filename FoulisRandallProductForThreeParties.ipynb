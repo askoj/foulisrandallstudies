{
 "cells": [
  {
   "cell_type": "markdown",
   "metadata": {},
   "source": [
    "# Calculating The Foulis-Randall Product For A System Of Three Parties\n",
    "\n",
    "Here we consider an experiment involving three parties, Alice, Bob, and Charlie (Subsection 4.2.2 of our paper). We calculate all possible Foulis-Randall products on the scenario. Our results reveal that all three possible products on the scenario are exactly equivalent."
   ]
  },
  {
   "cell_type": "code",
   "execution_count": 42,
   "metadata": {},
   "outputs": [
    {
     "data": {
      "text/latex": [
       "$\\displaystyle \\text{Displaying Foulis-Randall product for combination: } H_B \\; \\otimes \\left \\{ H_A \\otimes H_C \\right \\}$"
      ],
      "text/plain": [
       "<IPython.core.display.Math object>"
      ]
     },
     "metadata": {},
     "output_type": "display_data"
    },
    {
     "data": {
      "text/latex": [
       "$\\displaystyle \\;\\;\\;\\;\\;\\;\\begin{matrix} e_{1} = \\{\\!\\!\\!\\!\\!\\!\\!&\\left \\{ a_1, b_1, c_1 \\right \\},\\left \\{ a_3, b_1, c_1 \\right \\},\\\\&\\left \\{ a_2, b_2, c_1 \\right \\},\\left \\{ a_4, b_2, c_1 \\right \\},\\\\&\\left \\{ a_1, b_1, c_2 \\right \\},\\left \\{ a_3, b_1, c_2 \\right \\},\\\\&\\left \\{ a_1, b_2, c_2 \\right \\},\\left \\{ a_3, b_2, c_2 \\right \\}\\} \\end{matrix} \\;\\;\\;$"
      ],
      "text/plain": [
       "<IPython.core.display.Math object>"
      ]
     },
     "metadata": {},
     "output_type": "display_data"
    },
    {
     "data": {
      "text/latex": [
       "$\\displaystyle \\;\\;\\;\\;\\;\\;\\begin{matrix} e_{2} = \\{\\!\\!\\!\\!\\!\\!\\!&\\left \\{ a_2, b_1, c_1 \\right \\},\\left \\{ a_4, b_1, c_1 \\right \\},\\\\&\\left \\{ a_2, b_2, c_1 \\right \\},\\left \\{ a_4, b_2, c_1 \\right \\},\\\\&\\left \\{ a_2, b_1, c_2 \\right \\},\\left \\{ a_4, b_1, c_2 \\right \\},\\\\&\\left \\{ a_1, b_2, c_2 \\right \\},\\left \\{ a_3, b_2, c_2 \\right \\}\\} \\end{matrix} \\;\\;\\;$"
      ],
      "text/plain": [
       "<IPython.core.display.Math object>"
      ]
     },
     "metadata": {},
     "output_type": "display_data"
    },
    {
     "data": {
      "text/latex": [
       "$\\displaystyle \\;\\;\\;\\;\\;\\;\\begin{matrix} e_{3} = \\{\\!\\!\\!\\!\\!\\!\\!&\\left \\{ a_2, b_1, c_1 \\right \\},\\left \\{ a_4, b_1, c_1 \\right \\},\\\\&\\left \\{ a_2, b_2, c_1 \\right \\},\\left \\{ a_4, b_2, c_1 \\right \\},\\\\&\\left \\{ a_1, b_1, c_2 \\right \\},\\left \\{ a_3, b_1, c_2 \\right \\},\\\\&\\left \\{ a_1, b_2, c_2 \\right \\},\\left \\{ a_3, b_2, c_2 \\right \\}\\} \\end{matrix} \\;\\;\\;$"
      ],
      "text/plain": [
       "<IPython.core.display.Math object>"
      ]
     },
     "metadata": {},
     "output_type": "display_data"
    },
    {
     "data": {
      "text/latex": [
       "$\\displaystyle \\;\\;\\;\\;\\;\\;\\begin{matrix} e_{4} = \\{\\!\\!\\!\\!\\!\\!\\!&\\left \\{ a_2, b_1, c_1 \\right \\},\\left \\{ a_4, b_1, c_1 \\right \\},\\\\&\\left \\{ a_1, b_2, c_1 \\right \\},\\left \\{ a_3, b_2, c_1 \\right \\},\\\\&\\left \\{ a_1, b_1, c_2 \\right \\},\\left \\{ a_3, b_1, c_2 \\right \\},\\\\&\\left \\{ a_1, b_2, c_2 \\right \\},\\left \\{ a_3, b_2, c_2 \\right \\}\\} \\end{matrix} \\;\\;\\;$"
      ],
      "text/plain": [
       "<IPython.core.display.Math object>"
      ]
     },
     "metadata": {},
     "output_type": "display_data"
    },
    {
     "data": {
      "text/latex": [
       "$\\displaystyle \\;\\;\\;\\;\\;\\;\\begin{matrix} e_{5} = \\{\\!\\!\\!\\!\\!\\!\\!&\\left \\{ a_1, b_1, c_1 \\right \\},\\left \\{ a_3, b_1, c_1 \\right \\},\\\\&\\left \\{ a_1, b_2, c_1 \\right \\},\\left \\{ a_3, b_2, c_1 \\right \\},\\\\&\\left \\{ a_2, b_1, c_2 \\right \\},\\left \\{ a_4, b_1, c_2 \\right \\},\\\\&\\left \\{ a_1, b_2, c_2 \\right \\},\\left \\{ a_3, b_2, c_2 \\right \\}\\} \\end{matrix} \\;\\;\\;$"
      ],
      "text/plain": [
       "<IPython.core.display.Math object>"
      ]
     },
     "metadata": {},
     "output_type": "display_data"
    },
    {
     "data": {
      "text/latex": [
       "$\\displaystyle \\;\\;\\;\\;\\;\\;\\begin{matrix} e_{6} = \\{\\!\\!\\!\\!\\!\\!\\!&\\left \\{ a_1, b_1, c_1 \\right \\},\\left \\{ a_3, b_1, c_1 \\right \\},\\\\&\\left \\{ a_2, b_2, c_1 \\right \\},\\left \\{ a_4, b_2, c_1 \\right \\},\\\\&\\left \\{ a_2, b_1, c_2 \\right \\},\\left \\{ a_4, b_1, c_2 \\right \\},\\\\&\\left \\{ a_1, b_2, c_2 \\right \\},\\left \\{ a_3, b_2, c_2 \\right \\}\\} \\end{matrix} \\;\\;\\;$"
      ],
      "text/plain": [
       "<IPython.core.display.Math object>"
      ]
     },
     "metadata": {},
     "output_type": "display_data"
    },
    {
     "data": {
      "text/latex": [
       "$\\displaystyle \\;\\;\\;\\;\\;\\;\\begin{matrix} e_{7} = \\{\\!\\!\\!\\!\\!\\!\\!&\\left \\{ a_1, b_1, c_1 \\right \\},\\left \\{ a_3, b_1, c_1 \\right \\},\\\\&\\left \\{ a_1, b_2, c_1 \\right \\},\\left \\{ a_3, b_2, c_1 \\right \\},\\\\&\\left \\{ a_1, b_1, c_2 \\right \\},\\left \\{ a_3, b_1, c_2 \\right \\},\\\\&\\left \\{ a_1, b_2, c_2 \\right \\},\\left \\{ a_3, b_2, c_2 \\right \\}\\} \\end{matrix} \\;\\;\\;$"
      ],
      "text/plain": [
       "<IPython.core.display.Math object>"
      ]
     },
     "metadata": {},
     "output_type": "display_data"
    },
    {
     "data": {
      "text/latex": [
       "$\\displaystyle \\;\\;\\;\\;\\;\\;\\begin{matrix} e_{8} = \\{\\!\\!\\!\\!\\!\\!\\!&\\left \\{ a_2, b_1, c_1 \\right \\},\\left \\{ a_4, b_1, c_1 \\right \\},\\\\&\\left \\{ a_1, b_2, c_1 \\right \\},\\left \\{ a_3, b_2, c_1 \\right \\},\\\\&\\left \\{ a_2, b_1, c_2 \\right \\},\\left \\{ a_4, b_1, c_2 \\right \\},\\\\&\\left \\{ a_1, b_2, c_2 \\right \\},\\left \\{ a_3, b_2, c_2 \\right \\}\\} \\end{matrix} \\;\\;\\;$"
      ],
      "text/plain": [
       "<IPython.core.display.Math object>"
      ]
     },
     "metadata": {},
     "output_type": "display_data"
    },
    {
     "data": {
      "text/latex": [
       "$\\displaystyle \\;\\;\\;\\;\\;\\;\\begin{matrix} e_{9} = \\{\\!\\!\\!\\!\\!\\!\\!&\\left \\{ a_1, b_1, c_1 \\right \\},\\left \\{ a_3, b_1, c_1 \\right \\},\\\\&\\left \\{ a_1, b_2, c_1 \\right \\},\\left \\{ a_3, b_2, c_1 \\right \\},\\\\&\\left \\{ a_1, b_1, c_2 \\right \\},\\left \\{ a_3, b_1, c_2 \\right \\},\\\\&\\left \\{ a_2, b_2, c_2 \\right \\},\\left \\{ a_4, b_2, c_2 \\right \\}\\} \\end{matrix} \\;\\;\\;$"
      ],
      "text/plain": [
       "<IPython.core.display.Math object>"
      ]
     },
     "metadata": {},
     "output_type": "display_data"
    },
    {
     "data": {
      "text/latex": [
       "$\\displaystyle \\;\\;\\;\\;\\;\\;\\begin{matrix} e_{10} = \\{\\!\\!\\!\\!\\!\\!\\!&\\left \\{ a_2, b_1, c_1 \\right \\},\\left \\{ a_4, b_1, c_1 \\right \\},\\\\&\\left \\{ a_2, b_2, c_1 \\right \\},\\left \\{ a_4, b_2, c_1 \\right \\},\\\\&\\left \\{ a_2, b_1, c_2 \\right \\},\\left \\{ a_4, b_1, c_2 \\right \\},\\\\&\\left \\{ a_2, b_2, c_2 \\right \\},\\left \\{ a_4, b_2, c_2 \\right \\}\\} \\end{matrix} \\;\\;\\;$"
      ],
      "text/plain": [
       "<IPython.core.display.Math object>"
      ]
     },
     "metadata": {},
     "output_type": "display_data"
    },
    {
     "data": {
      "text/latex": [
       "$\\displaystyle \\;\\;\\;\\;\\;\\;\\begin{matrix} e_{11} = \\{\\!\\!\\!\\!\\!\\!\\!&\\left \\{ a_2, b_1, c_1 \\right \\},\\left \\{ a_4, b_1, c_1 \\right \\},\\\\&\\left \\{ a_2, b_2, c_1 \\right \\},\\left \\{ a_4, b_2, c_1 \\right \\},\\\\&\\left \\{ a_1, b_1, c_2 \\right \\},\\left \\{ a_3, b_1, c_2 \\right \\},\\\\&\\left \\{ a_2, b_2, c_2 \\right \\},\\left \\{ a_4, b_2, c_2 \\right \\}\\} \\end{matrix} \\;\\;\\;$"
      ],
      "text/plain": [
       "<IPython.core.display.Math object>"
      ]
     },
     "metadata": {},
     "output_type": "display_data"
    },
    {
     "data": {
      "text/latex": [
       "$\\displaystyle \\;\\;\\;\\;\\;\\;\\begin{matrix} e_{12} = \\{\\!\\!\\!\\!\\!\\!\\!&\\left \\{ a_2, b_1, c_1 \\right \\},\\left \\{ a_4, b_1, c_1 \\right \\},\\\\&\\left \\{ a_1, b_2, c_1 \\right \\},\\left \\{ a_3, b_2, c_1 \\right \\},\\\\&\\left \\{ a_2, b_1, c_2 \\right \\},\\left \\{ a_4, b_1, c_2 \\right \\},\\\\&\\left \\{ a_2, b_2, c_2 \\right \\},\\left \\{ a_4, b_2, c_2 \\right \\}\\} \\end{matrix} \\;\\;\\;$"
      ],
      "text/plain": [
       "<IPython.core.display.Math object>"
      ]
     },
     "metadata": {},
     "output_type": "display_data"
    },
    {
     "data": {
      "text/latex": [
       "$\\displaystyle \\;\\;\\;\\;\\;\\;\\begin{matrix} e_{13} = \\{\\!\\!\\!\\!\\!\\!\\!&\\left \\{ a_2, b_1, c_1 \\right \\},\\left \\{ a_4, b_1, c_1 \\right \\},\\\\&\\left \\{ a_1, b_2, c_1 \\right \\},\\left \\{ a_3, b_2, c_1 \\right \\},\\\\&\\left \\{ a_1, b_1, c_2 \\right \\},\\left \\{ a_3, b_1, c_2 \\right \\},\\\\&\\left \\{ a_2, b_2, c_2 \\right \\},\\left \\{ a_4, b_2, c_2 \\right \\}\\} \\end{matrix} \\;\\;\\;$"
      ],
      "text/plain": [
       "<IPython.core.display.Math object>"
      ]
     },
     "metadata": {},
     "output_type": "display_data"
    },
    {
     "data": {
      "text/latex": [
       "$\\displaystyle \\;\\;\\;\\;\\;\\;\\begin{matrix} e_{14} = \\{\\!\\!\\!\\!\\!\\!\\!&\\left \\{ a_1, b_1, c_1 \\right \\},\\left \\{ a_3, b_1, c_1 \\right \\},\\\\&\\left \\{ a_2, b_2, c_1 \\right \\},\\left \\{ a_4, b_2, c_1 \\right \\},\\\\&\\left \\{ a_2, b_1, c_2 \\right \\},\\left \\{ a_4, b_1, c_2 \\right \\},\\\\&\\left \\{ a_2, b_2, c_2 \\right \\},\\left \\{ a_4, b_2, c_2 \\right \\}\\} \\end{matrix} \\;\\;\\;$"
      ],
      "text/plain": [
       "<IPython.core.display.Math object>"
      ]
     },
     "metadata": {},
     "output_type": "display_data"
    },
    {
     "data": {
      "text/latex": [
       "$\\displaystyle \\;\\;\\;\\;\\;\\;\\begin{matrix} e_{15} = \\{\\!\\!\\!\\!\\!\\!\\!&\\left \\{ a_1, b_1, c_1 \\right \\},\\left \\{ a_3, b_1, c_1 \\right \\},\\\\&\\left \\{ a_2, b_2, c_1 \\right \\},\\left \\{ a_4, b_2, c_1 \\right \\},\\\\&\\left \\{ a_1, b_1, c_2 \\right \\},\\left \\{ a_3, b_1, c_2 \\right \\},\\\\&\\left \\{ a_2, b_2, c_2 \\right \\},\\left \\{ a_4, b_2, c_2 \\right \\}\\} \\end{matrix} \\;\\;\\;$"
      ],
      "text/plain": [
       "<IPython.core.display.Math object>"
      ]
     },
     "metadata": {},
     "output_type": "display_data"
    },
    {
     "data": {
      "text/latex": [
       "$\\displaystyle \\;\\;\\;\\;\\;\\;\\begin{matrix} e_{16} = \\{\\!\\!\\!\\!\\!\\!\\!&\\left \\{ a_1, b_1, c_1 \\right \\},\\left \\{ a_3, b_1, c_1 \\right \\},\\\\&\\left \\{ a_1, b_2, c_1 \\right \\},\\left \\{ a_3, b_2, c_1 \\right \\},\\\\&\\left \\{ a_2, b_1, c_2 \\right \\},\\left \\{ a_4, b_1, c_2 \\right \\},\\\\&\\left \\{ a_2, b_2, c_2 \\right \\},\\left \\{ a_4, b_2, c_2 \\right \\}\\} \\end{matrix} \\;\\;\\;$"
      ],
      "text/plain": [
       "<IPython.core.display.Math object>"
      ]
     },
     "metadata": {},
     "output_type": "display_data"
    },
    {
     "data": {
      "text/latex": [
       "$\\displaystyle \\text{Displaying Foulis-Randall product for combination: } H_A \\; \\otimes \\left \\{ H_C \\otimes H_B \\right \\}$"
      ],
      "text/plain": [
       "<IPython.core.display.Math object>"
      ]
     },
     "metadata": {},
     "output_type": "display_data"
    },
    {
     "data": {
      "text/latex": [
       "$\\displaystyle \\;\\;\\;\\;\\;\\;\\begin{matrix} e_{1} = \\{\\!\\!\\!\\!\\!\\!\\!&\\left \\{ a_1, b_1, c_1 \\right \\},\\left \\{ a_3, b_1, c_1 \\right \\},\\\\&\\left \\{ a_2, b_2, c_1 \\right \\},\\left \\{ a_4, b_2, c_1 \\right \\},\\\\&\\left \\{ a_1, b_1, c_2 \\right \\},\\left \\{ a_3, b_1, c_2 \\right \\},\\\\&\\left \\{ a_1, b_2, c_2 \\right \\},\\left \\{ a_3, b_2, c_2 \\right \\}\\} \\end{matrix} \\;\\;\\;$"
      ],
      "text/plain": [
       "<IPython.core.display.Math object>"
      ]
     },
     "metadata": {},
     "output_type": "display_data"
    },
    {
     "data": {
      "text/latex": [
       "$\\displaystyle \\;\\;\\;\\;\\;\\;\\begin{matrix} e_{2} = \\{\\!\\!\\!\\!\\!\\!\\!&\\left \\{ a_2, b_1, c_1 \\right \\},\\left \\{ a_4, b_1, c_1 \\right \\},\\\\&\\left \\{ a_2, b_2, c_1 \\right \\},\\left \\{ a_4, b_2, c_1 \\right \\},\\\\&\\left \\{ a_1, b_1, c_2 \\right \\},\\left \\{ a_3, b_1, c_2 \\right \\},\\\\&\\left \\{ a_1, b_2, c_2 \\right \\},\\left \\{ a_3, b_2, c_2 \\right \\}\\} \\end{matrix} \\;\\;\\;$"
      ],
      "text/plain": [
       "<IPython.core.display.Math object>"
      ]
     },
     "metadata": {},
     "output_type": "display_data"
    },
    {
     "data": {
      "text/latex": [
       "$\\displaystyle \\;\\;\\;\\;\\;\\;\\begin{matrix} e_{3} = \\{\\!\\!\\!\\!\\!\\!\\!&\\left \\{ a_2, b_1, c_1 \\right \\},\\left \\{ a_4, b_1, c_1 \\right \\},\\\\&\\left \\{ a_2, b_2, c_1 \\right \\},\\left \\{ a_4, b_2, c_1 \\right \\},\\\\&\\left \\{ a_2, b_1, c_2 \\right \\},\\left \\{ a_4, b_1, c_2 \\right \\},\\\\&\\left \\{ a_1, b_2, c_2 \\right \\},\\left \\{ a_3, b_2, c_2 \\right \\}\\} \\end{matrix} \\;\\;\\;$"
      ],
      "text/plain": [
       "<IPython.core.display.Math object>"
      ]
     },
     "metadata": {},
     "output_type": "display_data"
    },
    {
     "data": {
      "text/latex": [
       "$\\displaystyle \\;\\;\\;\\;\\;\\;\\begin{matrix} e_{4} = \\{\\!\\!\\!\\!\\!\\!\\!&\\left \\{ a_2, b_1, c_1 \\right \\},\\left \\{ a_4, b_1, c_1 \\right \\},\\\\&\\left \\{ a_1, b_2, c_1 \\right \\},\\left \\{ a_3, b_2, c_1 \\right \\},\\\\&\\left \\{ a_1, b_1, c_2 \\right \\},\\left \\{ a_3, b_1, c_2 \\right \\},\\\\&\\left \\{ a_1, b_2, c_2 \\right \\},\\left \\{ a_3, b_2, c_2 \\right \\}\\} \\end{matrix} \\;\\;\\;$"
      ],
      "text/plain": [
       "<IPython.core.display.Math object>"
      ]
     },
     "metadata": {},
     "output_type": "display_data"
    },
    {
     "data": {
      "text/latex": [
       "$\\displaystyle \\;\\;\\;\\;\\;\\;\\begin{matrix} e_{5} = \\{\\!\\!\\!\\!\\!\\!\\!&\\left \\{ a_1, b_1, c_1 \\right \\},\\left \\{ a_3, b_1, c_1 \\right \\},\\\\&\\left \\{ a_1, b_2, c_1 \\right \\},\\left \\{ a_3, b_2, c_1 \\right \\},\\\\&\\left \\{ a_2, b_1, c_2 \\right \\},\\left \\{ a_4, b_1, c_2 \\right \\},\\\\&\\left \\{ a_1, b_2, c_2 \\right \\},\\left \\{ a_3, b_2, c_2 \\right \\}\\} \\end{matrix} \\;\\;\\;$"
      ],
      "text/plain": [
       "<IPython.core.display.Math object>"
      ]
     },
     "metadata": {},
     "output_type": "display_data"
    },
    {
     "data": {
      "text/latex": [
       "$\\displaystyle \\;\\;\\;\\;\\;\\;\\begin{matrix} e_{6} = \\{\\!\\!\\!\\!\\!\\!\\!&\\left \\{ a_1, b_1, c_1 \\right \\},\\left \\{ a_3, b_1, c_1 \\right \\},\\\\&\\left \\{ a_2, b_2, c_1 \\right \\},\\left \\{ a_4, b_2, c_1 \\right \\},\\\\&\\left \\{ a_2, b_1, c_2 \\right \\},\\left \\{ a_4, b_1, c_2 \\right \\},\\\\&\\left \\{ a_1, b_2, c_2 \\right \\},\\left \\{ a_3, b_2, c_2 \\right \\}\\} \\end{matrix} \\;\\;\\;$"
      ],
      "text/plain": [
       "<IPython.core.display.Math object>"
      ]
     },
     "metadata": {},
     "output_type": "display_data"
    },
    {
     "data": {
      "text/latex": [
       "$\\displaystyle \\;\\;\\;\\;\\;\\;\\begin{matrix} e_{7} = \\{\\!\\!\\!\\!\\!\\!\\!&\\left \\{ a_1, b_1, c_1 \\right \\},\\left \\{ a_3, b_1, c_1 \\right \\},\\\\&\\left \\{ a_1, b_2, c_1 \\right \\},\\left \\{ a_3, b_2, c_1 \\right \\},\\\\&\\left \\{ a_1, b_1, c_2 \\right \\},\\left \\{ a_3, b_1, c_2 \\right \\},\\\\&\\left \\{ a_1, b_2, c_2 \\right \\},\\left \\{ a_3, b_2, c_2 \\right \\}\\} \\end{matrix} \\;\\;\\;$"
      ],
      "text/plain": [
       "<IPython.core.display.Math object>"
      ]
     },
     "metadata": {},
     "output_type": "display_data"
    },
    {
     "data": {
      "text/latex": [
       "$\\displaystyle \\;\\;\\;\\;\\;\\;\\begin{matrix} e_{8} = \\{\\!\\!\\!\\!\\!\\!\\!&\\left \\{ a_2, b_1, c_1 \\right \\},\\left \\{ a_4, b_1, c_1 \\right \\},\\\\&\\left \\{ a_1, b_2, c_1 \\right \\},\\left \\{ a_3, b_2, c_1 \\right \\},\\\\&\\left \\{ a_2, b_1, c_2 \\right \\},\\left \\{ a_4, b_1, c_2 \\right \\},\\\\&\\left \\{ a_1, b_2, c_2 \\right \\},\\left \\{ a_3, b_2, c_2 \\right \\}\\} \\end{matrix} \\;\\;\\;$"
      ],
      "text/plain": [
       "<IPython.core.display.Math object>"
      ]
     },
     "metadata": {},
     "output_type": "display_data"
    },
    {
     "data": {
      "text/latex": [
       "$\\displaystyle \\;\\;\\;\\;\\;\\;\\begin{matrix} e_{9} = \\{\\!\\!\\!\\!\\!\\!\\!&\\left \\{ a_1, b_1, c_1 \\right \\},\\left \\{ a_3, b_1, c_1 \\right \\},\\\\&\\left \\{ a_1, b_2, c_1 \\right \\},\\left \\{ a_3, b_2, c_1 \\right \\},\\\\&\\left \\{ a_1, b_1, c_2 \\right \\},\\left \\{ a_3, b_1, c_2 \\right \\},\\\\&\\left \\{ a_2, b_2, c_2 \\right \\},\\left \\{ a_4, b_2, c_2 \\right \\}\\} \\end{matrix} \\;\\;\\;$"
      ],
      "text/plain": [
       "<IPython.core.display.Math object>"
      ]
     },
     "metadata": {},
     "output_type": "display_data"
    },
    {
     "data": {
      "text/latex": [
       "$\\displaystyle \\;\\;\\;\\;\\;\\;\\begin{matrix} e_{10} = \\{\\!\\!\\!\\!\\!\\!\\!&\\left \\{ a_2, b_1, c_1 \\right \\},\\left \\{ a_4, b_1, c_1 \\right \\},\\\\&\\left \\{ a_1, b_2, c_1 \\right \\},\\left \\{ a_3, b_2, c_1 \\right \\},\\\\&\\left \\{ a_2, b_1, c_2 \\right \\},\\left \\{ a_4, b_1, c_2 \\right \\},\\\\&\\left \\{ a_2, b_2, c_2 \\right \\},\\left \\{ a_4, b_2, c_2 \\right \\}\\} \\end{matrix} \\;\\;\\;$"
      ],
      "text/plain": [
       "<IPython.core.display.Math object>"
      ]
     },
     "metadata": {},
     "output_type": "display_data"
    },
    {
     "data": {
      "text/latex": [
       "$\\displaystyle \\;\\;\\;\\;\\;\\;\\begin{matrix} e_{11} = \\{\\!\\!\\!\\!\\!\\!\\!&\\left \\{ a_2, b_1, c_1 \\right \\},\\left \\{ a_4, b_1, c_1 \\right \\},\\\\&\\left \\{ a_2, b_2, c_1 \\right \\},\\left \\{ a_4, b_2, c_1 \\right \\},\\\\&\\left \\{ a_2, b_1, c_2 \\right \\},\\left \\{ a_4, b_1, c_2 \\right \\},\\\\&\\left \\{ a_2, b_2, c_2 \\right \\},\\left \\{ a_4, b_2, c_2 \\right \\}\\} \\end{matrix} \\;\\;\\;$"
      ],
      "text/plain": [
       "<IPython.core.display.Math object>"
      ]
     },
     "metadata": {},
     "output_type": "display_data"
    },
    {
     "data": {
      "text/latex": [
       "$\\displaystyle \\;\\;\\;\\;\\;\\;\\begin{matrix} e_{12} = \\{\\!\\!\\!\\!\\!\\!\\!&\\left \\{ a_2, b_1, c_1 \\right \\},\\left \\{ a_4, b_1, c_1 \\right \\},\\\\&\\left \\{ a_1, b_2, c_1 \\right \\},\\left \\{ a_3, b_2, c_1 \\right \\},\\\\&\\left \\{ a_1, b_1, c_2 \\right \\},\\left \\{ a_3, b_1, c_2 \\right \\},\\\\&\\left \\{ a_2, b_2, c_2 \\right \\},\\left \\{ a_4, b_2, c_2 \\right \\}\\} \\end{matrix} \\;\\;\\;$"
      ],
      "text/plain": [
       "<IPython.core.display.Math object>"
      ]
     },
     "metadata": {},
     "output_type": "display_data"
    },
    {
     "data": {
      "text/latex": [
       "$\\displaystyle \\;\\;\\;\\;\\;\\;\\begin{matrix} e_{13} = \\{\\!\\!\\!\\!\\!\\!\\!&\\left \\{ a_1, b_1, c_1 \\right \\},\\left \\{ a_3, b_1, c_1 \\right \\},\\\\&\\left \\{ a_2, b_2, c_1 \\right \\},\\left \\{ a_4, b_2, c_1 \\right \\},\\\\&\\left \\{ a_2, b_1, c_2 \\right \\},\\left \\{ a_4, b_1, c_2 \\right \\},\\\\&\\left \\{ a_2, b_2, c_2 \\right \\},\\left \\{ a_4, b_2, c_2 \\right \\}\\} \\end{matrix} \\;\\;\\;$"
      ],
      "text/plain": [
       "<IPython.core.display.Math object>"
      ]
     },
     "metadata": {},
     "output_type": "display_data"
    },
    {
     "data": {
      "text/latex": [
       "$\\displaystyle \\;\\;\\;\\;\\;\\;\\begin{matrix} e_{14} = \\{\\!\\!\\!\\!\\!\\!\\!&\\left \\{ a_2, b_1, c_1 \\right \\},\\left \\{ a_4, b_1, c_1 \\right \\},\\\\&\\left \\{ a_2, b_2, c_1 \\right \\},\\left \\{ a_4, b_2, c_1 \\right \\},\\\\&\\left \\{ a_1, b_1, c_2 \\right \\},\\left \\{ a_3, b_1, c_2 \\right \\},\\\\&\\left \\{ a_2, b_2, c_2 \\right \\},\\left \\{ a_4, b_2, c_2 \\right \\}\\} \\end{matrix} \\;\\;\\;$"
      ],
      "text/plain": [
       "<IPython.core.display.Math object>"
      ]
     },
     "metadata": {},
     "output_type": "display_data"
    },
    {
     "data": {
      "text/latex": [
       "$\\displaystyle \\;\\;\\;\\;\\;\\;\\begin{matrix} e_{15} = \\{\\!\\!\\!\\!\\!\\!\\!&\\left \\{ a_1, b_1, c_1 \\right \\},\\left \\{ a_3, b_1, c_1 \\right \\},\\\\&\\left \\{ a_2, b_2, c_1 \\right \\},\\left \\{ a_4, b_2, c_1 \\right \\},\\\\&\\left \\{ a_1, b_1, c_2 \\right \\},\\left \\{ a_3, b_1, c_2 \\right \\},\\\\&\\left \\{ a_2, b_2, c_2 \\right \\},\\left \\{ a_4, b_2, c_2 \\right \\}\\} \\end{matrix} \\;\\;\\;$"
      ],
      "text/plain": [
       "<IPython.core.display.Math object>"
      ]
     },
     "metadata": {},
     "output_type": "display_data"
    },
    {
     "data": {
      "text/latex": [
       "$\\displaystyle \\;\\;\\;\\;\\;\\;\\begin{matrix} e_{16} = \\{\\!\\!\\!\\!\\!\\!\\!&\\left \\{ a_1, b_1, c_1 \\right \\},\\left \\{ a_3, b_1, c_1 \\right \\},\\\\&\\left \\{ a_1, b_2, c_1 \\right \\},\\left \\{ a_3, b_2, c_1 \\right \\},\\\\&\\left \\{ a_2, b_1, c_2 \\right \\},\\left \\{ a_4, b_1, c_2 \\right \\},\\\\&\\left \\{ a_2, b_2, c_2 \\right \\},\\left \\{ a_4, b_2, c_2 \\right \\}\\} \\end{matrix} \\;\\;\\;$"
      ],
      "text/plain": [
       "<IPython.core.display.Math object>"
      ]
     },
     "metadata": {},
     "output_type": "display_data"
    },
    {
     "data": {
      "text/latex": [
       "$\\displaystyle \\text{Displaying Foulis-Randall product for combination: } H_C \\; \\otimes \\left \\{ H_A \\otimes H_B \\right \\}$"
      ],
      "text/plain": [
       "<IPython.core.display.Math object>"
      ]
     },
     "metadata": {},
     "output_type": "display_data"
    },
    {
     "data": {
      "text/latex": [
       "$\\displaystyle \\;\\;\\;\\;\\;\\;\\begin{matrix} e_{1} = \\{\\!\\!\\!\\!\\!\\!\\!&\\left \\{ a_1, b_1, c_1 \\right \\},\\left \\{ a_3, b_1, c_1 \\right \\},\\\\&\\left \\{ a_2, b_2, c_1 \\right \\},\\left \\{ a_4, b_2, c_1 \\right \\},\\\\&\\left \\{ a_1, b_1, c_2 \\right \\},\\left \\{ a_3, b_1, c_2 \\right \\},\\\\&\\left \\{ a_1, b_2, c_2 \\right \\},\\left \\{ a_3, b_2, c_2 \\right \\}\\} \\end{matrix} \\;\\;\\;$"
      ],
      "text/plain": [
       "<IPython.core.display.Math object>"
      ]
     },
     "metadata": {},
     "output_type": "display_data"
    },
    {
     "data": {
      "text/latex": [
       "$\\displaystyle \\;\\;\\;\\;\\;\\;\\begin{matrix} e_{2} = \\{\\!\\!\\!\\!\\!\\!\\!&\\left \\{ a_2, b_1, c_1 \\right \\},\\left \\{ a_4, b_1, c_1 \\right \\},\\\\&\\left \\{ a_2, b_2, c_1 \\right \\},\\left \\{ a_4, b_2, c_1 \\right \\},\\\\&\\left \\{ a_1, b_1, c_2 \\right \\},\\left \\{ a_3, b_1, c_2 \\right \\},\\\\&\\left \\{ a_1, b_2, c_2 \\right \\},\\left \\{ a_3, b_2, c_2 \\right \\}\\} \\end{matrix} \\;\\;\\;$"
      ],
      "text/plain": [
       "<IPython.core.display.Math object>"
      ]
     },
     "metadata": {},
     "output_type": "display_data"
    },
    {
     "data": {
      "text/latex": [
       "$\\displaystyle \\;\\;\\;\\;\\;\\;\\begin{matrix} e_{3} = \\{\\!\\!\\!\\!\\!\\!\\!&\\left \\{ a_2, b_1, c_1 \\right \\},\\left \\{ a_4, b_1, c_1 \\right \\},\\\\&\\left \\{ a_2, b_2, c_1 \\right \\},\\left \\{ a_4, b_2, c_1 \\right \\},\\\\&\\left \\{ a_2, b_1, c_2 \\right \\},\\left \\{ a_4, b_1, c_2 \\right \\},\\\\&\\left \\{ a_1, b_2, c_2 \\right \\},\\left \\{ a_3, b_2, c_2 \\right \\}\\} \\end{matrix} \\;\\;\\;$"
      ],
      "text/plain": [
       "<IPython.core.display.Math object>"
      ]
     },
     "metadata": {},
     "output_type": "display_data"
    },
    {
     "data": {
      "text/latex": [
       "$\\displaystyle \\;\\;\\;\\;\\;\\;\\begin{matrix} e_{4} = \\{\\!\\!\\!\\!\\!\\!\\!&\\left \\{ a_2, b_1, c_1 \\right \\},\\left \\{ a_4, b_1, c_1 \\right \\},\\\\&\\left \\{ a_1, b_2, c_1 \\right \\},\\left \\{ a_3, b_2, c_1 \\right \\},\\\\&\\left \\{ a_1, b_1, c_2 \\right \\},\\left \\{ a_3, b_1, c_2 \\right \\},\\\\&\\left \\{ a_1, b_2, c_2 \\right \\},\\left \\{ a_3, b_2, c_2 \\right \\}\\} \\end{matrix} \\;\\;\\;$"
      ],
      "text/plain": [
       "<IPython.core.display.Math object>"
      ]
     },
     "metadata": {},
     "output_type": "display_data"
    },
    {
     "data": {
      "text/latex": [
       "$\\displaystyle \\;\\;\\;\\;\\;\\;\\begin{matrix} e_{5} = \\{\\!\\!\\!\\!\\!\\!\\!&\\left \\{ a_1, b_1, c_1 \\right \\},\\left \\{ a_3, b_1, c_1 \\right \\},\\\\&\\left \\{ a_1, b_2, c_1 \\right \\},\\left \\{ a_3, b_2, c_1 \\right \\},\\\\&\\left \\{ a_2, b_1, c_2 \\right \\},\\left \\{ a_4, b_1, c_2 \\right \\},\\\\&\\left \\{ a_1, b_2, c_2 \\right \\},\\left \\{ a_3, b_2, c_2 \\right \\}\\} \\end{matrix} \\;\\;\\;$"
      ],
      "text/plain": [
       "<IPython.core.display.Math object>"
      ]
     },
     "metadata": {},
     "output_type": "display_data"
    },
    {
     "data": {
      "text/latex": [
       "$\\displaystyle \\;\\;\\;\\;\\;\\;\\begin{matrix} e_{6} = \\{\\!\\!\\!\\!\\!\\!\\!&\\left \\{ a_1, b_1, c_1 \\right \\},\\left \\{ a_3, b_1, c_1 \\right \\},\\\\&\\left \\{ a_2, b_2, c_1 \\right \\},\\left \\{ a_4, b_2, c_1 \\right \\},\\\\&\\left \\{ a_2, b_1, c_2 \\right \\},\\left \\{ a_4, b_1, c_2 \\right \\},\\\\&\\left \\{ a_1, b_2, c_2 \\right \\},\\left \\{ a_3, b_2, c_2 \\right \\}\\} \\end{matrix} \\;\\;\\;$"
      ],
      "text/plain": [
       "<IPython.core.display.Math object>"
      ]
     },
     "metadata": {},
     "output_type": "display_data"
    },
    {
     "data": {
      "text/latex": [
       "$\\displaystyle \\;\\;\\;\\;\\;\\;\\begin{matrix} e_{7} = \\{\\!\\!\\!\\!\\!\\!\\!&\\left \\{ a_1, b_1, c_1 \\right \\},\\left \\{ a_3, b_1, c_1 \\right \\},\\\\&\\left \\{ a_1, b_2, c_1 \\right \\},\\left \\{ a_3, b_2, c_1 \\right \\},\\\\&\\left \\{ a_1, b_1, c_2 \\right \\},\\left \\{ a_3, b_1, c_2 \\right \\},\\\\&\\left \\{ a_1, b_2, c_2 \\right \\},\\left \\{ a_3, b_2, c_2 \\right \\}\\} \\end{matrix} \\;\\;\\;$"
      ],
      "text/plain": [
       "<IPython.core.display.Math object>"
      ]
     },
     "metadata": {},
     "output_type": "display_data"
    },
    {
     "data": {
      "text/latex": [
       "$\\displaystyle \\;\\;\\;\\;\\;\\;\\begin{matrix} e_{8} = \\{\\!\\!\\!\\!\\!\\!\\!&\\left \\{ a_2, b_1, c_1 \\right \\},\\left \\{ a_4, b_1, c_1 \\right \\},\\\\&\\left \\{ a_1, b_2, c_1 \\right \\},\\left \\{ a_3, b_2, c_1 \\right \\},\\\\&\\left \\{ a_2, b_1, c_2 \\right \\},\\left \\{ a_4, b_1, c_2 \\right \\},\\\\&\\left \\{ a_1, b_2, c_2 \\right \\},\\left \\{ a_3, b_2, c_2 \\right \\}\\} \\end{matrix} \\;\\;\\;$"
      ],
      "text/plain": [
       "<IPython.core.display.Math object>"
      ]
     },
     "metadata": {},
     "output_type": "display_data"
    },
    {
     "data": {
      "text/latex": [
       "$\\displaystyle \\;\\;\\;\\;\\;\\;\\begin{matrix} e_{9} = \\{\\!\\!\\!\\!\\!\\!\\!&\\left \\{ a_1, b_1, c_1 \\right \\},\\left \\{ a_3, b_1, c_1 \\right \\},\\\\&\\left \\{ a_1, b_2, c_1 \\right \\},\\left \\{ a_3, b_2, c_1 \\right \\},\\\\&\\left \\{ a_1, b_1, c_2 \\right \\},\\left \\{ a_3, b_1, c_2 \\right \\},\\\\&\\left \\{ a_2, b_2, c_2 \\right \\},\\left \\{ a_4, b_2, c_2 \\right \\}\\} \\end{matrix} \\;\\;\\;$"
      ],
      "text/plain": [
       "<IPython.core.display.Math object>"
      ]
     },
     "metadata": {},
     "output_type": "display_data"
    },
    {
     "data": {
      "text/latex": [
       "$\\displaystyle \\;\\;\\;\\;\\;\\;\\begin{matrix} e_{10} = \\{\\!\\!\\!\\!\\!\\!\\!&\\left \\{ a_2, b_1, c_1 \\right \\},\\left \\{ a_4, b_1, c_1 \\right \\},\\\\&\\left \\{ a_1, b_2, c_1 \\right \\},\\left \\{ a_3, b_2, c_1 \\right \\},\\\\&\\left \\{ a_2, b_1, c_2 \\right \\},\\left \\{ a_4, b_1, c_2 \\right \\},\\\\&\\left \\{ a_2, b_2, c_2 \\right \\},\\left \\{ a_4, b_2, c_2 \\right \\}\\} \\end{matrix} \\;\\;\\;$"
      ],
      "text/plain": [
       "<IPython.core.display.Math object>"
      ]
     },
     "metadata": {},
     "output_type": "display_data"
    },
    {
     "data": {
      "text/latex": [
       "$\\displaystyle \\;\\;\\;\\;\\;\\;\\begin{matrix} e_{11} = \\{\\!\\!\\!\\!\\!\\!\\!&\\left \\{ a_2, b_1, c_1 \\right \\},\\left \\{ a_4, b_1, c_1 \\right \\},\\\\&\\left \\{ a_1, b_2, c_1 \\right \\},\\left \\{ a_3, b_2, c_1 \\right \\},\\\\&\\left \\{ a_1, b_1, c_2 \\right \\},\\left \\{ a_3, b_1, c_2 \\right \\},\\\\&\\left \\{ a_2, b_2, c_2 \\right \\},\\left \\{ a_4, b_2, c_2 \\right \\}\\} \\end{matrix} \\;\\;\\;$"
      ],
      "text/plain": [
       "<IPython.core.display.Math object>"
      ]
     },
     "metadata": {},
     "output_type": "display_data"
    },
    {
     "data": {
      "text/latex": [
       "$\\displaystyle \\;\\;\\;\\;\\;\\;\\begin{matrix} e_{12} = \\{\\!\\!\\!\\!\\!\\!\\!&\\left \\{ a_2, b_1, c_1 \\right \\},\\left \\{ a_4, b_1, c_1 \\right \\},\\\\&\\left \\{ a_2, b_2, c_1 \\right \\},\\left \\{ a_4, b_2, c_1 \\right \\},\\\\&\\left \\{ a_1, b_1, c_2 \\right \\},\\left \\{ a_3, b_1, c_2 \\right \\},\\\\&\\left \\{ a_2, b_2, c_2 \\right \\},\\left \\{ a_4, b_2, c_2 \\right \\}\\} \\end{matrix} \\;\\;\\;$"
      ],
      "text/plain": [
       "<IPython.core.display.Math object>"
      ]
     },
     "metadata": {},
     "output_type": "display_data"
    },
    {
     "data": {
      "text/latex": [
       "$\\displaystyle \\;\\;\\;\\;\\;\\;\\begin{matrix} e_{13} = \\{\\!\\!\\!\\!\\!\\!\\!&\\left \\{ a_1, b_1, c_1 \\right \\},\\left \\{ a_3, b_1, c_1 \\right \\},\\\\&\\left \\{ a_2, b_2, c_1 \\right \\},\\left \\{ a_4, b_2, c_1 \\right \\},\\\\&\\left \\{ a_2, b_1, c_2 \\right \\},\\left \\{ a_4, b_1, c_2 \\right \\},\\\\&\\left \\{ a_2, b_2, c_2 \\right \\},\\left \\{ a_4, b_2, c_2 \\right \\}\\} \\end{matrix} \\;\\;\\;$"
      ],
      "text/plain": [
       "<IPython.core.display.Math object>"
      ]
     },
     "metadata": {},
     "output_type": "display_data"
    },
    {
     "data": {
      "text/latex": [
       "$\\displaystyle \\;\\;\\;\\;\\;\\;\\begin{matrix} e_{14} = \\{\\!\\!\\!\\!\\!\\!\\!&\\left \\{ a_2, b_1, c_1 \\right \\},\\left \\{ a_4, b_1, c_1 \\right \\},\\\\&\\left \\{ a_2, b_2, c_1 \\right \\},\\left \\{ a_4, b_2, c_1 \\right \\},\\\\&\\left \\{ a_2, b_1, c_2 \\right \\},\\left \\{ a_4, b_1, c_2 \\right \\},\\\\&\\left \\{ a_2, b_2, c_2 \\right \\},\\left \\{ a_4, b_2, c_2 \\right \\}\\} \\end{matrix} \\;\\;\\;$"
      ],
      "text/plain": [
       "<IPython.core.display.Math object>"
      ]
     },
     "metadata": {},
     "output_type": "display_data"
    },
    {
     "data": {
      "text/latex": [
       "$\\displaystyle \\;\\;\\;\\;\\;\\;\\begin{matrix} e_{15} = \\{\\!\\!\\!\\!\\!\\!\\!&\\left \\{ a_1, b_1, c_1 \\right \\},\\left \\{ a_3, b_1, c_1 \\right \\},\\\\&\\left \\{ a_2, b_2, c_1 \\right \\},\\left \\{ a_4, b_2, c_1 \\right \\},\\\\&\\left \\{ a_1, b_1, c_2 \\right \\},\\left \\{ a_3, b_1, c_2 \\right \\},\\\\&\\left \\{ a_2, b_2, c_2 \\right \\},\\left \\{ a_4, b_2, c_2 \\right \\}\\} \\end{matrix} \\;\\;\\;$"
      ],
      "text/plain": [
       "<IPython.core.display.Math object>"
      ]
     },
     "metadata": {},
     "output_type": "display_data"
    },
    {
     "data": {
      "text/latex": [
       "$\\displaystyle \\;\\;\\;\\;\\;\\;\\begin{matrix} e_{16} = \\{\\!\\!\\!\\!\\!\\!\\!&\\left \\{ a_1, b_1, c_1 \\right \\},\\left \\{ a_3, b_1, c_1 \\right \\},\\\\&\\left \\{ a_1, b_2, c_1 \\right \\},\\left \\{ a_3, b_2, c_1 \\right \\},\\\\&\\left \\{ a_2, b_1, c_2 \\right \\},\\left \\{ a_4, b_1, c_2 \\right \\},\\\\&\\left \\{ a_2, b_2, c_2 \\right \\},\\left \\{ a_4, b_2, c_2 \\right \\}\\} \\end{matrix} \\;\\;\\;$"
      ],
      "text/plain": [
       "<IPython.core.display.Math object>"
      ]
     },
     "metadata": {},
     "output_type": "display_data"
    }
   ],
   "source": [
    "from IPython.display import display, Math, Latex\n",
    "from qogpsi import *\n",
    "# States\n",
    "u = state(\"u\", label=\"u\")\n",
    "d = state(\"d\", label=\"d\")\n",
    "# Random Variables\n",
    "A1 = random_variable(\"A1\", states=[u,d])\n",
    "B1 = random_variable(\"B1\", states=[u,d])\n",
    "B2 = random_variable(\"B2\", states=[u,d])\n",
    "C1 = random_variable(\"C1\", states=[u,d])\n",
    "# Probability Space\n",
    "p_s = probability_space(\n",
    "    random_vars=[A1, B1, B2, C1], \n",
    "    states=[u,d])\n",
    "# FR Product\n",
    "FR = foulis_randall([\n",
    "    [A1],\n",
    "    [B1,B2],\n",
    "    [C1]])\n",
    "def print_edge(edge, ii):\n",
    "    total_str = \"\"\n",
    "    for i in range(len(edge)):\n",
    "        midlist = { \"100\" : \"0|0\", \"101\" : \"1|0\", \"110\" : \"0|1\", \"111\" : \"1|1\" }\n",
    "        leflist = { \"000\" : \"0|0\", \"001\" : \"1|0\" }\n",
    "        riglist = { \"200\" : \"0|0\", \"201\" : \"1|0\" }\n",
    "        a = ( midlist[\"%s%s%s\" % (edge[i][0][0],edge[i][0][1],edge[i][0][2])] )\n",
    "        b = ( leflist[\"%s%s%s\" % (edge[i][1][0],edge[i][1][1],edge[i][1][2])] )\n",
    "        c = ( riglist[\"%s%s%s\" % (edge[i][2][0],edge[i][1][1],edge[i][2][2])] )\n",
    "        total_str += (\" %s %s %s \" % (a,b,c))\n",
    "        #print((\" %s%s%s|%s%s%s \" % (b[0],a[0],c[0],b[2],a[2],c[2])))\n",
    "    this_string = \"\"\n",
    "    k = 0\n",
    "    def this_function(this_string, k):\n",
    "        if (k == 2) or (k == 4) or (k == 6):\n",
    "            this_string += \"\\\\\\\\\"\n",
    "        if (k == 0) or (k == 2) or (k == 4) or (k == 6):\n",
    "            this_string += \"&\"\n",
    "        k += 1\n",
    "        return this_string, k\n",
    "    if (\"0|0 0|0 0|0\" in total_str):\n",
    "        this_string, k = this_function(this_string, k)\n",
    "        this_string += \"\\\\left \\\\{ a_1, b_1, c_1 \\\\right \\\\},\"\n",
    "    if (\"0|1 0|0 0|0\" in total_str):\n",
    "        this_string, k = this_function(this_string, k)\n",
    "        this_string += \"\\\\left \\\\{ a_2, b_1, c_1 \\\\right \\\\},\"\n",
    "    if (\"1|0 0|0 0|0\" in total_str):\n",
    "        this_string, k = this_function(this_string, k)\n",
    "        this_string += \"\\\\left \\\\{ a_3, b_1, c_1 \\\\right \\\\},\"\n",
    "    if (\"1|1 0|0 0|0\" in total_str):\n",
    "        this_string, k = this_function(this_string, k)\n",
    "        this_string += \"\\\\left \\\\{ a_4, b_1, c_1 \\\\right \\\\},\"\n",
    "    if (\"0|0 1|0 0|0\" in total_str):\n",
    "        this_string, k = this_function(this_string, k)\n",
    "        this_string += \"\\\\left \\\\{ a_1, b_2, c_1 \\\\right \\\\},\"\n",
    "    if (\"0|1 1|0 0|0\" in total_str):\n",
    "        this_string, k = this_function(this_string, k)\n",
    "        this_string += \"\\\\left \\\\{ a_2, b_2, c_1 \\\\right \\\\},\"\n",
    "    if (\"1|0 1|0 0|0\" in total_str):\n",
    "        this_string, k = this_function(this_string, k)\n",
    "        this_string += \"\\\\left \\\\{ a_3, b_2, c_1 \\\\right \\\\},\"\n",
    "    if (\"1|1 1|0 0|0\" in total_str):\n",
    "        this_string, k = this_function(this_string, k)\n",
    "        this_string += \"\\\\left \\\\{ a_4, b_2, c_1 \\\\right \\\\},\"\n",
    "    if (\"0|0 0|0 1|0\" in total_str):\n",
    "        this_string, k = this_function(this_string, k)\n",
    "        this_string += \"\\\\left \\\\{ a_1, b_1, c_2 \\\\right \\\\},\"\n",
    "    if (\"0|1 0|0 1|0\" in total_str):\n",
    "        this_string, k = this_function(this_string, k)\n",
    "        this_string += \"\\\\left \\\\{ a_2, b_1, c_2 \\\\right \\\\},\"\n",
    "    if (\"1|0 0|0 1|0\" in total_str):\n",
    "        this_string, k = this_function(this_string, k)\n",
    "        this_string += \"\\\\left \\\\{ a_3, b_1, c_2 \\\\right \\\\},\"\n",
    "    if (\"1|1 0|0 1|0\" in total_str):\n",
    "        this_string, k = this_function(this_string, k)\n",
    "        this_string += \"\\\\left \\\\{ a_4, b_1, c_2 \\\\right \\\\},\"\n",
    "    if (\"0|0 1|0 1|0\" in total_str):\n",
    "        this_string, k = this_function(this_string, k)\n",
    "        this_string += \"\\\\left \\\\{ a_1, b_2, c_2 \\\\right \\\\},\"\n",
    "    if (\"0|1 1|0 1|0\" in total_str):\n",
    "        this_string, k = this_function(this_string, k)\n",
    "        this_string += \"\\\\left \\\\{ a_2, b_2, c_2 \\\\right \\\\},\"\n",
    "    if (\"1|0 1|0 1|0\" in total_str):\n",
    "        this_string, k = this_function(this_string, k)\n",
    "        this_string += \"\\\\left \\\\{ a_3, b_2, c_2 \\\\right \\\\},\"\n",
    "    if (\"1|1 1|0 1|0\" in total_str):\n",
    "        this_string, k = this_function(this_string, k)\n",
    "        this_string += \"\\\\left \\\\{ a_4, b_2, c_2 \\\\right \\\\},\"\n",
    "    display(Math((\"\\;\\;\\;\\;\\;\\;\\\\begin{matrix} e_{%s} = \\\\{\\\\!\\\\!\\\\!\\\\!\\\\!\\\\!\\\\!\" % (ii+1))+this_string[:-1]+\"\\\\} \\\\end{matrix} \\\\;\\\\;\\\\;\"))\n",
    "\n",
    "for j in range(3):\n",
    "    if j == 0:\n",
    "        display(Math(\"\\\\text{Displaying Foulis-Randall product for combination: } H_B \\; \\otimes \\\\left \\{ H_A \\otimes H_C \\\\right \\}\"))\n",
    "    if j == 1:\n",
    "        display(Math(\"\\\\text{Displaying Foulis-Randall product for combination: } H_A \\; \\otimes \\\\left \\{ H_C \\otimes H_B \\\\right \\}\"))\n",
    "    if j == 2:\n",
    "        display(Math(\"\\\\text{Displaying Foulis-Randall product for combination: } H_C \\; \\otimes \\\\left \\{ H_A \\otimes H_B \\\\right \\}\"))\n",
    "    for i in range(16):\n",
    "        print_edge(FR[j]['refactored_formal_hyperedges'][i], i)\n",
    "    #"
   ]
  }
 ],
 "metadata": {
  "kernelspec": {
   "display_name": "Python 3",
   "language": "python",
   "name": "python3"
  },
  "language_info": {
   "codemirror_mode": {
    "name": "ipython",
    "version": 3
   },
   "file_extension": ".py",
   "mimetype": "text/x-python",
   "name": "python",
   "nbconvert_exporter": "python",
   "pygments_lexer": "ipython3",
   "version": "3.7.4"
  }
 },
 "nbformat": 4,
 "nbformat_minor": 4
}
