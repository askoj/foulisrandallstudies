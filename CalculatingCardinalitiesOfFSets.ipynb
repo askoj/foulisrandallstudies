{
 "cells": [
  {
   "cell_type": "markdown",
   "metadata": {},
   "source": [
    "# Calculating The Cardinalities Of The $\\mathfrak{F}$ Set And $\\mathbb{F}$ Set For Systems Of Varying Numbers Of Parties\n",
    "\n",
    "Here we implement the algorithm 'CombinationAssist' and part of the algorithm 'FoulisRandallProducts', to examine how (with the increase of the number of parties involved in the experiment), the $\\mathfrak{F}$ set and $\\mathbb{F}$ set grow in size (see Section 5 of our paper)."
   ]
  },
  {
   "cell_type": "code",
   "execution_count": 66,
   "metadata": {},
   "outputs": [
    {
     "data": {
      "text/latex": [
       "$\\displaystyle \\text{A system of 1 partie(s) has 1 member(s) in the }\\mathfrak{F}\\text{ set, and 1 member(s) in the }\\mathbb{F}\\text{ set}$"
      ],
      "text/plain": [
       "<IPython.core.display.Math object>"
      ]
     },
     "metadata": {},
     "output_type": "display_data"
    },
    {
     "data": {
      "text/latex": [
       "$\\displaystyle \\text{A system of 2 partie(s) has 3 member(s) in the }\\mathfrak{F}\\text{ set, and 1 member(s) in the }\\mathbb{F}\\text{ set}$"
      ],
      "text/plain": [
       "<IPython.core.display.Math object>"
      ]
     },
     "metadata": {},
     "output_type": "display_data"
    },
    {
     "data": {
      "text/latex": [
       "$\\displaystyle \\text{A system of 3 partie(s) has 9 member(s) in the }\\mathfrak{F}\\text{ set, and 3 member(s) in the }\\mathbb{F}\\text{ set}$"
      ],
      "text/plain": [
       "<IPython.core.display.Math object>"
      ]
     },
     "metadata": {},
     "output_type": "display_data"
    },
    {
     "data": {
      "text/latex": [
       "$\\displaystyle \\text{A system of 4 partie(s) has 34 member(s) in the }\\mathfrak{F}\\text{ set, and 12 member(s) in the }\\mathbb{F}\\text{ set}$"
      ],
      "text/plain": [
       "<IPython.core.display.Math object>"
      ]
     },
     "metadata": {},
     "output_type": "display_data"
    },
    {
     "data": {
      "text/latex": [
       "$\\displaystyle \\text{A system of 5 partie(s) has 165 member(s) in the }\\mathfrak{F}\\text{ set, and 60 member(s) in the }\\mathbb{F}\\text{ set}$"
      ],
      "text/plain": [
       "<IPython.core.display.Math object>"
      ]
     },
     "metadata": {},
     "output_type": "display_data"
    },
    {
     "data": {
      "text/latex": [
       "$\\displaystyle \\text{A system of 6 partie(s) has 981 member(s) in the }\\mathfrak{F}\\text{ set, and 360 member(s) in the }\\mathbb{F}\\text{ set}$"
      ],
      "text/plain": [
       "<IPython.core.display.Math object>"
      ]
     },
     "metadata": {},
     "output_type": "display_data"
    },
    {
     "data": {
      "text/latex": [
       "$\\displaystyle \\text{A system of 7 partie(s) has 6853 member(s) in the }\\mathfrak{F}\\text{ set, and 2520 member(s) in the }\\mathbb{F}\\text{ set}$"
      ],
      "text/plain": [
       "<IPython.core.display.Math object>"
      ]
     },
     "metadata": {},
     "output_type": "display_data"
    }
   ],
   "source": [
    "import copy\n",
    "from itertools import chain\n",
    "from IPython.display import display, Math, Latex\n",
    "\n",
    "# This function handles majority of the execution\n",
    "def calculate_cardinalities_of_F_sets(number_of_parties):\n",
    "    universal_map = {}\n",
    "    for i in range(number_of_parties):\n",
    "        universal_map.update({ str(i) : { \"0\" : {}} })\n",
    "    # Produce a flat version of a set\n",
    "    def flat(val):\n",
    "        ll = list(chain.from_iterable(val))\n",
    "        while (type([]) in [type(l) for l in ll]):\n",
    "            ll = list(chain.from_iterable(ll))\n",
    "        return ll\n",
    "    # An implementation of the 'CombinationAssist' algorithm\n",
    "    def comb(set1, set2, k, first_iteration=False):\n",
    "        if (first_iteration):\n",
    "            set2 = set1\n",
    "        mock_set = set2\n",
    "        dest_set = {}\n",
    "        if (first_iteration):\n",
    "            mock_set = dest_set\n",
    "        for a in set1:\n",
    "            for b in set2:\n",
    "                if (b != a) and (set1[a] not in set2[b]) and (set2[b] not in set1[a]):\n",
    "                    candid_val = [set1[a],set2[b]]\n",
    "                    if (candid_val not in mock_set.values()) and (candid_val[::-1] not in mock_set.values()):\n",
    "                        if (len(set(flat(candid_val))) == len(flat(candid_val))):\n",
    "                            dest_set.update({k:candid_val})\n",
    "                            k += 1\n",
    "        return dest_set, k\n",
    "    # Implementation of lines 1-11 of the algorithm 'FoulisRandallProducts'\n",
    "    a_set = {}\n",
    "    indx = 0\n",
    "    for party in universal_map:\n",
    "        a_set.update({ indx : [str(indx)] })\n",
    "        indx += 1\n",
    "    b_set = a_set\n",
    "    k = len(a_set.items())\n",
    "    end_set = copy.deepcopy(a_set)\n",
    "    end_set_prev = []\n",
    "    while (len(end_set) != len(end_set_prev)):\n",
    "        end_set_prev = copy.deepcopy(end_set)\n",
    "        b_set, k = comb(a_set, copy.deepcopy(b_set), k, first_iteration=(k==len(a_set.items())))\n",
    "        end_set.update(b_set)\n",
    "    end_set_list = []\n",
    "    for k,v in end_set.items():\n",
    "        if (not (type([]) in [type(i) for i in v])):\n",
    "            end_set_list.append(universal_map[str(k)])\n",
    "        else:\n",
    "            end_set_list.append(None)\n",
    "    formal_fr_products = []\n",
    "    orderings = []\n",
    "    for k, val in end_set.items():\n",
    "        if (set(flat(list(a_set.values()))) == set(flat(val))):\n",
    "            orderings.append(val)\n",
    "            formal_fr_products.append(end_set_list[list(end_set.values()).index(val)])\n",
    "    display(Math(\"$\\\\text{A system of %s partie(s) has %s member(s) in the }\\mathfrak{F}\\\\text{ set, and %s member(s) in the }\\mathbb{F}\\\\text{ set}$\" % (number_of_parties,len(end_set),len(formal_fr_products))))\n",
    "\n",
    "# Calculate the result on upto 7 parties\n",
    "for i in range(7):\n",
    "    calculate_cardinalities_of_F_sets(i+1)"
   ]
  },
  {
   "cell_type": "code",
   "execution_count": null,
   "metadata": {},
   "outputs": [],
   "source": []
  }
 ],
 "metadata": {
  "kernelspec": {
   "display_name": "Python 3",
   "language": "python",
   "name": "python3"
  },
  "language_info": {
   "codemirror_mode": {
    "name": "ipython",
    "version": 3
   },
   "file_extension": ".py",
   "mimetype": "text/x-python",
   "name": "python",
   "nbconvert_exporter": "python",
   "pygments_lexer": "ipython3",
   "version": "3.7.4"
  }
 },
 "nbformat": 4,
 "nbformat_minor": 4
}
