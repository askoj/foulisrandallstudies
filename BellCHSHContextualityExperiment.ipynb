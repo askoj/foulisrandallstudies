{
 "cells": [
  {
   "cell_type": "markdown",
   "metadata": {},
   "source": [
    "# Determining Contextuality Of A Bell-CHSH Experiment\n",
    "\n",
    "Here we conduct a standard Bell-CHSH experiment involving probabilistic outcomes detailed in our paper (see Figure 2). The results present the Foulis-Randall product of the system, and carry out the specification detailed in Section 4.1 to determine that the system is in fact non-classical."
   ]
  },
  {
   "cell_type": "code",
   "execution_count": 64,
   "metadata": {},
   "outputs": [
    {
     "data": {
      "text/latex": [
       "$\\displaystyle H_A \\otimes H_B = \\{ \\\\\\{ \\{ a_1, b_3 \\},\\;\\{ a_2, b_3 \\},\\;\\{ a_3, b_4 \\},\\;\\{ a_4, b_4 \\}\\},\\\\\\{ \\{ a_3, b_3 \\},\\;\\{ a_4, b_3 \\},\\;\\{ a_3, b_4 \\},\\;\\{ a_4, b_4 \\}\\},\\\\\\{ \\{ a_4, b_1 \\},\\;\\{ a_4, b_2 \\},\\;\\{ a_3, b_3 \\},\\;\\{ a_3, b_4 \\}\\},\\\\\\{ \\{ a_1, b_1 \\},\\;\\{ a_1, b_2 \\},\\;\\{ a_2, b_3 \\},\\;\\{ a_2, b_4 \\}\\},\\\\\\{ \\{ a_1, b_1 \\},\\;\\{ a_2, b_1 \\},\\;\\{ a_3, b_2 \\},\\;\\{ a_4, b_2 \\}\\},\\\\\\{ \\{ a_3, b_1 \\},\\;\\{ a_4, b_1 \\},\\;\\{ a_1, b_2 \\},\\;\\{ a_2, b_2 \\}\\},\\\\\\{ \\{ a_1, b_3 \\},\\;\\{ a_2, b_3 \\},\\;\\{ a_1, b_4 \\},\\;\\{ a_2, b_4 \\}\\},\\\\\\{ \\{ a_1, b_1 \\},\\;\\{ a_2, b_1 \\},\\;\\{ a_1, b_2 \\},\\;\\{ a_2, b_2 \\}\\},\\\\\\{ \\{ a_3, b_1 \\},\\;\\{ a_3, b_2 \\},\\;\\{ a_4, b_3 \\},\\;\\{ a_4, b_4 \\}\\},\\\\\\{ \\{ a_3, b_3 \\},\\;\\{ a_4, b_3 \\},\\;\\{ a_1, b_4 \\},\\;\\{ a_2, b_4 \\}\\},\\\\\\{ \\{ a_2, b_1 \\},\\;\\{ a_2, b_2 \\},\\;\\{ a_1, b_3 \\},\\;\\{ a_1, b_4 \\}\\},\\\\\\{ \\{ a_3, b_1 \\},\\;\\{ a_4, b_1 \\},\\;\\{ a_3, b_2 \\},\\;\\{ a_4, b_2 \\}\\} \\}$"
      ],
      "text/plain": [
       "<IPython.core.display.Math object>"
      ]
     },
     "metadata": {},
     "output_type": "display_data"
    },
    {
     "data": {
      "text/latex": [
       "$\\displaystyle \\text{Is this system within the classical bound of correlations: False}$"
      ],
      "text/plain": [
       "<IPython.core.display.Math object>"
      ]
     },
     "metadata": {},
     "output_type": "display_data"
    }
   ],
   "source": [
    "from IPython.display import display, Math, Latex\n",
    "from qogpsi import *\n",
    "# States\n",
    "U = state(\"U\", label=\"u\")\n",
    "D = state(\"D\", label=\"d\")\n",
    "# Random Variables\n",
    "A1 = random_variable(\"A1\", states=[U,D])\n",
    "A2 = random_variable(\"A2\", states=[U,D])\n",
    "B1 = random_variable(\"B1\", states=[U,D])\n",
    "B2 = random_variable(\"B2\", states=[U,D])\n",
    "# Probability Space\n",
    "p_s = probability_space(\n",
    "    random_vars=[A1, A2, B1, B2], \n",
    "    states=[U,D])\n",
    "# FR Product\n",
    "FR = foulis_randall([\n",
    "    [A1,A2],\n",
    "    [B1,B2]])\n",
    "# Probabilistic Outcomes Of Joint Distribution\n",
    "p_s.event( \"A1|B1\", p={\n",
    "    \"U|U\" : 0.5,\n",
    "    \"D|D\" : 0.5\n",
    "})\n",
    "p_s.event( \"A1|B2\", p={\n",
    "    \"U|U\" : 0.5,\n",
    "    \"D|D\" : 0.5\n",
    "})\n",
    "p_s.event( \"A2|B1\", p={\n",
    "    \"U|U\" : 0.5,\n",
    "    \"D|D\" : 0.5\n",
    "})\n",
    "p_s.event( \"A2|B2\", p={\n",
    "    \"U|D\" : 0.5,\n",
    "    \"D|U\" : 0.5\n",
    "})\n",
    "# Assistant function for displaying the Foulis-Randall product\n",
    "def get_key(cood):\n",
    "    fr_map = {\n",
    "        \"\\{ a_1, b_1 \\}\" : [['1','0','0'],['0','0','0']],\n",
    "        \"\\{ a_1, b_2 \\}\" : [['1','0','1'],['0','0','0']],\n",
    "        \"\\{ a_1, b_3 \\}\" : [['1','1','0'],['0','0','0']],\n",
    "        \"\\{ a_1, b_4 \\}\" : [['1','1','1'],['0','0','0']],\n",
    "        \"\\{ a_2, b_1 \\}\" : [['1','0','0'],['0','0','1']],\n",
    "        \"\\{ a_2, b_2 \\}\" : [['1','0','1'],['0','0','1']],\n",
    "        \"\\{ a_2, b_3 \\}\" : [['1','1','0'],['0','0','1']],\n",
    "        \"\\{ a_2, b_4 \\}\" : [['1','1','1'],['0','0','1']],\n",
    "        \"\\{ a_3, b_1 \\}\" : [['1','0','0'],['0','1','0']],\n",
    "        \"\\{ a_3, b_2 \\}\" : [['1','0','1'],['0','1','0']],\n",
    "        \"\\{ a_3, b_3 \\}\" : [['1','1','0'],['0','1','0']],\n",
    "        \"\\{ a_3, b_4 \\}\" : [['1','1','1'],['0','1','0']],\n",
    "        \"\\{ a_4, b_1 \\}\" : [['1','0','0'],['0','1','1']],\n",
    "        \"\\{ a_4, b_2 \\}\" : [['1','0','1'],['0','1','1']],\n",
    "        \"\\{ a_4, b_3 \\}\" : [['1','1','0'],['0','1','1']],\n",
    "        \"\\{ a_4, b_4 \\}\" : [['1','1','1'],['0','1','1']] }\n",
    "    for k,v in fr_map.items():\n",
    "        if (v == cood):\n",
    "            return k\n",
    "hyperedges_string = \"H_A \\otimes H_B = \\{ \\\\\\\\\"\n",
    "for i in range(len(FR[0]['refactored_formal_hyperedges'])):\n",
    "    hyperedge_string = \"\"\n",
    "    for cood in FR[0]['refactored_formal_hyperedges'][i]:\n",
    "        hyperedge_string += get_key(cood)+\",\\;\"\n",
    "    hyperedges_string += \"\\{ \" +hyperedge_string[:-3] + \"\\},\\\\\\\\\"\n",
    "display(Math(hyperedges_string[:-3]+\" \\}\")) \n",
    "# Determining if the system is classical or contextual\n",
    "display(Math(\"\\\\text{Is this system within the classical bound of correlations: %s}\" % non_orthogonality(FR=FR[0]).is_classical(p_s)))\n"
   ]
  }
 ],
 "metadata": {
  "kernelspec": {
   "display_name": "Python 3",
   "language": "python",
   "name": "python3"
  },
  "language_info": {
   "codemirror_mode": {
    "name": "ipython",
    "version": 3
   },
   "file_extension": ".py",
   "mimetype": "text/x-python",
   "name": "python",
   "nbconvert_exporter": "python",
   "pygments_lexer": "ipython3",
   "version": "3.7.4"
  }
 },
 "nbformat": 4,
 "nbformat_minor": 4
}
